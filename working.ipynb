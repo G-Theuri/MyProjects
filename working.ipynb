{
 "cells": [
  {
   "cell_type": "code",
   "execution_count": 1,
   "metadata": {},
   "outputs": [],
   "source": [
    "import undetected_chromedriver as uc\n",
    "from selenium.webdriver.chrome.options import Options\n",
    "from selenium.webdriver.common.by import By\n",
    "from selenium.webdriver.support import expected_conditions as EC\n",
    "from selenium.webdriver.support.wait import WebDriverWait\n",
    "import os, shutil, openpyxl, csv, time\n",
    "import pandas as pd"
   ]
  },
  {
   "cell_type": "code",
   "execution_count": 2,
   "metadata": {},
   "outputs": [],
   "source": [
    "download_folder = 'C:/MyProjects/WebScraping/Upwork/Ahmad/Job2/downloads'\n",
    "options = uc.ChromeOptions()\n",
    "options.add_argument('--disable-popup-blocking')  # Optional: Disable popup blocking\n",
    "options.add_experimental_option(\"prefs\", {\n",
    "    \"download.default_directory\": download_folder,  # Set default download directory\n",
    "    \"download.prompt_for_download\": False,  # Disable download prompt\n",
    "    \"directory_upgrade\": True  # Ensure the folder is created if it doesn't exist\n",
    "})\n",
    "driver = uc.Chrome(options=options)\n",
    "driver.maximize_window()"
   ]
  },
  {
   "cell_type": "code",
   "execution_count": null,
   "metadata": {},
   "outputs": [],
   "source": [
    "driver.get('https://training.gov.au/search?searchText=&searchType=RTO')\n",
    "time.sleep(5)\n",
    "driver.get('https://training.gov.au/search?searchText=&searchType=RTO&status=0&status=2&rtoTypeCode=31&rtoTypeCode=21&rtoTypeCode=25&rtoTypeCode=27&rtoTypeCode=61&rtoTypeCode=51&rtoTypeCode=53&rtoTypeCode=91&rtoTypeCode=93&rtoTypeCode=95&rtoTypeCode=97&rtoTypeCode=99&deliveredLocationState=Vic')\n"
   ]
  },
  {
   "cell_type": "code",
   "execution_count": null,
   "metadata": {},
   "outputs": [
    {
     "name": "stdout",
     "output_type": "stream",
     "text": [
      "Current Page:  https://training.gov.au/organisation/details/0022\n",
      "Current Page:  https://training.gov.au/organisation/details/0049\n",
      "Current Page:  https://training.gov.au/organisation/details/0058\n",
      "Current Page:  https://training.gov.au/organisation/details/0080\n",
      "Current Page:  https://training.gov.au/organisation/details/0095\n"
     ]
    }
   ],
   "source": [
    "rtos = driver.find_elements(By.CSS_SELECTOR, 'div.row.gx-3 div.col-lg-8.col-12 div.mint-card')\n",
    "\n",
    "for rto in rtos[0:5]:\n",
    "    rto_url = rto.find_element(By.CSS_SELECTOR, 'div.card-inner div.card-copy a').get_attribute('href')\n",
    "    base_url = rto_url.replace('summary', '')\n",
    "    \n",
    "    wb = openpyxl.Workbook()\n",
    "    \n",
    "    \n",
    "    \n",
    "    #Open a new tab and load the rto_url then switch to that new tab\n",
    "    driver.execute_script(f\"window.open('{rto_url}', '_blank');\")\n",
    "    driver.switch_to.window(driver.window_handles[-1]) \n",
    "    print('Current Page: ',rto_url)\n",
    "    \n",
    "    \n",
    "    #Contacts tab\n",
    "    contacts =base_url + '/contacts'\n",
    "    driver.get(contacts)\n",
    "    contacts_data = {} #All data in the contacts tab is stored here.\n",
    "    \n",
    "    contacts_ws =wb.active \n",
    "    contacts_ws.title = 'contacts'  #Create the contacts worksheet\n",
    "\n",
    "    WebDriverWait(driver, 10).until(EC.presence_of_all_elements_located((By.XPATH, '//*[contains(@id, \"contactstab_11\")]/div/div/ul')))\n",
    "    contact_entries = driver.find_elements(By.XPATH, '//*[contains(@id, \"contactstab_11\")]/div/div/ul/li')\n",
    "    #print(len(contact_entries))\n",
    "    for entry in contact_entries:\n",
    "        category = entry.find_element(By.XPATH, './/h2').text\n",
    "        contacts_data[category] = {}\n",
    "        table_rows = entry.find_elements(By.XPATH, './/table/tbody/tr')\n",
    "        if table_rows:\n",
    "            for row in table_rows:\n",
    "                label = row.find_element(By.XPATH, './/td/strong').text\n",
    "                value = row.find_element(By.XPATH, './/td[2]').text\n",
    "                contacts_data[category][label] = value\n",
    "        else:\n",
    "            label = entry.find_element(By.XPATH, './/*[contains(@class, \"row mb-1 title\")]/div/strong').text.replace('s', '')\n",
    "            value = entry.find_element(By.XPATH, './/*[contains(@class, \"row gy-1 grid grid-2-column\")]/span').text\n",
    "            #print(f'{label} : {value}')\n",
    "            contacts_data[category][label] = value\n",
    "\n",
    "    unique_keys = set()\n",
    "    for cat, details in contacts_data.items():\n",
    "        unique_keys.update(details.keys())\n",
    "    headers = ['Categories']+ list(unique_keys)\n",
    "    contacts_ws.append(headers)\n",
    "\n",
    "    for cat, details in contacts_data.items():\n",
    "        row = [cat]\n",
    "        for key in headers[1:]:\n",
    "            row.append(details.get(key, ''))\n",
    "        contacts_ws.append(row)\n",
    "    \n",
    "    time.sleep(3)\n",
    "\n",
    "    #Addresses tab\n",
    "    addresses =base_url + '/addresses'\n",
    "    driver.get(addresses)\n",
    "\n",
    "    addresses_ws = wb.create_sheet(title='Delivery Location')  # Create the 'Delivery Location' sheet\n",
    "\n",
    "    try:\n",
    "        WebDriverWait(driver, 10).until(EC.presence_of_all_elements_located((By.XPATH, '//*[contains(@id, \"table--14\")]')))\n",
    "        address_table = driver.find_element(By.XPATH, '//*[contains(@id, \"table--14\")]')\n",
    "        headers = [header.text.replace('sortable\\nunfold_more', '').strip() for header in address_table.find_elements(By.XPATH, './/thead/tr/th')]\n",
    "        rows = address_table.find_elements(By.XPATH, './/tbody//tr')\n",
    "\n",
    "        # Extract address data\n",
    "        table_data = []\n",
    "        for row in rows:\n",
    "            cells = row.find_elements(By.XPATH, './/td')\n",
    "            row_data = [cell.text for cell in cells]\n",
    "            table_data.append(row_data)\n",
    "\n",
    "        \n",
    "        # Write the headers to the first row of the addresses sheet\n",
    "        for col_num, header in enumerate(headers, 1):\n",
    "            addresses_ws.cell(row=1, column=col_num, value=header)\n",
    "\n",
    "        # Write the data to the sheet starting from row 2\n",
    "        for row_num, row in enumerate(table_data, 2):\n",
    "            for col_num, cell_data in enumerate(row, 1):\n",
    "                addresses_ws.cell(row=row_num, column=col_num, value=cell_data)\n",
    "\n",
    "    except Exception as e:\n",
    "        pass\n",
    "        #print('No address table found at:', rto_url)\n",
    "\n",
    "\n",
    "# Save the workbook after populating both sheets\n",
    "    wb.save(f\"{rto_url.replace('https://training.gov.au/organisation/details/', '')}.xlsx\")\n",
    "\n",
    "    #Close that tab\n",
    "    driver.close()\n",
    "\n",
    "\n",
    "\n",
    "    #switch back to the main tab\n",
    "    driver.switch_to.window(driver.window_handles[0])\n",
    "    time.sleep(1)\n",
    "    #driver.quit()"
   ]
  },
  {
   "cell_type": "code",
   "execution_count": 6,
   "metadata": {},
   "outputs": [],
   "source": [
    "driver.quit()"
   ]
  },
  {
   "cell_type": "code",
   "execution_count": null,
   "metadata": {},
   "outputs": [],
   "source": []
  }
 ],
 "metadata": {
  "kernelspec": {
   "display_name": "Python 3",
   "language": "python",
   "name": "python3"
  },
  "language_info": {
   "codemirror_mode": {
    "name": "ipython",
    "version": 3
   },
   "file_extension": ".py",
   "mimetype": "text/x-python",
   "name": "python",
   "nbconvert_exporter": "python",
   "pygments_lexer": "ipython3",
   "version": "3.12.4"
  }
 },
 "nbformat": 4,
 "nbformat_minor": 2
}
