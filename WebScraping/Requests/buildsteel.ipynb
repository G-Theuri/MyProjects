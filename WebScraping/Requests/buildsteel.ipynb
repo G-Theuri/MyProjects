{
 "cells": [
  {
   "cell_type": "code",
   "execution_count": 1,
   "metadata": {},
   "outputs": [],
   "source": [
    "import requests\n",
    "import pandas as pd\n",
    "from bs4 import BeautifulSoup\n",
    "import json\n",
    "import time"
   ]
  },
  {
   "cell_type": "code",
   "execution_count": 2,
   "metadata": {},
   "outputs": [],
   "source": [
    "header = {\n",
    "        \"cookie\": \"__Secure-3PAPISID=-NNrWiRJcxjqQL3c/AgtFjZjx3Q9RV4bMB; __Secure-3PSID=g.a000nAhZ0dgxN3pYOD9gAy09MlnRQlJ8U8XhCSshz9793Ip7BjvgWVYjkU2Xz6XTWPyeIqJFqQACgYKAY8SARMSFQHGX2Mi8NTD1Pji_1mFqZHEhgpDfBoVAUF8yKqNTIYbfr4WGgBsrqtt4_6h0076; NID=517=yyC6nagzDx_PHAJmZYk_L35aMdwMwpndXIhpkGZQ3MxhPiPTJXxKm1fsM5XqrKvdfp7XY5HzV1unBkERiSQUSlzoRR_Oq1JMvKFVHrO539Vz8bPVmh9oJPOeHj7Kw2G6hJ7tzYKCRnfqvgbgtfR7cMquKHU6Kv99y5FsBS8D8lLp4dRV_thXlzV_-lfUYilB88c03DK4FU7d2FjXfri4Ba_oGRjT5bxwfMgDnjcXVe49dgunN1vYE16LhResZ1icKYvODAtHQlKuR5YuEobVxsOnGMIUa-0MTAx9gjli5LVoiGC8Y7xmfL-RdDfCq6OjiUrjAzsCEnL1mJpHrmwHSpZtpE-LLDLw6-TEj-8PL-TIObr1D8Coy6IcjZkuG68NCRl8RwL2DnASglit-iVnQF52buT-O9Z3_LGmedLR9IT5xcIUAmn04btl5RUoxg7PibEsxcwoVl69Buf_f2PqUH-wGKnrZTzZ_iLLrw-zBpZBrXLMSHYODvwhyTYJ2-Vh4WX216GiIcWZQEtqlM98FDNQNl9iPFVfKk5-HZJxb95a6l7NkoAH0wM49I1PsgLtiBMnpuTXXNBd5nAtiWDnETmXuEcZyhs0CCvM89lYIcddEcs38TYoPSDuOUM350jmgGmyhRbDbyd08a_lWY_LB_jSibIi5IbfIEN-XGCG9yanjpLPH6cMwia6d2kT3il1PpxWeJXYnuXB1hc2zCo6_EgRb8UhSvnCq8WgsSJtZaNGt3bXKI5cSj-MgNBkNgyJxRJlkj9C3FUqhg; __Secure-3PSIDTS=sidts-CjIBUFGoh0NtvnYV679rJLNX2V58Y8wSBMuZF3EgMxrrcySLFHpNq1NruEls6ZX-_Lx-jxAA; __Secure-3PSIDCC=AKEyXzXi_DxqFQqF1EN3icJUzOYCJ8eKszIZmF9ygUM3C65ZGWFIVOYnwaSKi0bUJxmkWW71kwA\",\n",
    "        \"authority\": \"analytics.google.com\",\n",
    "        \"sec-ch-ua\":'\"Not)A;Brand\";v=\"99\", \"Google Chrome\";v=\"127\", \"Chromium\";v=\"127\"',\n",
    "        \"user-agent\": \"Mozilla/5.0 (Windows NT 10.0; Win64; x64) AppleWebKit/537.36 (KHTML, like Gecko) Chrome/127.0.0.0 Safari/537.36\"\n",
    "    }\n",
    "url = 'https://buildsteel.org/products-and-providers/'"
   ]
  },
  {
   "cell_type": "code",
   "execution_count": 3,
   "metadata": {},
   "outputs": [],
   "source": [
    "response = requests.request(\"GET\", url, headers=header)\n",
    "soup = BeautifulSoup(response.text, 'html.parser')\n"
   ]
  },
  {
   "cell_type": "code",
   "execution_count": 4,
   "metadata": {},
   "outputs": [],
   "source": [
    "links = set()\n",
    "for profile in soup.find_all('div', {\"class\":'modal--wrap'}, 'h3'):\n",
    "    link = profile.find('a').get('href')\n",
    "    links.add(link)\n",
    "    \n"
   ]
  },
  {
   "cell_type": "code",
   "execution_count": 12,
   "metadata": {},
   "outputs": [
    {
     "name": "stderr",
     "output_type": "stream",
     "text": [
      "Some characters could not be decoded, and were replaced with REPLACEMENT CHARACTER.\n"
     ]
    },
    {
     "name": "stdout",
     "output_type": "stream",
     "text": [
      "None\n"
     ]
    }
   ],
   "source": [
    "headers = {\n",
    "    'authority':'bcp.crwdcntrl.net',\n",
    "    'scheme':'https',\n",
    "    'accept':'*/*',\n",
    "    'accept-encoding':'gzip, deflate, br, zstd',\n",
    "    'accept-language':'en-US,en;q=0.9',\n",
    "    'content-type':'text/plain;charset=UTF-8',\n",
    "    'cookie':'_cc_dc=1; _cc_id=2d57191c585181ec712fb248ba3d0f09; _cc_cc=\"ACZ4nGNQMEoxNTe0NEw2tTA1tDBMTTY3NEpLMjKxSEo0TjFIM7BkAIK088%2FbGBAAAE5tCyA%3D\"; _cc_aud=\"ABR4nGNgYGBIO%2F%2B8jQEOACC%2FAqM%3D\"',\n",
    "    'dnt':'1',\n",
    "    'origin':'https://buildsteel.org',\n",
    "    'referer':'https://buildsteel.org/',\n",
    "    'sec-ch-ua':'\"Chromium\";v=\"128\", \"Not;A=Brand\";v=\"24\", \"Google Chrome\";v=\"128\"',\n",
    "    'sec-fetch-site':'cross-site',\n",
    "    'user-agent':'Mozilla/5.0 (Windows NT 10.0; Win64; x64) AppleWebKit/537.36 (KHTML, like Gecko) Chrome/128.0.0.0 Safari/537.36',\n",
    "    }\n",
    "for page in list(links)[0:1]:\n",
    "    profile = requests.get(page, headers=headers)\n",
    "    soup1 = BeautifulSoup(profile.content, 'html.parser')\n",
    "    '''\n",
    "    data = {\n",
    "        'Name'\n",
    "        'Role'\n",
    "        'Address'\n",
    "        'Phone'\n",
    "        'Email'\n",
    "        'Website'\n",
    "        'Socials'\n",
    "        'Info':{\n",
    "             'About'\n",
    "             'Locations'\n",
    "             'About'\n",
    "             'Featured Products'\n",
    "        }\n",
    "    }\n",
    "    '''\n",
    "    print(soup.find('div', {'class':'widget supplier--hide-desktop'}))"
   ]
  }
 ],
 "metadata": {
  "kernelspec": {
   "display_name": "venv",
   "language": "python",
   "name": "python3"
  },
  "language_info": {
   "codemirror_mode": {
    "name": "ipython",
    "version": 3
   },
   "file_extension": ".py",
   "mimetype": "text/x-python",
   "name": "python",
   "nbconvert_exporter": "python",
   "pygments_lexer": "ipython3",
   "version": "3.11.4"
  }
 },
 "nbformat": 4,
 "nbformat_minor": 2
}
