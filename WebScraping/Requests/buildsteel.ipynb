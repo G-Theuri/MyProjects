{
 "cells": [
  {
   "cell_type": "code",
   "execution_count": 66,
   "metadata": {},
   "outputs": [],
   "source": [
    "import requests\n",
    "import pandas as pd\n",
    "from bs4 import BeautifulSoup\n",
    "import time\n",
    "alldata = []"
   ]
  },
  {
   "cell_type": "code",
   "execution_count": 67,
   "metadata": {},
   "outputs": [],
   "source": [
    "header = {\n",
    "        \"cookie\": \"__Secure-3PAPISID=-NNrWiRJcxjqQL3c/AgtFjZjx3Q9RV4bMB; __Secure-3PSID=g.a000nAhZ0dgxN3pYOD9gAy09MlnRQlJ8U8XhCSshz9793Ip7BjvgWVYjkU2Xz6XTWPyeIqJFqQACgYKAY8SARMSFQHGX2Mi8NTD1Pji_1mFqZHEhgpDfBoVAUF8yKqNTIYbfr4WGgBsrqtt4_6h0076; NID=517=yyC6nagzDx_PHAJmZYk_L35aMdwMwpndXIhpkGZQ3MxhPiPTJXxKm1fsM5XqrKvdfp7XY5HzV1unBkERiSQUSlzoRR_Oq1JMvKFVHrO539Vz8bPVmh9oJPOeHj7Kw2G6hJ7tzYKCRnfqvgbgtfR7cMquKHU6Kv99y5FsBS8D8lLp4dRV_thXlzV_-lfUYilB88c03DK4FU7d2FjXfri4Ba_oGRjT5bxwfMgDnjcXVe49dgunN1vYE16LhResZ1icKYvODAtHQlKuR5YuEobVxsOnGMIUa-0MTAx9gjli5LVoiGC8Y7xmfL-RdDfCq6OjiUrjAzsCEnL1mJpHrmwHSpZtpE-LLDLw6-TEj-8PL-TIObr1D8Coy6IcjZkuG68NCRl8RwL2DnASglit-iVnQF52buT-O9Z3_LGmedLR9IT5xcIUAmn04btl5RUoxg7PibEsxcwoVl69Buf_f2PqUH-wGKnrZTzZ_iLLrw-zBpZBrXLMSHYODvwhyTYJ2-Vh4WX216GiIcWZQEtqlM98FDNQNl9iPFVfKk5-HZJxb95a6l7NkoAH0wM49I1PsgLtiBMnpuTXXNBd5nAtiWDnETmXuEcZyhs0CCvM89lYIcddEcs38TYoPSDuOUM350jmgGmyhRbDbyd08a_lWY_LB_jSibIi5IbfIEN-XGCG9yanjpLPH6cMwia6d2kT3il1PpxWeJXYnuXB1hc2zCo6_EgRb8UhSvnCq8WgsSJtZaNGt3bXKI5cSj-MgNBkNgyJxRJlkj9C3FUqhg; __Secure-3PSIDTS=sidts-CjIBUFGoh0NtvnYV679rJLNX2V58Y8wSBMuZF3EgMxrrcySLFHpNq1NruEls6ZX-_Lx-jxAA; __Secure-3PSIDCC=AKEyXzXi_DxqFQqF1EN3icJUzOYCJ8eKszIZmF9ygUM3C65ZGWFIVOYnwaSKi0bUJxmkWW71kwA\",\n",
    "        \"authority\": \"analytics.google.com\",\n",
    "        \"sec-ch-ua\":'\"Not)A;Brand\";v=\"99\", \"Google Chrome\";v=\"127\", \"Chromium\";v=\"127\"',\n",
    "        \"user-agent\": \"Mozilla/5.0 (Windows NT 10.0; Win64; x64) AppleWebKit/537.36 (KHTML, like Gecko) Chrome/127.0.0.0 Safari/537.36\"\n",
    "    }\n",
    "url = 'https://buildsteel.org/products-and-providers/'"
   ]
  },
  {
   "cell_type": "code",
   "execution_count": 68,
   "metadata": {},
   "outputs": [],
   "source": [
    "response = requests.request(\"GET\", url, headers=header)\n",
    "soup = BeautifulSoup(response.text, 'html.parser')\n"
   ]
  },
  {
   "cell_type": "code",
   "execution_count": 69,
   "metadata": {},
   "outputs": [],
   "source": [
    "links = set()\n",
    "for profile in soup.find_all('div', {\"class\":'modal--wrap'}, 'h3'):\n",
    "    link = profile.find('a').get('href')\n",
    "    links.add(link)"
   ]
  },
  {
   "cell_type": "code",
   "execution_count": 77,
   "metadata": {},
   "outputs": [],
   "source": [
    "\n",
    "headers = {\n",
    "    'content-type':'text/plain;charset=UTF-8',\n",
    "    'dnt':'1',\n",
    "    'referer':'https://buildsteel.org/',\n",
    "    'sec-ch-ua':'\"Chromium\";v=\"128\", \"Not;A=Brand\";v=\"24\", \"Google Chrome\";v=\"128\"',\n",
    "    'user-agent':'Mozilla/5.0 (Windows NT 10.0; Win64; x64) AppleWebKit/537.36 (KHTML, like Gecko) Chrome/128.0.0.0 Safari/537.36',\n",
    "    }\n",
    "for page in list(links):\n",
    "    profile = requests.get(page, headers=headers)\n",
    "    soup1 = BeautifulSoup(profile.content, 'html.parser')\n",
    "    \n",
    "    try:\n",
    "        Name = soup1.select_one('#container > header > div > div.body > h1').getText()\n",
    "    except:\n",
    "        Name=None\n",
    "    try:\n",
    "        contact = soup1.select_one('div div.widget.supplier--hide-mobile p').getText().split('\\n')\n",
    "    except:\n",
    "        contact=None\n",
    "    try:\n",
    "        Phone = soup1.select_one('div div.widget.supplier--hide-mobile p:nth-of-type(2) a').get_text()\n",
    "    except:\n",
    "        Phone=None\n",
    "    try:\n",
    "        Email = soup1.select_one('div div.widget.supplier--hide-mobile p:nth-child(4) a').get_text()\n",
    "    except:\n",
    "        Email=None\n",
    "    try:\n",
    "        Website = soup1.select('div div.widget.supplier--hide-mobile p:nth-child(3) a')[2].get('href')\n",
    "    except:\n",
    "        Website=None\n",
    "    try:\n",
    "        facebook = soup1.select_one('div div.widget.widget.supplier--hide-mobile p:nth-child(3) a.facebook').get('href')\n",
    "    except:\n",
    "        facebook=None\n",
    "    try:\n",
    "        instagram = soup1.select_one('div div.widget.supplier--hide-mobile p:nth-child(3) a.instagram').get('href')\n",
    "    except:\n",
    "        instagram=None\n",
    "    try:\n",
    "        linkedin = soup1.select_one('div div.widget.supplier--hide-mobile p:nth-child(3) a.linkedin').get('href')\n",
    "    except:\n",
    "        linkedin=None\n",
    "    try:\n",
    "        twitter = soup1.select_one('div div.widget.supplier--hide-mobile p:nth-child(3) a.twitter').get('href')\n",
    "    except:\n",
    "        twitter=None\n",
    "    try:\n",
    "        youtube = soup1.select_one('div div.widget.supplier--hide-mobile p:nth-child(3) a.youtube').get('href')\n",
    "    except:\n",
    "        youtube=None\n",
    "    try:\n",
    "        Products = soup1.select('#post-area > div.content > ul')[0].getText().split('\\n')\n",
    "    except:\n",
    "        Products=None\n",
    "\n",
    "\n",
    "    data = {\n",
    "        'Company-Name': Name,\n",
    "        'Contact': contact,\n",
    "        'Phone':Phone,\n",
    "        'Email':Email,\n",
    "        'Website':Website,\n",
    "        'Socials':{\n",
    "                'facebook':facebook,\n",
    "                'instagram':instagram,\n",
    "                'linkedin':linkedin,\n",
    "                'twitter':twitter,\n",
    "                'youtube':youtube,\n",
    "            },\n",
    "        'Featured-Products': Products\n",
    "            \n",
    "        }\n",
    "    alldata.append(data)\n",
    "    time.sleep(1)\n",
    "    "
   ]
  },
  {
   "cell_type": "code",
   "execution_count": 78,
   "metadata": {},
   "outputs": [],
   "source": [
    "df= pd.DataFrame(alldata)\n",
    "df.to_csv('buildsteel.csv', index=False)"
   ]
  },
  {
   "cell_type": "code",
   "execution_count": 1,
   "metadata": {},
   "outputs": [],
   "source": [
    "#The website was not well structured. It was hard to parse data."
   ]
  }
 ],
 "metadata": {
  "kernelspec": {
   "display_name": "venv",
   "language": "python",
   "name": "python3"
  },
  "language_info": {
   "codemirror_mode": {
    "name": "ipython",
    "version": 3
   },
   "file_extension": ".py",
   "mimetype": "text/x-python",
   "name": "python",
   "nbconvert_exporter": "python",
   "pygments_lexer": "ipython3",
   "version": "3.11.4"
  }
 },
 "nbformat": 4,
 "nbformat_minor": 2
}
