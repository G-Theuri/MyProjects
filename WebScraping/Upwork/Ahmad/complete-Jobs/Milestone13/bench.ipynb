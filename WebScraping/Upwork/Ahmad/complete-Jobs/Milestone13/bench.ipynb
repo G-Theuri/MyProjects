{
 "cells": [
  {
   "cell_type": "code",
   "execution_count": 4,
   "metadata": {},
   "outputs": [],
   "source": [
    "import scrapy\n",
    "from scrapy.crawler import CrawlerProcess\n",
    "from rich import print as rprint\n",
    "import undetected_chromedriver as uc\n",
    "from selenium.webdriver.chrome.options import Options\n",
    "from selenium.webdriver.support.wait import WebDriverWait\n",
    "from selenium.webdriver.support import expected_conditions as EC\n",
    "from selenium.webdriver.common.by import By\n",
    "from scrapy.http import HtmlResponse\n",
    "from urllib.parse import urlparse, urlunparse\n",
    "import time"
   ]
  },
  {
   "cell_type": "code",
   "execution_count": 5,
   "metadata": {},
   "outputs": [],
   "source": [
    "# Set up Chrome options for headless mode\n",
    "chrome_options = uc.ChromeOptions()\n",
    "#chrome_options.add_argument(\"--headless\")  # Run Chrome in headless mode\n",
    "driver = uc.Chrome(options=chrome_options)"
   ]
  },
  {
   "cell_type": "code",
   "execution_count": 6,
   "metadata": {},
   "outputs": [],
   "source": [
    "driver.get(\"https://www.benchmasterfurniture.com/all-recliners/euro-line/happy-7717e\")"
   ]
  },
  {
   "cell_type": "code",
   "execution_count": 16,
   "metadata": {},
   "outputs": [],
   "source": [
    "all_images = {}"
   ]
  },
  {
   "cell_type": "code",
   "execution_count": 24,
   "metadata": {},
   "outputs": [
    {
     "data": {
      "text/plain": [
       "{'swatches': {},\n",
       " 'Taupe 032': ['https://www.benchmasterfurniture.com/assets/img/all-recliners/800x800/7717e-taupe.webp',\n",
       "  'https://www.benchmasterfurniture.com/assets/img/all-recliners/800x800/7717e-taupe-front.webp',\n",
       "  'https://www.benchmasterfurniture.com/assets/img/all-recliners/800x800/7717e-taupe-front-no-ottoman.webp',\n",
       "  'https://www.benchmasterfurniture.com/assets/img/all-recliners/800x800/7717e-taupe-side.webp',\n",
       "  'https://www.benchmasterfurniture.com/assets/img/all-recliners/800x800/7717e-taupe-side-recline.webp'],\n",
       " 'Kona Brown 073': ['https://www.benchmasterfurniture.com/assets/img/all-recliners/800x800/7717e-kona-brown.webp',\n",
       "  'https://www.benchmasterfurniture.com/assets/img/all-recliners/800x800/7717e-kona-brown-front.webp',\n",
       "  'https://www.benchmasterfurniture.com/assets/img/all-recliners/800x800/7717e-kona-brown-front-no-ottoman.webp',\n",
       "  'https://www.benchmasterfurniture.com/assets/img/all-recliners/800x800/7717e-kona-brown-side.webp',\n",
       "  'https://www.benchmasterfurniture.com/assets/img/all-recliners/800x800/7717e-kona-brown-side-recline.webp'],\n",
       " 'Iro Grey 088': ['https://www.benchmasterfurniture.com/assets/img/all-recliners/800x800/7717e-iron-grey.webp',\n",
       "  'https://www.benchmasterfurniture.com/assets/img/all-recliners/800x800/7717e-iron-grey-front.webp',\n",
       "  'https://www.benchmasterfurniture.com/assets/img/all-recliners/800x800/7717e-iron-grey-front-no-ottoman.webp',\n",
       "  'https://www.benchmasterfurniture.com/assets/img/all-recliners/800x800/7717e-iron-grey-side.webp',\n",
       "  'https://www.benchmasterfurniture.com/assets/img/all-recliners/800x800/7717e-iron-grey-side-recline.webp']}"
      ]
     },
     "execution_count": 24,
     "metadata": {},
     "output_type": "execute_result"
    }
   ],
   "source": [
    "\n",
    "swatches = driver.find_elements(By.XPATH, '//*[@class=\"cover col-md-8\"]/div[@class=\"swatches\"]/div/div')\n",
    "if swatches:\n",
    "    for swatch in swatches:\n",
    "        time.sleep(3)\n",
    "        WebDriverWait(driver, 8).until(EC.visibility_of_element_located((By.XPATH, '//*[@class=\"cover col-md-8\"]/div[@class=\"swatches\"]/div/div')))\n",
    "        try:\n",
    "            swatch.find_element(By.XPATH,'./img').click()\n",
    "            time.sleep(5)\n",
    "        except:\n",
    "            swatch.click()\n",
    "            time.sleep(5)\n",
    "\n",
    "        swatch_name = swatch.find_element(By.XPATH,'./p').text\n",
    "        images = driver.find_elements(By.XPATH, '//*[@class=\"slick-list draggable\"]/div[@class=\"slick-track\"]/a')\n",
    "        urls= []\n",
    "        for image in images:\n",
    "            base_url = 'https://www.benchmasterfurniture.com/'\n",
    "            url = image.get_attribute('href').replace('../../', base_url)\n",
    "            urls.append(url)\n",
    "        all_images[swatch_name.replace('\\n', ' ')] = urls\n",
    "elif driver.find_elements(By.XPATH, '//*[@class=\"cover col-md-7\"]/div[@class=\"swatches\"]/div/div'):\n",
    "    swatches = driver.find_elements(By.XPATH, '//*[@class=\"cover col-md-7\"]/div[@class=\"swatches\"]/div/div')\n",
    "    for swatch in swatches:\n",
    "        WebDriverWait(driver, 8).until(EC.visibility_of_element_located((By.XPATH, '//*[@class=\"cover col-md-7\"]/div[@class=\"swatches\"]/div/div')))\n",
    "        try:\n",
    "            swatch.find_element(By.XPATH,'./img').click()\n",
    "            time.sleep(5)\n",
    "        except:\n",
    "            swatch.click()\n",
    "            time.sleep(5)\n",
    "        swatch_name = swatch.find_element(By.XPATH,'./p').text\n",
    "        print(swatch_name)\n",
    "        images = driver.find_elements(By.XPATH, '//*[@class=\"slick-list draggable\"]/div[@class=\"slick-track\"]/a')\n",
    "        for image in images:\n",
    "            base_url = 'https://www.benchmasterfurniture.com/'\n",
    "            url = image.get_attribute('href').replace('../../', base_url)\n",
    "            print(url)\n",
    "elif driver.find_elements(By.XPATH, '//*[@class=\"cover col-md-6\"]/div[@class=\"swatches\"]/div/div'):\n",
    "    swatches = driver.find_elements(By.XPATH, '//*[@class=\"cover col-md-6\"]/div[@class=\"swatches\"]/div/div')\n",
    "    for swatch in swatches:\n",
    "        WebDriverWait(driver, 8).until(EC.visibility_of_element_located((By.XPATH, '//*[@class=\"cover col-md-6\"]/div[@class=\"swatches\"]/div/div')))\n",
    "        try:\n",
    "            swatch.find_element(By.XPATH,'./img').click()\n",
    "            time.sleep(5)\n",
    "        except:\n",
    "            swatch.click()\n",
    "            time.sleep(5)\n",
    "        swatch_name = swatch.find_element(By.XPATH,'./p').text\n",
    "        print(swatch_name)\n",
    "        images = driver.find_elements(By.XPATH, '//*[@class=\"main_img\"]/div/ul[@class=\"thumb-nav\"]/li/img')\n",
    "        if images:\n",
    "            for image in images:\n",
    "                base_url = 'https://www.benchmasterfurniture.com/'\n",
    "                url = image.get_attribute('src').replace('../../', base_url).replace('/80x80/', '/800x800/')\n",
    "                print(url)\n",
    "        else:\n",
    "            images = driver.find_elements(By.XPATH, '//*[@class=\"slick-list draggable\"]/div[@class=\"slick-track\"]/a')\n",
    "            for image in images:\n",
    "                base_url = 'https://www.benchmasterfurniture.com/'\n",
    "                url = image.get_attribute('href').replace('../../', base_url)\n",
    "                print(url)\n",
    "\n",
    "all_images"
   ]
  },
  {
   "cell_type": "code",
   "execution_count": 26,
   "metadata": {},
   "outputs": [],
   "source": [
    "driver.quit()\n"
   ]
  }
 ],
 "metadata": {
  "kernelspec": {
   "display_name": "venv",
   "language": "python",
   "name": "python3"
  },
  "language_info": {
   "codemirror_mode": {
    "name": "ipython",
    "version": 3
   },
   "file_extension": ".py",
   "mimetype": "text/x-python",
   "name": "python",
   "nbconvert_exporter": "python",
   "pygments_lexer": "ipython3",
   "version": "3.12.4"
  }
 },
 "nbformat": 4,
 "nbformat_minor": 2
}
