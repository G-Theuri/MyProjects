{
 "cells": [
  {
   "cell_type": "code",
   "execution_count": 23,
   "metadata": {},
   "outputs": [],
   "source": [
    "import undetected_chromedriver as uc\n",
    "from selenium.webdriver.chrome.options import Options\n",
    "from selenium.webdriver.common.by import By\n",
    "from selenium.webdriver.support import expected_conditions as EC\n",
    "from selenium.webdriver.support.wait import WebDriverWait\n",
    "import os, shutil, openpyxl, csv, time\n",
    "import pandas as pd"
   ]
  },
  {
   "cell_type": "code",
   "execution_count": 13,
   "metadata": {},
   "outputs": [],
   "source": [
    "download_folder = 'C:/MyProjects/WebScraping/Upwork/Ahmad/Job2/downloads'"
   ]
  },
  {
   "cell_type": "code",
   "execution_count": 20,
   "metadata": {},
   "outputs": [],
   "source": [
    "options = uc.ChromeOptions()\n",
    "options.add_argument('--disable-popup-blocking')  # Optional: Disable popup blocking\n",
    "options.add_experimental_option(\"prefs\", {\n",
    "    \"download.default_directory\": download_folder,  # Set default download directory\n",
    "    \"download.prompt_for_download\": False,  # Disable download prompt\n",
    "    \"directory_upgrade\": True  # Ensure the folder is created if it doesn't exist\n",
    "})\n",
    "driver = uc.Chrome(options=options)\n",
    "driver.maximize_window()"
   ]
  },
  {
   "cell_type": "code",
   "execution_count": 21,
   "metadata": {},
   "outputs": [],
   "source": [
    "driver.get('https://training.gov.au/search?searchText=&searchType=RTO')\n",
    "time.sleep(5)\n",
    "driver.get('https://training.gov.au/search?searchText=&searchType=RTO&status=0&status=2&rtoTypeCode=31&rtoTypeCode=21&rtoTypeCode=25&rtoTypeCode=27&rtoTypeCode=61&rtoTypeCode=51&rtoTypeCode=53&rtoTypeCode=91&rtoTypeCode=93&rtoTypeCode=95&rtoTypeCode=97&rtoTypeCode=99&deliveredLocationState=Vic')\n"
   ]
  },
  {
   "cell_type": "code",
   "execution_count": null,
   "metadata": {},
   "outputs": [
    {
     "name": "stdout",
     "output_type": "stream",
     "text": [
      "Current Page:  https://training.gov.au/organisation/details/0022\n",
      "Headers:  ['Location name', 'Address', 'Town', 'State', 'Postcode', 'Country']\n",
      "['Adelaide Training and Employment Centre Inc', '275 Grand Junction Road', 'Ottoway', 'SA', '5013', 'AUS']\n",
      "['Adelaide Training and Employment Centre Inc', '5 Refinery Road', 'Lonsdale', 'SA', '5160', 'AUS']\n",
      "Current Page:  https://training.gov.au/organisation/details/0049\n",
      "Current Page:  https://training.gov.au/organisation/details/0058\n",
      "Current Page:  https://training.gov.au/organisation/details/0080\n",
      "Headers:  ['Location name', 'Address', 'Town', 'State', 'Postcode', 'Country']\n",
      "['Heather Langton Academy of Beauty Therapy', '181 Gilles St', 'ADELAIDE', 'SA', '5000', 'AUS']\n",
      "Current Page:  https://training.gov.au/organisation/details/0095\n",
      "Headers:  ['Location name', 'Address', 'Town', 'State', 'Postcode', 'Country']\n",
      "['Gess Education', 'Australia Fair, 40 Marine Pde', 'SOUTHPORT', 'QLD', '4215', 'AUS']\n",
      "['CBCI and GESS EDUCATION', '91 Mulgrave Rd', 'Parramatta Park', 'QLD', '4870', 'AUS']\n"
     ]
    }
   ],
   "source": [
    "rtos = driver.find_elements(By.CSS_SELECTOR, 'div.row.gx-3 div.col-lg-8.col-12 div.mint-card')\n",
    "\n",
    "for rto in rtos[0:5]:\n",
    "    rto_url = rto.find_element(By.CSS_SELECTOR, 'div.card-inner div.card-copy a').get_attribute('href')\n",
    "    base_url = rto_url.replace('summary', '')\n",
    "    \n",
    "    wb = openpyxl.Workbook()\n",
    "    \n",
    "    \n",
    "    \n",
    "    #Open a new tab and load the rto_url then switch to that new tab\n",
    "    driver.execute_script(f\"window.open('{rto_url}', '_blank');\")\n",
    "    driver.switch_to.window(driver.window_handles[-1]) \n",
    "    print('Current Page: ',rto_url)\n",
    "    \n",
    "    \n",
    "   \n",
    "\n",
    "    \n",
    "    '''# Scope Overview Tab - Download CSV\n",
    "    scope_overview = base_url + '/scope_overview'\n",
    "    driver.get(scope_overview)\n",
    "\n",
    "    try:\n",
    "        dropdown_trigger = driver.find_element(By.XPATH, '//*button[contains(@id, \"trigger-button_92\")]')  # Replace with actual element locator if different\n",
    "        dropdown_trigger.click()\n",
    "\n",
    "        # Wait for the dropdown options to appear\n",
    "        #WebDriverWait(driver, 10).until(EC.presence_of_element_located((By.XPATH, '//*[contains(@id, \"list-id_91\")]')))\n",
    "        print('Seen')\n",
    "        # Now find and click the \"Export all as CSV\" option\n",
    "        export_all_csv_button = driver.find_element(By.XPATH, '//button[contains(text(), \"Export all as CSV\")]')\n",
    "        export_all_csv_button.click()\n",
    "\n",
    "        # Wait for the file download to complete (adjust time as needed)\n",
    "        time.sleep(5)\n",
    "        # Check for downloaded CSV file\n",
    "        downloaded_files = os.listdir(download_folder)\n",
    "        csv_file = None\n",
    "        for file in downloaded_files:\n",
    "            if file.endswith('.csv'):\n",
    "                csv_file = os.path.join(download_folder, file)\n",
    "                break\n",
    "\n",
    "        if csv_file:\n",
    "            print(f\"CSV file downloaded: {csv_file}\")\n",
    "            # Read CSV into a DataFrame\n",
    "            df = pd.read_csv(csv_file)\n",
    "\n",
    "            # Create a new sheet for the CSV data\n",
    "            scope_ws = wb.create_sheet(title='scope_overview')\n",
    "\n",
    "            # Write CSV data into the sheet\n",
    "            for row in pd.DataFrame(df).itertuples(index=False, name=None):\n",
    "                scope_ws.append(row)\n",
    "\n",
    "            # Optionally delete the downloaded CSV file after reading it\n",
    "            os.remove(csv_file)\n",
    "        else:\n",
    "            print(\"No CSV file found in the download folder.\")\n",
    "\n",
    "    except Exception as e:\n",
    "        print(\"Error downloading CSV:\", rto_url)\n",
    "    '''\n",
    "\n",
    "    # Save the workbook after populating both sheets\n",
    "    wb.save(f\"{rto_url.replace('https://training.gov.au/organisation/details/', '')}.xlsx\")\n",
    "\n",
    "    #Close that tab\n",
    "    driver.close()\n",
    "\n",
    "\n",
    "\n",
    "    #switch back to the main tab\n",
    "    driver.switch_to.window(driver.window_handles[0])\n",
    "    time.sleep(1)\n",
    "    #driver.quit()"
   ]
  },
  {
   "cell_type": "code",
   "execution_count": 37,
   "metadata": {},
   "outputs": [],
   "source": [
    "driver.quit()"
   ]
  },
  {
   "cell_type": "code",
   "execution_count": null,
   "metadata": {},
   "outputs": [],
   "source": [
    "#visit the addresses tab\n",
    "    addresses =base_url + '/addresses'\n",
    "    driver.get(addresses)\n",
    "    addresses_sheet = wb.create_sheet('addresses')\n",
    "\n",
    "    time.sleep(3)\n",
    "\n",
    "    #visit the scope_overview tab\n",
    "    scope_overview = base_url + '/scope_overview'\n",
    "    driver.get(scope_overview)\n",
    "    scope_sheet = wb.create_sheet('scope_overview')\n",
    "    time.sleep(3)\n",
    "\n",
    "    #visit the qualifications tab\n",
    "    qualifications = base_url + '/qualifications'\n",
    "    driver.get(qualifications)\n",
    "    q_sheet = wb.create_sheet('qualifications')\n",
    "    time.sleep(3)\n",
    "\n",
    "    #visit the skill_sets tab\n",
    "    skill_sets =base_url + '/skill_sets'\n",
    "    driver.get(skill_sets)\n",
    "    skills_sheet = wb.create_sheet('skill_sets')\n",
    "    time.sleep(3)\n",
    "\n",
    "    #visit the units tab\n",
    "    units = base_url + '/units'\n",
    "    driver.get(units)\n",
    "    units_sheet = wb.create_sheet('units')\n",
    "    time.sleep(3)\n",
    "\n",
    "    #visit the courses tab\n",
    "    courses = base_url + '/courses'\n",
    "    driver.get(courses)\n",
    "    courses_sheet = wb.create_sheet('courses')\n",
    "    time.sleep(3)"
   ]
  },
  {
   "cell_type": "code",
   "execution_count": 1,
   "metadata": {},
   "outputs": [],
   "source": [
    "#contact_name = entry.find_element(By.XPATH, './/table').text\n",
    "        #job_title = entry.find_element(By.XPATH, './/h2').text\n",
    "        #organisation_name = entry.find_element(By.XPATH, './/h2').text\n",
    "        #phone = entry.find_element(By.XPATH, './/h2').text\n",
    "        #fax = entry.find_element(By.XPATH, './/h2').text\n",
    "        #email = entry.find_element(By.XPATH, './/h2').text\n",
    "        #address = entry.find_element(By.XPATH, './/h2').text"
   ]
  }
 ],
 "metadata": {
  "kernelspec": {
   "display_name": "Python 3",
   "language": "python",
   "name": "python3"
  },
  "language_info": {
   "codemirror_mode": {
    "name": "ipython",
    "version": 3
   },
   "file_extension": ".py",
   "mimetype": "text/x-python",
   "name": "python",
   "nbconvert_exporter": "python",
   "pygments_lexer": "ipython3",
   "version": "3.12.4"
  }
 },
 "nbformat": 4,
 "nbformat_minor": 2
}
