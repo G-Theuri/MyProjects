{
 "cells": [
  {
   "cell_type": "code",
   "execution_count": 45,
   "metadata": {},
   "outputs": [],
   "source": [
    "from curl_cffi import requests as cureq\n",
    "from rich import print as rprint\n",
    "from lxml import html\n"
   ]
  },
  {
   "cell_type": "code",
   "execution_count": 46,
   "metadata": {},
   "outputs": [],
   "source": [
    "header = {\n",
    "    \"cookie\":'_I_=3ea25219599ce15ff2477f03ec85dd3a-1731734532; _gid=GA1.2.2123595520.1731734534; _gat_gtag_UA_42671107_1=1; _ga_DNZ9VE4NG3=GS1.1.1731734534.1.1.1731735299.0.0.0; _ga=GA1.1.1330993192.1731734534',\n",
    "    \"authority\": 'huntingtonhouse.com',\n",
    "    \"sec-ch-ua\":'\"Chromium\";v=\"130\", \"Google Chrome\";v=\"130\", \"Not?A_Brand\";v=\"99\"',\n",
    "    \"user-agent\":'Mozilla/5.0 (Windows NT 10.0; Win64; x64) AppleWebKit/537.36 (KHTML, like Gecko) Chrome/130.0.0.0 Safari/537.36',    \n",
    "}\n"
   ]
  },
  {
   "cell_type": "code",
   "execution_count": null,
   "metadata": {},
   "outputs": [],
   "source": [
    "categories = {\n",
    "    \"Living\": {\n",
    "        \"Sofas\": 128, \"Chairs\": 138, \"Swivels / Swivel Gliders\": 154, \"Settees\": 4816,\n",
    "        \"Loveseats\": 135, \"Sleeper Sofas\": 203, \"Ottomans\": 142\n",
    "    },\n",
    "    \"Motion & Recliners\": {\n",
    "        \"Recliners\": 163, \"Motion Sofas\": 4820\n",
    "    },\n",
    "    \"Dining\": {\n",
    "        \"Host Chairs\": 5428, \"Side Chairs\": 5429,\n",
    "        \"Bar Stools\": 5430, \"Counter Stools\": 5431\n",
    "    }\n",
    "}"
   ]
  },
  {
   "cell_type": "code",
   "execution_count": 47,
   "metadata": {},
   "outputs": [],
   "source": [
    "url = 'https://huntingtonhouse.com/products/1100-50-panel/'\n",
    "response = cureq.get(url=url, impersonate='chrome', headers=header)"
   ]
  },
  {
   "cell_type": "code",
   "execution_count": 54,
   "metadata": {},
   "outputs": [
    {
     "data": {
      "text/html": [
       "<pre style=\"white-space:pre;overflow-x:auto;line-height:normal;font-family:Menlo,'DejaVu Sans Mono',consolas,'Courier New',monospace\"><span style=\"color: #0000ff; text-decoration-color: #0000ff; text-decoration: underline\">https://huntingtonhouse.com/products/1100-50-panel/</span>\n",
       "</pre>\n"
      ],
      "text/plain": [
       "\u001b[4;94mhttps://huntingtonhouse.com/products/1100-50-panel/\u001b[0m\n"
      ]
     },
     "metadata": {},
     "output_type": "display_data"
    }
   ],
   "source": [
    "rprint(response.url)"
   ]
  },
  {
   "cell_type": "code",
   "execution_count": 48,
   "metadata": {},
   "outputs": [
    {
     "name": "stdout",
     "output_type": "stream",
     "text": [
      "0\n"
     ]
    }
   ],
   "source": [
    "tree = html.fromstring(response.content)\n",
    "#categories = tree.xpath('//*[@id=\"mega-menu-item-13264\"]/ul/li')\n",
    "images  = tree.xpath('//*[@id=\"main-content\"]/div/div/div[1]/div/div/div[3]/div/div/div[3]/div')\n",
    "#base_url = 'https://huntingtonhouse.com'\n",
    "print(len(images))"
   ]
  },
  {
   "cell_type": "code",
   "execution_count": 59,
   "metadata": {},
   "outputs": [
    {
     "data": {
      "text/plain": [
       "'coyotegray'"
      ]
     },
     "execution_count": 59,
     "metadata": {},
     "output_type": "execute_result"
    }
   ],
   "source": [
    "url = 'https://huntingtonhouse.com/fabric/coyotegray/'\n",
    "url.split('/')[-2]\n"
   ]
  },
  {
   "cell_type": "code",
   "execution_count": null,
   "metadata": {},
   "outputs": [
    {
     "name": "stdout",
     "output_type": "stream",
     "text": [
      "6\n",
      "Collections || https://huntingtonhouse.com/collections\n",
      "Sofas || https://huntingtonhouse.com/shop/sofa/\n",
      "Sectionals || https://huntingtonhouse.comhttps://huntingtonhouse.com/collections/sectionals/\n",
      "Chairs || https://huntingtonhouse.com/shop/chair/\n",
      "Swivels / Swivel Gliders || https://huntingtonhouse.com/shop/swivel/\n",
      "Settees || https://huntingtonhouse.comhttps://huntingtonhouse.com/shop/settee/\n",
      "5\n",
      "Loveseats || https://huntingtonhouse.com/shop/love-seat/\n",
      "Sleeper Sofas || https://huntingtonhouse.com/shop/sleeper/\n",
      "Ottomans || https://huntingtonhouse.com/shop/ottoman/\n",
      "Custom Upholstery || https://huntingtonhouse.comhttps://huntingtonhouse.com/collections/dyo-solutions/\n",
      "Custom Cocktail Ottomans || https://huntingtonhouse.comhttps://huntingtonhouse.com/collections/dyo-ottomans/\n"
     ]
    }
   ],
   "source": [
    "for living in categories[0:2]:\n",
    "    category_name ='Living'\n",
    "    types = living.xpath('./ul[@class=\"mega-sub-menu\"]/li')\n",
    "    print(len(types))\n",
    "    for type in types:\n",
    "        type_name = type.xpath('./a/text()')[0]\n",
    "        type_link = type.xpath('./a/@href')[0]\n",
    "        type_url = (base_url + type_link) if type_link else None\n",
    "        print(f'{type_name} || {type_url}')\n",
    "        params = {'category': category_name, 'type': type_name, }\n",
    "\n",
    "\n",
    "    "
   ]
  },
  {
   "cell_type": "code",
   "execution_count": null,
   "metadata": {},
   "outputs": [],
   "source": [
    "for m_r in categories[2]:\n",
    "    category_name ='Motion & Recliners'\n",
    "    "
   ]
  },
  {
   "cell_type": "code",
   "execution_count": null,
   "metadata": {},
   "outputs": [],
   "source": [
    "for dining in categories[-1]:\n",
    "    category_name ='Dining'"
   ]
  }
 ],
 "metadata": {
  "kernelspec": {
   "display_name": "Python 3",
   "language": "python",
   "name": "python3"
  },
  "language_info": {
   "codemirror_mode": {
    "name": "ipython",
    "version": 3
   },
   "file_extension": ".py",
   "mimetype": "text/x-python",
   "name": "python",
   "nbconvert_exporter": "python",
   "pygments_lexer": "ipython3",
   "version": "3.12.4"
  }
 },
 "nbformat": 4,
 "nbformat_minor": 2
}
