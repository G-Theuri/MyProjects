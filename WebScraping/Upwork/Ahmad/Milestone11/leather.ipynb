{
 "cells": [
  {
   "cell_type": "code",
   "execution_count": null,
   "metadata": {},
   "outputs": [],
   "source": [
    "from curl_cffi import requests as cureq\n",
    "from rich import print as rprint\n",
    "from lxml import html\n",
    "import time"
   ]
  },
  {
   "cell_type": "code",
   "execution_count": 7,
   "metadata": {},
   "outputs": [],
   "source": [
    "header = {\n",
    "    #\"cookie\":\"products=; CRAFT_CSRF_TOKEN=77532ba957a0d48a4c79fcf8df36b7785e191e76b289b997ca19a1235b5d902fa%3A2%3A%7Bi%3A0%3Bs%3A16%3A%22CRAFT_CSRF_TOKEN%22%3Bi%3A1%3Bs%3A40%3A%222a2fiP2z-uXH0BjCKYd8hQxzVhgtA6UOVmrv9E_I%22%3B%7D\",\n",
    "    \"authority\": 'leathercraft-furniture.com',\n",
    "    \"sec-ch-ua\":'\"Chromium\";v=\"130\", \"Google Chrome\";v=\"130\", \"Not?A_Brand\";v=\"99\"',\n",
    "    \"user-agent\":'Mozilla/5.0 (Windows NT 10.0; Win64; x64) AppleWebKit/537.36 (KHTML, like Gecko) Chrome/130.0.0.0 Safari/537.36',    \n",
    "}"
   ]
  },
  {
   "cell_type": "code",
   "execution_count": 213,
   "metadata": {},
   "outputs": [],
   "source": [
    "#url = 'https://leathercraft-furniture.com/upholstery/recliners-easebacks'\n",
    "p_url = 'https://leathercraft-furniture.com/upholstery/chairs'\n",
    "p2_url = 'https://leathercraft-furniture.com/upholstery/chairs/p2'\n",
    "willem = 'https://leathercraft-furniture.com/upholstery/139-willem-dining-chair-qs-frame'#139 Willem Dining Chair Product\n",
    "soho = 'https://leathercraft-furniture.com/upholstery/1652-soho-chair-qs-frame'\n",
    "collins = 'https://leathercraft-furniture.com/upholstery/1143-3-collins-ottoman'\n",
    "response = cureq.get(url=willem, impersonate='chrome', headers=header)"
   ]
  },
  {
   "cell_type": "code",
   "execution_count": null,
   "metadata": {},
   "outputs": [],
   "source": [
    "tree = html.fromstring(response.content)\n",
    "items = tree.xpath('/html/body/div/section/a')\n",
    "categories = tree.xpath('//*[@id=\"navmain\"]/li[1]/ul/li')\n",
    "for category in categories[1:]:\n",
    "    type_url = category.xpath('./a/@href')\n",
    "    type_name = category.xpath('./a/text()')[0]\n",
    "    subtypes= category.xpath('./ul/li')\n",
    "    if subtypes:\n",
    "        for subtype in subtypes[1:]:\n",
    "            subtype_url = subtype.xpath('./a/@href')[0]\n",
    "            subtype_name = subtype.xpath('./a/text()')[0]\n",
    "            print(f'Type: {type_name} Type URL: {type_url} SubType: {subtype_name} SubType URL: {subtype_url} ')\n",
    "            #response = cureq.get(url=type_url, impersonate='chrome', headers=header)\n",
    "            #info = {'Type': type_name, 'Sub-Type': subtype_name}\n",
    "            #extract(response, info)\n",
    "\n",
    "    else:\n",
    "        #response = cureq.get(url=type_url, impersonate='chrome', headers=header)\n",
    "        #info = {'Type': type_name, 'Sub-Type': None}\n",
    "        #extract(response, info)\n",
    "        print(f'Type: {type_name} Type URL: {type_url} || SubType: None')\n",
    "        continue\n",
    "\n",
    "            "
   ]
  },
  {
   "cell_type": "code",
   "execution_count": null,
   "metadata": {},
   "outputs": [],
   "source": [
    "tree = html.fromstring(response.content)\n",
    "next_page = tree.xpath('/html/body/div/div/nav/a[contains(text(), \"Next Page\")]/@href')[0]\n",
    "products = tree.xpath('/html/body/div/section/a')\n",
    "\n",
    "if not next_page:\n",
    "    for product in products:\n",
    "        product_url = product.xpath('./@href')[0]\n",
    "        product_name = product.xpath('./figure/figcaption/text()')\n",
    "        print(f'Product Name: {product_name[0]} Product URL: {product_url}')\n",
    "        #response = cureq.get(url=product_url, impersonate='chrome', headers=header)\n",
    "        #transform(response, info)\n",
    "        time.sleep(1)\n",
    "    print(f'Next Page: None')\n",
    "else:\n",
    "    for product in products:\n",
    "        product_url = product.xpath('./@href')[0]\n",
    "        product_name = product.xpath('./figure/figcaption/text()')\n",
    "        #response = cureq.get(url=product_url, impersonate='chrome', headers=header)\n",
    "        #transform(response, info)\n",
    "        time.sleep(1)\n",
    "        print(f'Product Name: {product_name[0]} Product URL: {product_url}')\n",
    "    print(f'Next Page: {next_page}')\n",
    "    #next_page(next_page)\n",
    "    "
   ]
  },
  {
   "cell_type": "code",
   "execution_count": 211,
   "metadata": {},
   "outputs": [],
   "source": [
    "tree = html.fromstring(response.content)\n",
    "\n",
    "#Extract Product SKU\n",
    "title = tree.xpath('/html/body/div/article/div[1]/h2/text()')\n",
    "if title:\n",
    "    sku = title[0].split(' ')[0]\n",
    "else:\n",
    "    sku = None\n",
    "\n",
    "#Extract Dimensions\n",
    "dimensions = tree.xpath('/html/body/div/article/div[1]/div[3]/p')[0].text_content()\n",
    "dim_values = dimensions.replace('\\n\\t\\t\\t\\t\\t\\t\\t', '%').replace(' \\n\\t\\t\\t\\t\\t\\t\\t', '%').replace('\\t\\t\\t\\t\\t\\t\\t\\t\\t\\t\\t\\t\\t\\t', '%')\\\n",
    "    .replace('\\n\\t\\t\\t\\t\\t\\t\\t\\t\\t\\t\\t\\t\\t\\t\\t\\t\\t\\t\\t\\t\\t', '%').replace(' \\t\\t\\t\\t\\t\\t\\t\\t\\t\\t\\t\\t\\t', '%')#.replace(' ', '')\n",
    "\n",
    "all_dimensions= {}\n",
    "dim_items = dim_values.split('%')\n",
    "for item in dim_items[1:-1]:\n",
    "    if item != '':\n",
    "        item_data = item.split(':')\n",
    "        all_dimensions[item_data[0]] = item_data[1]\n",
    "\n",
    "\n",
    "#Extract Pricing Information\n",
    "fields = [\n",
    "    \"Yardage\", \"CTN WT\", \"STD Finish\", \"Exposed Wood\", \n",
    "    \"STD Trim\", \"STD Seat Cushion\", \"STD Back Cushion\"\n",
    "]\n",
    "pricing_data = {}\n",
    "for field in fields:\n",
    "    xpath_expr = f'//div[contains(@class, \"product-pricing\")]/p/strong[contains(text(), \"{field}:\")]/following-sibling::text()'\n",
    "    value = tree.xpath(xpath_expr)\n",
    "    if value:\n",
    "        pricing_data[field] = value[0].strip()\n",
    "    else:\n",
    "        pricing_data[field] = None\n",
    "\n",
    "\n",
    "all_data = {\n",
    "    #**info,\n",
    "    'Product URL': response.url,\n",
    "    'Product SKU': sku,\n",
    "    'Product Images': tree.xpath('/html/body/div/article/div[1]/figure/img/@src'),\n",
    "    'Product Description': tree.xpath('/html/body/div/article/div[1]/div[2]/p/text()'),\n",
    "    'Product Dimesions':all_dimensions,\n",
    "    'Suite': tree.xpath('/html/body/div/article/div[1]/nav[2]/ul/li/a/text()'),\n",
    "    'Pricing Information': pricing_data,\n",
    "}"
   ]
  },
  {
   "cell_type": "code",
   "execution_count": 212,
   "metadata": {},
   "outputs": [
    {
     "data": {
      "text/html": [
       "<pre style=\"white-space:pre;overflow-x:auto;line-height:normal;font-family:Menlo,'DejaVu Sans Mono',consolas,'Courier New',monospace\"><span style=\"font-weight: bold\">{</span>\n",
       "    <span style=\"color: #008000; text-decoration-color: #008000\">'Product URL'</span>: <span style=\"color: #008000; text-decoration-color: #008000\">'https://leathercraft-furniture.com/upholstery/139-willem-dining-chair-qs-frame'</span>,\n",
       "    <span style=\"color: #008000; text-decoration-color: #008000\">'Product SKU'</span>: <span style=\"color: #008000; text-decoration-color: #008000\">'139'</span>,\n",
       "    <span style=\"color: #008000; text-decoration-color: #008000\">'Product Images'</span>: <span style=\"font-weight: bold\">[</span><span style=\"color: #008000; text-decoration-color: #008000\">'https://leathercraft-furniture.com/assets/old-product-images/139lg.jpg'</span><span style=\"font-weight: bold\">]</span>,\n",
       "    <span style=\"color: #008000; text-decoration-color: #008000\">'Product Description'</span>: <span style=\"font-weight: bold\">[</span>\n",
       "        <span style=\"color: #008000; text-decoration-color: #008000\">'Shown with OPTIONAL diamond quadrants on the In Back and Split Panel on the Outback, with #9 Nickel Nail </span>\n",
       "<span style=\"color: #008000; text-decoration-color: #008000\">trim and Optional \"Decorative\" handle.'</span>\n",
       "    <span style=\"font-weight: bold\">]</span>,\n",
       "    <span style=\"color: #008000; text-decoration-color: #008000\">'Product Dimesions'</span>: <span style=\"font-weight: bold\">{</span>\n",
       "        <span style=\"color: #008000; text-decoration-color: #008000\">'Outside'</span>: <span style=\"color: #008000; text-decoration-color: #008000\">' H 37″ W 19″ D 24″ '</span>,\n",
       "        <span style=\"color: #008000; text-decoration-color: #008000\">'Inside'</span>: <span style=\"color: #008000; text-decoration-color: #008000\">' H 16″ W 19″ D 19″ '</span>,\n",
       "        <span style=\"color: #008000; text-decoration-color: #008000\">'Seat Height'</span>: <span style=\"color: #008000; text-decoration-color: #008000\">' 21″'</span>\n",
       "    <span style=\"font-weight: bold\">}</span>,\n",
       "    <span style=\"color: #008000; text-decoration-color: #008000\">'Suite'</span>: <span style=\"font-weight: bold\">[]</span>,\n",
       "    <span style=\"color: #008000; text-decoration-color: #008000\">'Pricing Information'</span>: <span style=\"font-weight: bold\">{</span>\n",
       "        <span style=\"color: #008000; text-decoration-color: #008000\">'Yardage'</span>: <span style=\"color: #008000; text-decoration-color: #008000\">'2'</span>,\n",
       "        <span style=\"color: #008000; text-decoration-color: #008000\">'CTN WT'</span>: <span style=\"color: #008000; text-decoration-color: #008000\">'40'</span>,\n",
       "        <span style=\"color: #008000; text-decoration-color: #008000\">'STD Finish'</span>: <span style=\"color: #008000; text-decoration-color: #008000\">'Must Specify'</span>,\n",
       "        <span style=\"color: #008000; text-decoration-color: #008000\">'Exposed Wood'</span>: <span style=\"color: #008000; text-decoration-color: #008000\">'Maple'</span>,\n",
       "        <span style=\"color: #008000; text-decoration-color: #008000\">'STD Trim'</span>: <span style=\"color: #008000; text-decoration-color: #008000\">'#9 Nailhead'</span>,\n",
       "        <span style=\"color: #008000; text-decoration-color: #008000\">'STD Seat Cushion'</span>: <span style=\"color: #008000; text-decoration-color: #008000\">'Poly Fiber'</span>,\n",
       "        <span style=\"color: #008000; text-decoration-color: #008000\">'STD Back Cushion'</span>: <span style=\"color: #008000; text-decoration-color: #008000\">'Poly Fiber'</span>\n",
       "    <span style=\"font-weight: bold\">}</span>\n",
       "<span style=\"font-weight: bold\">}</span>\n",
       "</pre>\n"
      ],
      "text/plain": [
       "\u001b[1m{\u001b[0m\n",
       "    \u001b[32m'Product URL'\u001b[0m: \u001b[32m'https://leathercraft-furniture.com/upholstery/139-willem-dining-chair-qs-frame'\u001b[0m,\n",
       "    \u001b[32m'Product SKU'\u001b[0m: \u001b[32m'139'\u001b[0m,\n",
       "    \u001b[32m'Product Images'\u001b[0m: \u001b[1m[\u001b[0m\u001b[32m'https://leathercraft-furniture.com/assets/old-product-images/139lg.jpg'\u001b[0m\u001b[1m]\u001b[0m,\n",
       "    \u001b[32m'Product Description'\u001b[0m: \u001b[1m[\u001b[0m\n",
       "        \u001b[32m'Shown with OPTIONAL diamond quadrants on the In Back and Split Panel on the Outback, with #9 Nickel Nail \u001b[0m\n",
       "\u001b[32mtrim and Optional \"Decorative\" handle.'\u001b[0m\n",
       "    \u001b[1m]\u001b[0m,\n",
       "    \u001b[32m'Product Dimesions'\u001b[0m: \u001b[1m{\u001b[0m\n",
       "        \u001b[32m'Outside'\u001b[0m: \u001b[32m' H 37″ W 19″ D 24″ '\u001b[0m,\n",
       "        \u001b[32m'Inside'\u001b[0m: \u001b[32m' H 16″ W 19″ D 19″ '\u001b[0m,\n",
       "        \u001b[32m'Seat Height'\u001b[0m: \u001b[32m' 21″'\u001b[0m\n",
       "    \u001b[1m}\u001b[0m,\n",
       "    \u001b[32m'Suite'\u001b[0m: \u001b[1m[\u001b[0m\u001b[1m]\u001b[0m,\n",
       "    \u001b[32m'Pricing Information'\u001b[0m: \u001b[1m{\u001b[0m\n",
       "        \u001b[32m'Yardage'\u001b[0m: \u001b[32m'2'\u001b[0m,\n",
       "        \u001b[32m'CTN WT'\u001b[0m: \u001b[32m'40'\u001b[0m,\n",
       "        \u001b[32m'STD Finish'\u001b[0m: \u001b[32m'Must Specify'\u001b[0m,\n",
       "        \u001b[32m'Exposed Wood'\u001b[0m: \u001b[32m'Maple'\u001b[0m,\n",
       "        \u001b[32m'STD Trim'\u001b[0m: \u001b[32m'#9 Nailhead'\u001b[0m,\n",
       "        \u001b[32m'STD Seat Cushion'\u001b[0m: \u001b[32m'Poly Fiber'\u001b[0m,\n",
       "        \u001b[32m'STD Back Cushion'\u001b[0m: \u001b[32m'Poly Fiber'\u001b[0m\n",
       "    \u001b[1m}\u001b[0m\n",
       "\u001b[1m}\u001b[0m\n"
      ]
     },
     "metadata": {},
     "output_type": "display_data"
    }
   ],
   "source": [
    "rprint(all_data)"
   ]
  },
  {
   "cell_type": "code",
   "execution_count": 218,
   "metadata": {},
   "outputs": [
    {
     "data": {
      "text/plain": [
       "{'Outside': ' H 37″ W 19″ D 24″ ',\n",
       " 'Inside': ' H 16″ W 19″ D 19″ ',\n",
       " 'Seat Height': ' 21″'}"
      ]
     },
     "execution_count": 218,
     "metadata": {},
     "output_type": "execute_result"
    }
   ],
   "source": [
    "tree = html.fromstring(response.content)\n",
    "dimensions = tree.xpath('/html/body/div/article/div[1]/div[3]/p')[0].text_content()\n",
    "dim_values = dimensions.replace('\\n\\t\\t\\t\\t\\t\\t\\t', '%').replace(' \\n\\t\\t\\t\\t\\t\\t\\t', '%').replace('\\t\\t\\t\\t\\t\\t\\t\\t\\t\\t\\t\\t\\t\\t', '%')\\\n",
    "    .replace('\\n\\t\\t\\t\\t\\t\\t\\t\\t\\t\\t\\t\\t\\t\\t\\t\\t\\t\\t\\t\\t\\t', '%').replace(' \\t\\t\\t\\t\\t\\t\\t\\t\\t\\t\\t\\t\\t', '%')#.replace(' ', '')\n",
    "#dimensions\n",
    "all_dimensions= {}\n",
    "dim_items = dim_values.split('%')\n",
    "for item in dim_items[1:-1]:\n",
    "    if item != '':\n",
    "        item_data = item.split(':')\n",
    "        all_dimensions[item_data[0]] = item_data[1]\n",
    "\n",
    "all_dimensions"
   ]
  }
 ],
 "metadata": {
  "kernelspec": {
   "display_name": "Python 3",
   "language": "python",
   "name": "python3"
  },
  "language_info": {
   "codemirror_mode": {
    "name": "ipython",
    "version": 3
   },
   "file_extension": ".py",
   "mimetype": "text/x-python",
   "name": "python",
   "nbconvert_exporter": "python",
   "pygments_lexer": "ipython3",
   "version": "3.12.4"
  }
 },
 "nbformat": 4,
 "nbformat_minor": 2
}
