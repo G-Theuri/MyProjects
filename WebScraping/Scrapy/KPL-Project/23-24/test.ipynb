{
 "cells": [
  {
   "cell_type": "code",
   "execution_count": 1,
   "metadata": {},
   "outputs": [],
   "source": [
    "from curl_cffi import requests as cureq\n",
    "import pandas as pd\n",
    "import time\n",
    "import json\n",
    "from rich import print\n",
    "import os"
   ]
  },
  {
   "cell_type": "code",
   "execution_count": 2,
   "metadata": {},
   "outputs": [],
   "source": [
    "response = cureq.get(\"https://www.sofascore.com/api/v1/unique-tournament/1644/season/7752/events/round/1\", impersonate=\"chrome\")"
   ]
  },
  {
   "cell_type": "code",
   "execution_count": 3,
   "metadata": {},
   "outputs": [],
   "source": [
    "alldata =[]\n",
    "games = json.loads(response.text)\n",
    "for game in games[\"events\"]:\n",
    "    matchdata = {\n",
    "                \"tournament\" : game[\"tournament\"][\"uniqueTournament\"][\"name\"],\n",
    "                \"season\" : game[\"season\"][\"year\"],\n",
    "                \"round\" : game[\"roundInfo\"][\"round\"],\n",
    "                \"matchID\" : game[\"id\"],\n",
    "                \"matchCustomID\" : game[\"customId\"],\n",
    "                \"matchStatus\" : game[\"status\"][\"description\"], # Ended, Postponed, Not started\n",
    "                \"homeTeamnName\" :game[\"homeTeam\"][\"name\"],\n",
    "                \"homeTeamnNameCode\":game[\"homeTeam\"][\"nameCode\"],\n",
    "                'homeTeamID' : game[\"homeTeam\"][\"id\"],\n",
    "                \"awayTeamName\": game[\"awayTeam\"][\"name\"],\n",
    "                'awayTeamNameCode': game[\"awayTeam\"][\"nameCode\"],\n",
    "                'awayTeamID' : game[\"awayTeam\"][\"id\"],\n",
    "    }\n",
    "    \n",
    "    if matchdata[\"matchStatus\"] == \"Ended\":\n",
    "        matchScores = {\n",
    "            #'homeScoreHT' : game[\"homeScore\"][\"period1\"],\n",
    "            #'awayScoreHT' : game[\"awayScore\"][\"period1\"],\n",
    "            'homeScoreFT' : game[\"homeScore\"][\"normaltime\"],\n",
    "            'awayScoreFT' : game[\"awayScore\"][\"normaltime\"],\n",
    "        }\n",
    "    else:\n",
    "        matchScores = {\n",
    "            #'homeScoreHT' : \"-\",\n",
    "            #'awayScoreHT' : \"-\",\n",
    "            'homeScoreFT' : \"-\",\n",
    "            'awayScoreFT' : \"-\",\n",
    "        }\n",
    "    data = matchdata | matchScores\n",
    "    alldata.append(data)\n"
   ]
  },
  {
   "cell_type": "code",
   "execution_count": 6,
   "metadata": {},
   "outputs": [],
   "source": [
    "os.makedirs('Season-2014', exist_ok=True)"
   ]
  },
  {
   "cell_type": "code",
   "execution_count": 7,
   "metadata": {},
   "outputs": [],
   "source": [
    "df = pd.DataFrame(alldata)\n",
    "df.to_csv('Season-2014/round1.csv')"
   ]
  },
  {
   "cell_type": "code",
   "execution_count": 10,
   "metadata": {},
   "outputs": [
    {
     "data": {
      "text/plain": [
       "1"
      ]
     },
     "execution_count": 10,
     "metadata": {},
     "output_type": "execute_result"
    }
   ],
   "source": [
    "seasonIDs = {7752:\"2014\", 9841:\"2015\", 11265:\"2016\", 12921:\"2017\", 15858:\"2018\", 19876:\"2018/2019\", 24023:\"2019/2020\",\n",
    "             34876:\"2020/2021\", 38844:\"2021/2022\", 45686:\"2022/2023\", 53922:\"2023/2024\", 65071:\"2024/2025\"}\n",
    "class matches:\n",
    "    def __init__(self, seasonIDs, round):\n",
    "        self.seasonIDs=seasonIDs\n",
    "        self.rounds = round\n",
    "        self.by_rounds()\n",
    "        self.by_date()\n",
    "\n",
    "    def by_rounds(self, seasonID, seasonIDs):\n",
    "        os.makedirs(f'Season-{seasonIDs[seasonID]}', exist_ok=True)\n",
    "        def extract():\n",
    "            response = cureq.get(\"f'https://www.sofascore.com/api/v1/unique-tournament/1644/season/{seasonID}/events/round/{round}'\",\n",
    "                                  impersonate=\"chrome\")\n",
    "            return response\n",
    "        def transform(response):\n",
    "            round_data = []\n",
    "            games = json.loads(response.text)\n",
    "            for game in games[\"events\"]:\n",
    "                matchdata = {\n",
    "                \"tournament\" : game[\"tournament\"][\"uniqueTournament\"][\"name\"],\n",
    "                \"season\" : game[\"season\"][\"year\"],\n",
    "                \"round\" : game[\"roundInfo\"][\"round\"],\n",
    "                \"matchID\" : game[\"id\"],\n",
    "                \"matchCustomID\" : game[\"customId\"],\n",
    "                \"matchStatus\" : game[\"status\"][\"description\"], # Ended, Postponed, Not started\n",
    "                \"homeTeamnName\" :game[\"homeTeam\"][\"name\"],\n",
    "                \"homeTeamnNameCode\":game[\"homeTeam\"][\"nameCode\"],\n",
    "                'homeTeamID' : game[\"homeTeam\"][\"id\"],\n",
    "                \"awayTeamName\": game[\"awayTeam\"][\"name\"],\n",
    "                'awayTeamNameCode': game[\"awayTeam\"][\"nameCode\"],\n",
    "                'awayTeamID' : game[\"awayTeam\"][\"id\"],\n",
    "                }\n",
    "    \n",
    "            if matchdata[\"matchStatus\"]== \"Ended\":\n",
    "                matchScores = {\n",
    "                    'homeScoreHT' : game[\"homeScore\"][\"period1\"],\n",
    "                    'awayScoreHT' : game[\"awayScore\"][\"period1\"],\n",
    "                    'homeScoreFT' : game[\"homeScore\"][\"normaltime\"],\n",
    "                    'awayScoreFT' : game[\"awayScore\"][\"normaltime\"]\n",
    "                },\n",
    "            else:\n",
    "                matchScores = {\n",
    "                    'homeScoreHT' : \"-\",\n",
    "                    'awayScoreHT' : \"-\",\n",
    "                    'homeScoreFT' : \"-\",\n",
    "                    'awayScoreFT' : \"-\"\n",
    "                }\n",
    "            round_data.append(matchdata)\n",
    "            return round_data       \n",
    "\n",
    "        def load(round_data, seasonID, seasonIDs):\n",
    "            df = pd.DataFrame(round_data)\n",
    "            df.to_csv(f'Season-{seasonIDs[seasonID]}/round-{df[\"round\"][1]}.csv')\n",
    "        \n",
    "\n",
    "    "
   ]
  }
 ],
 "metadata": {
  "kernelspec": {
   "display_name": "Python 3",
   "language": "python",
   "name": "python3"
  },
  "language_info": {
   "codemirror_mode": {
    "name": "ipython",
    "version": 3
   },
   "file_extension": ".py",
   "mimetype": "text/x-python",
   "name": "python",
   "nbconvert_exporter": "python",
   "pygments_lexer": "ipython3",
   "version": "3.11.4"
  }
 },
 "nbformat": 4,
 "nbformat_minor": 2
}
