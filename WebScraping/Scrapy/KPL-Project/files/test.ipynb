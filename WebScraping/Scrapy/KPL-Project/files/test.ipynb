{
 "cells": [
  {
   "cell_type": "code",
   "execution_count": 53,
   "metadata": {},
   "outputs": [],
   "source": [
    "from curl_cffi import requests as cureq\n",
    "import pandas as pd\n",
    "import time\n",
    "import json\n",
    "from rich import print\n",
    "import os"
   ]
  },
  {
   "cell_type": "code",
   "execution_count": 54,
   "metadata": {},
   "outputs": [],
   "source": [
    "response = cureq.get(\"https://www.sofascore.com/api/v1/unique-tournament/1644/season/7752/events/round/1\", impersonate=\"chrome\")"
   ]
  },
  {
   "cell_type": "code",
   "execution_count": 55,
   "metadata": {},
   "outputs": [],
   "source": [
    "alldata =[]\n",
    "games = json.loads(response.text)\n",
    "for game in games[\"events\"]:\n",
    "    matchdata = {\n",
    "                \"tournament\" : game[\"tournament\"][\"uniqueTournament\"][\"name\"],\n",
    "                \"season\" : game[\"season\"][\"year\"],\n",
    "                \"round\" : game[\"roundInfo\"][\"round\"],\n",
    "                \"matchID\" : game[\"id\"],\n",
    "                \"matchCustomID\" : game[\"customId\"],\n",
    "                \"matchStatus\" : game[\"status\"][\"description\"], # Ended, Postponed, Not started\n",
    "                \"homeTeamnName\" :game[\"homeTeam\"][\"name\"],\n",
    "                \"homeTeamnNameCode\":game[\"homeTeam\"][\"nameCode\"],\n",
    "                'homeTeamID' : game[\"homeTeam\"][\"id\"],\n",
    "                \"awayTeamName\": game[\"awayTeam\"][\"name\"],\n",
    "                'awayTeamNameCode': game[\"awayTeam\"][\"nameCode\"],\n",
    "                'awayTeamID' : game[\"awayTeam\"][\"id\"],\n",
    "    }\n",
    "    \n",
    "    if matchdata[\"matchStatus\"] == \"Ended\":\n",
    "        matchScores = {\n",
    "            #'homeScoreHT' : game[\"homeScore\"][\"period1\"],\n",
    "            #'awayScoreHT' : game[\"awayScore\"][\"period1\"],\n",
    "            'homeScoreFT' : game[\"homeScore\"][\"normaltime\"],\n",
    "            'awayScoreFT' : game[\"awayScore\"][\"normaltime\"],\n",
    "        }\n",
    "    else:\n",
    "        matchScores = {\n",
    "            #'homeScoreHT' : \"-\",\n",
    "            #'awayScoreHT' : \"-\",\n",
    "            'homeScoreFT' : \"-\",\n",
    "            'awayScoreFT' : \"-\",\n",
    "        }\n",
    "    data = matchdata | matchScores\n",
    "    alldata.append(data)\n"
   ]
  },
  {
   "cell_type": "code",
   "execution_count": 56,
   "metadata": {},
   "outputs": [],
   "source": [
    "os.makedirs('Season-2014', exist_ok=True)"
   ]
  },
  {
   "cell_type": "code",
   "execution_count": 57,
   "metadata": {},
   "outputs": [],
   "source": [
    "df = pd.DataFrame(alldata)\n",
    "df.to_csv('Season-2014/round1.csv')"
   ]
  },
  {
   "cell_type": "code",
   "execution_count": 69,
   "metadata": {},
   "outputs": [
    {
     "ename": "AttributeError",
     "evalue": "'matches' object has no attribute 'seasonID'",
     "output_type": "error",
     "traceback": [
      "\u001b[1;31m---------------------------------------------------------------------------\u001b[0m",
      "\u001b[1;31mAttributeError\u001b[0m                            Traceback (most recent call last)",
      "Cell \u001b[1;32mIn[69], line 64\u001b[0m\n\u001b[0;32m     61\u001b[0m         \u001b[38;5;28;01mfor\u001b[39;00m seasonID \u001b[38;5;129;01min\u001b[39;00m seasonIDs:\n\u001b[0;32m     62\u001b[0m             load(process, seasonID, seasonIDs)\n\u001b[1;32m---> 64\u001b[0m data \u001b[38;5;241m=\u001b[39m \u001b[43mmatches\u001b[49m\u001b[43m(\u001b[49m\u001b[43m)\u001b[49m\n",
      "Cell \u001b[1;32mIn[69], line 9\u001b[0m, in \u001b[0;36mmatches.__init__\u001b[1;34m(self)\u001b[0m\n\u001b[0;32m      7\u001b[0m \u001b[38;5;28mself\u001b[39m\u001b[38;5;241m.\u001b[39mseasonIDs\u001b[38;5;241m=\u001b[39m [seasonID \u001b[38;5;28;01mfor\u001b[39;00m seasonID \u001b[38;5;129;01min\u001b[39;00m \u001b[38;5;28mself\u001b[39m\u001b[38;5;241m.\u001b[39mIDs]\n\u001b[0;32m      8\u001b[0m \u001b[38;5;28mself\u001b[39m\u001b[38;5;241m.\u001b[39mrounds \u001b[38;5;241m=\u001b[39m [\u001b[38;5;28mround\u001b[39m \u001b[38;5;28;01mfor\u001b[39;00m \u001b[38;5;28mround\u001b[39m \u001b[38;5;129;01min\u001b[39;00m \u001b[38;5;28mrange\u001b[39m(\u001b[38;5;241m1\u001b[39m,\u001b[38;5;241m33\u001b[39m)]\n\u001b[1;32m----> 9\u001b[0m \u001b[38;5;28;43mself\u001b[39;49m\u001b[38;5;241;43m.\u001b[39;49m\u001b[43mby_rounds\u001b[49m\u001b[43m(\u001b[49m\u001b[43mseasonIDs\u001b[49m\u001b[43m,\u001b[49m\u001b[43m \u001b[49m\u001b[38;5;28;43mround\u001b[39;49m\u001b[43m)\u001b[49m\n\u001b[0;32m     10\u001b[0m \u001b[38;5;28mself\u001b[39m\u001b[38;5;241m.\u001b[39mby_date()\n",
      "Cell \u001b[1;32mIn[69], line 13\u001b[0m, in \u001b[0;36mmatches.by_rounds\u001b[1;34m(self, seasonID, seasonIDs)\u001b[0m\n\u001b[0;32m     12\u001b[0m \u001b[38;5;28;01mdef\u001b[39;00m \u001b[38;5;21mby_rounds\u001b[39m(\u001b[38;5;28mself\u001b[39m, seasonID, seasonIDs):\n\u001b[1;32m---> 13\u001b[0m     os\u001b[38;5;241m.\u001b[39mmakedirs(\u001b[38;5;124mf\u001b[39m\u001b[38;5;124m'\u001b[39m\u001b[38;5;124mSeason-\u001b[39m\u001b[38;5;132;01m{\u001b[39;00m\u001b[38;5;28mself\u001b[39m\u001b[38;5;241m.\u001b[39mIDs[{\u001b[38;5;28;43mself\u001b[39;49m\u001b[38;5;241;43m.\u001b[39;49m\u001b[43mseasonID\u001b[49m}]\u001b[38;5;132;01m}\u001b[39;00m\u001b[38;5;124m'\u001b[39m, exist_ok\u001b[38;5;241m=\u001b[39m\u001b[38;5;28;01mTrue\u001b[39;00m)\n\u001b[0;32m     14\u001b[0m     \u001b[38;5;28;01mdef\u001b[39;00m \u001b[38;5;21mextract\u001b[39m():\n\u001b[0;32m     15\u001b[0m         response \u001b[38;5;241m=\u001b[39m cureq\u001b[38;5;241m.\u001b[39mget(\u001b[38;5;124m\"\u001b[39m\u001b[38;5;124mf\u001b[39m\u001b[38;5;124m'\u001b[39m\u001b[38;5;124mhttps://www.sofascore.com/api/v1/unique-tournament/1644/season/\u001b[39m\u001b[38;5;132;01m{seasonID}\u001b[39;00m\u001b[38;5;124m/events/round/\u001b[39m\u001b[38;5;132;01m{round}\u001b[39;00m\u001b[38;5;124m'\u001b[39m\u001b[38;5;124m\"\u001b[39m,\n\u001b[0;32m     16\u001b[0m                               impersonate\u001b[38;5;241m=\u001b[39m\u001b[38;5;124m\"\u001b[39m\u001b[38;5;124mchrome\u001b[39m\u001b[38;5;124m\"\u001b[39m)\n",
      "\u001b[1;31mAttributeError\u001b[0m: 'matches' object has no attribute 'seasonID'"
     ]
    }
   ],
   "source": [
    "seasonIDs = {7752:\"2014\", 9841:\"2015\", 11265:\"2016\", 12921:\"2017\", 15858:\"2018\", 19876:\"2018/2019\", 24023:\"2019/2020\",\n",
    "             34876:\"2020/2021\", 38844:\"2021/2022\", 45686:\"2022/2023\", 53922:\"2023/2024\", 65071:\"2024/2025\"}\n",
    "class matches:\n",
    "    def __init__(self):\n",
    "        self.IDs={7752:\"2014\", 9841:\"2015\", 11265:\"2016\", 12921:\"2017\", 15858:\"2018\", 19876:\"2018/2019\", 24023:\"2019/2020\",\n",
    "             34876:\"2020/2021\", 38844:\"2021/2022\", 45686:\"2022/2023\", 53922:\"2023/2024\", 65071:\"2024/2025\"}\n",
    "        self.seasonIDs= [seasonID for seasonID in self.IDs]\n",
    "        self.rounds = [round for round in range(1,33)]\n",
    "        self.by_rounds(seasonIDs, round)\n",
    "        self.by_date()\n",
    "\n",
    "    def by_rounds(self, seasonID, seasonIDs):\n",
    "        os.makedirs(f'Season-{self.IDs[{self.seasonID}]}', exist_ok=True)\n",
    "        def extract():\n",
    "            response = cureq.get(\"f'https://www.sofascore.com/api/v1/unique-tournament/1644/season/{seasonID}/events/round/{round}'\",\n",
    "                                  impersonate=\"chrome\")\n",
    "            return response\n",
    "        def transform(response):\n",
    "            round_data = []\n",
    "            games = json.loads(response.text)\n",
    "            for game in games[\"events\"]:\n",
    "                matchdata = {\n",
    "                \"tournament\" : game[\"tournament\"][\"uniqueTournament\"][\"name\"],\n",
    "                \"season\" : game[\"season\"][\"year\"],\n",
    "                \"round\" : game[\"roundInfo\"][\"round\"],\n",
    "                \"matchID\" : game[\"id\"],\n",
    "                \"matchCustomID\" : game[\"customId\"],\n",
    "                \"matchStatus\" : game[\"status\"][\"description\"], # Ended, Postponed, Not started\n",
    "                \"homeTeamnName\" :game[\"homeTeam\"][\"name\"],\n",
    "                \"homeTeamnNameCode\":game[\"homeTeam\"][\"nameCode\"],\n",
    "                'homeTeamID' : game[\"homeTeam\"][\"id\"],\n",
    "                \"awayTeamName\": game[\"awayTeam\"][\"name\"],\n",
    "                'awayTeamNameCode': game[\"awayTeam\"][\"nameCode\"],\n",
    "                'awayTeamID' : game[\"awayTeam\"][\"id\"],\n",
    "                }\n",
    "    \n",
    "            if matchdata[\"matchStatus\"]== \"Ended\":\n",
    "                matchScores = {\n",
    "                    'homeScoreHT' : game[\"homeScore\"][\"period1\"],\n",
    "                    'awayScoreHT' : game[\"awayScore\"][\"period1\"],\n",
    "                    'homeScoreFT' : game[\"homeScore\"][\"normaltime\"],\n",
    "                    'awayScoreFT' : game[\"awayScore\"][\"normaltime\"]\n",
    "                },\n",
    "            else:\n",
    "                matchScores = {\n",
    "                    'homeScoreHT' : \"-\",\n",
    "                    'awayScoreHT' : \"-\",\n",
    "                    'homeScoreFT' : \"-\",\n",
    "                    'awayScoreFT' : \"-\"\n",
    "                }\n",
    "            round_data.append(matchdata)\n",
    "            return round_data       \n",
    "\n",
    "        def load(round_data, seasonID, seasonIDs):\n",
    "            df = pd.DataFrame(round_data)\n",
    "            path=f\"Season-2014/round-1\"\n",
    "            df.to_csv(f'{path}.csv')\n",
    "            \n",
    "        getdata=extract()\n",
    "        process = transform(getdata)\n",
    "        for seasonID in seasonIDs:\n",
    "            load(process, seasonID, seasonIDs)\n",
    "            \n",
    "data = matches()\n",
    "    "
   ]
  }
 ],
 "metadata": {
  "kernelspec": {
   "display_name": "Python 3",
   "language": "python",
   "name": "python3"
  },
  "language_info": {
   "codemirror_mode": {
    "name": "ipython",
    "version": 3
   },
   "file_extension": ".py",
   "mimetype": "text/x-python",
   "name": "python",
   "nbconvert_exporter": "python",
   "pygments_lexer": "ipython3",
   "version": "3.11.4"
  }
 },
 "nbformat": 4,
 "nbformat_minor": 2
}
