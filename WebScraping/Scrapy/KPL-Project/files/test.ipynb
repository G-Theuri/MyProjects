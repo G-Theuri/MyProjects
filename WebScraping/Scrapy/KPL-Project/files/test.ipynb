{
 "cells": [
  {
   "cell_type": "code",
   "execution_count": 2,
   "metadata": {},
   "outputs": [],
   "source": [
    "from curl_cffi import requests as cureq\n",
    "import pandas as pd\n",
    "import time\n",
    "import json\n",
    "from rich import print\n",
    "import os"
   ]
  },
  {
   "cell_type": "code",
   "execution_count": null,
   "metadata": {},
   "outputs": [],
   "source": [
    "seasonIDs = {7752:\"2014\", 9841:\"2015\", 11265:\"2016\", 12921:\"2017\", 15858:\"2018\", 19876:\"2018-2019\", 24023:\"2019-2020\",\n",
    "             34876:\"2020-2021\", 38844:\"2021-2022\", 45686:\"2022-2023\", 53922:\"2023-2024\", 65071:\"2024-2025\"}"
   ]
  },
  {
   "cell_type": "code",
   "execution_count": 135,
   "metadata": {},
   "outputs": [],
   "source": [
    "response = cureq.get(\"https://www.sofascore.com/api/v1/unique-tournament/1644/season/65071/events/round/1\", impersonate=\"chrome\")"
   ]
  },
  {
   "cell_type": "code",
   "execution_count": 140,
   "metadata": {},
   "outputs": [],
   "source": [
    "alldata =[]\n",
    "games = json.loads(response.text)\n",
    "\n",
    "for game in games[\"events\"]:\n",
    "    matchstatus = game[\"status\"][\"type\"]\n",
    "    matchdata = {\n",
    "                \"tournament\" : game[\"tournament\"][\"uniqueTournament\"][\"name\"],\n",
    "                \"season\" : game[\"season\"][\"year\"],\n",
    "                \"round\" : game[\"roundInfo\"][\"round\"],\n",
    "                \"matchID\" : game[\"id\"],\n",
    "                \"matchCustomID\" : game[\"customId\"],\n",
    "                \"matchStatus\" : matchstatus.capitalize(), # finished, notstarted, postponed\n",
    "                \"homeTeamnName\" :game[\"homeTeam\"][\"name\"],\n",
    "                \"homeTeamnNameCode\":game[\"homeTeam\"][\"nameCode\"],\n",
    "                'homeTeamID' : game[\"homeTeam\"][\"id\"],\n",
    "                \"awayTeamName\": game[\"awayTeam\"][\"name\"],\n",
    "                'awayTeamNameCode': game[\"awayTeam\"][\"nameCode\"],\n",
    "                'awayTeamID' : game[\"awayTeam\"][\"id\"],\n",
    "                'homeScoreFT' : game[\"homeScore\"][\"normaltime\"] if matchstatus == (\"finished\") else '-',\n",
    "                'awayScoreFT' : game[\"awayScore\"][\"normaltime\"] if matchstatus == (\"finished\") else '-',\n",
    "                \n",
    "    }\n",
    "    alldata.append(matchdata)\n"
   ]
  },
  {
   "cell_type": "code",
   "execution_count": 141,
   "metadata": {},
   "outputs": [
    {
     "data": {
      "text/html": [
       "<div>\n",
       "<style scoped>\n",
       "    .dataframe tbody tr th:only-of-type {\n",
       "        vertical-align: middle;\n",
       "    }\n",
       "\n",
       "    .dataframe tbody tr th {\n",
       "        vertical-align: top;\n",
       "    }\n",
       "\n",
       "    .dataframe thead th {\n",
       "        text-align: right;\n",
       "    }\n",
       "</style>\n",
       "<table border=\"1\" class=\"dataframe\">\n",
       "  <thead>\n",
       "    <tr style=\"text-align: right;\">\n",
       "      <th></th>\n",
       "      <th>tournament</th>\n",
       "      <th>season</th>\n",
       "      <th>round</th>\n",
       "      <th>matchID</th>\n",
       "      <th>matchCustomID</th>\n",
       "      <th>matchStatus</th>\n",
       "      <th>homeTeamnName</th>\n",
       "      <th>homeTeamnNameCode</th>\n",
       "      <th>homeTeamID</th>\n",
       "      <th>awayTeamName</th>\n",
       "      <th>awayTeamNameCode</th>\n",
       "      <th>awayTeamID</th>\n",
       "      <th>homeScoreFT</th>\n",
       "      <th>awayScoreFT</th>\n",
       "    </tr>\n",
       "  </thead>\n",
       "  <tbody>\n",
       "    <tr>\n",
       "      <th>0</th>\n",
       "      <td>Kenyan Premier League</td>\n",
       "      <td>24/25</td>\n",
       "      <td>1</td>\n",
       "      <td>12654167</td>\n",
       "      <td>zufbsfxKb</td>\n",
       "      <td>Finished</td>\n",
       "      <td>Posta Rangers</td>\n",
       "      <td>PRA</td>\n",
       "      <td>213605</td>\n",
       "      <td>Bandari FC</td>\n",
       "      <td>BAN</td>\n",
       "      <td>138474</td>\n",
       "      <td>1</td>\n",
       "      <td>1</td>\n",
       "    </tr>\n",
       "    <tr>\n",
       "      <th>1</th>\n",
       "      <td>Kenyan Premier League</td>\n",
       "      <td>24/25</td>\n",
       "      <td>1</td>\n",
       "      <td>12654173</td>\n",
       "      <td>KzdcsFhIc</td>\n",
       "      <td>Finished</td>\n",
       "      <td>Bidco United</td>\n",
       "      <td>BID</td>\n",
       "      <td>258735</td>\n",
       "      <td>Shabana FC</td>\n",
       "      <td>SHA</td>\n",
       "      <td>332880</td>\n",
       "      <td>1</td>\n",
       "      <td>1</td>\n",
       "    </tr>\n",
       "    <tr>\n",
       "      <th>2</th>\n",
       "      <td>Kenyan Premier League</td>\n",
       "      <td>24/25</td>\n",
       "      <td>1</td>\n",
       "      <td>12654166</td>\n",
       "      <td>DufbsHvYb</td>\n",
       "      <td>Finished</td>\n",
       "      <td>Kenya Commercial Bank</td>\n",
       "      <td>KCB</td>\n",
       "      <td>138478</td>\n",
       "      <td>Kariobangi Sharks</td>\n",
       "      <td>KAR</td>\n",
       "      <td>246032</td>\n",
       "      <td>0</td>\n",
       "      <td>0</td>\n",
       "    </tr>\n",
       "    <tr>\n",
       "      <th>3</th>\n",
       "      <td>Kenyan Premier League</td>\n",
       "      <td>24/25</td>\n",
       "      <td>1</td>\n",
       "      <td>12654170</td>\n",
       "      <td>LufbsDbzc</td>\n",
       "      <td>Postponed</td>\n",
       "      <td>Administration Police</td>\n",
       "      <td>APO</td>\n",
       "      <td>310078</td>\n",
       "      <td>Nairobi City Stars FC</td>\n",
       "      <td>NCS</td>\n",
       "      <td>138486</td>\n",
       "      <td>-</td>\n",
       "      <td>-</td>\n",
       "    </tr>\n",
       "    <tr>\n",
       "      <th>4</th>\n",
       "      <td>Kenyan Premier League</td>\n",
       "      <td>24/25</td>\n",
       "      <td>1</td>\n",
       "      <td>12654169</td>\n",
       "      <td>NufbsWufb</td>\n",
       "      <td>Finished</td>\n",
       "      <td>Tusker</td>\n",
       "      <td>TUS</td>\n",
       "      <td>138496</td>\n",
       "      <td>Sofapaka</td>\n",
       "      <td>SOF</td>\n",
       "      <td>138488</td>\n",
       "      <td>1</td>\n",
       "      <td>0</td>\n",
       "    </tr>\n",
       "    <tr>\n",
       "      <th>5</th>\n",
       "      <td>Kenyan Premier League</td>\n",
       "      <td>24/25</td>\n",
       "      <td>1</td>\n",
       "      <td>12654172</td>\n",
       "      <td>gLdbspqzc</td>\n",
       "      <td>Postponed</td>\n",
       "      <td>FC Talanta</td>\n",
       "      <td>TAL</td>\n",
       "      <td>310815</td>\n",
       "      <td>Gor Mahia FC</td>\n",
       "      <td>GOR</td>\n",
       "      <td>134306</td>\n",
       "      <td>-</td>\n",
       "      <td>-</td>\n",
       "    </tr>\n",
       "    <tr>\n",
       "      <th>6</th>\n",
       "      <td>Kenyan Premier League</td>\n",
       "      <td>24/25</td>\n",
       "      <td>1</td>\n",
       "      <td>12654174</td>\n",
       "      <td>exKbsKaBg</td>\n",
       "      <td>Finished</td>\n",
       "      <td>Mara Sugar FC</td>\n",
       "      <td>MAR</td>\n",
       "      <td>815035</td>\n",
       "      <td>Kakamega Homeboyz</td>\n",
       "      <td>KAH</td>\n",
       "      <td>213604</td>\n",
       "      <td>3</td>\n",
       "      <td>0</td>\n",
       "    </tr>\n",
       "    <tr>\n",
       "      <th>7</th>\n",
       "      <td>Kenyan Premier League</td>\n",
       "      <td>24/25</td>\n",
       "      <td>1</td>\n",
       "      <td>12654168</td>\n",
       "      <td>IDFsHufb</td>\n",
       "      <td>Finished</td>\n",
       "      <td>Mathare United</td>\n",
       "      <td>MAU</td>\n",
       "      <td>138482</td>\n",
       "      <td>AFC Leopards SC</td>\n",
       "      <td>LDS</td>\n",
       "      <td>76433</td>\n",
       "      <td>0</td>\n",
       "      <td>4</td>\n",
       "    </tr>\n",
       "    <tr>\n",
       "      <th>8</th>\n",
       "      <td>Kenyan Premier League</td>\n",
       "      <td>24/25</td>\n",
       "      <td>1</td>\n",
       "      <td>12654171</td>\n",
       "      <td>YufbsCYHc</td>\n",
       "      <td>Finished</td>\n",
       "      <td>Ulinzi Stars</td>\n",
       "      <td>ULS</td>\n",
       "      <td>138498</td>\n",
       "      <td>Muranga Seal</td>\n",
       "      <td>MUR</td>\n",
       "      <td>332427</td>\n",
       "      <td>0</td>\n",
       "      <td>1</td>\n",
       "    </tr>\n",
       "  </tbody>\n",
       "</table>\n",
       "</div>"
      ],
      "text/plain": [
       "              tournament season  round   matchID matchCustomID matchStatus  \\\n",
       "0  Kenyan Premier League  24/25      1  12654167     zufbsfxKb    Finished   \n",
       "1  Kenyan Premier League  24/25      1  12654173     KzdcsFhIc    Finished   \n",
       "2  Kenyan Premier League  24/25      1  12654166     DufbsHvYb    Finished   \n",
       "3  Kenyan Premier League  24/25      1  12654170     LufbsDbzc   Postponed   \n",
       "4  Kenyan Premier League  24/25      1  12654169     NufbsWufb    Finished   \n",
       "5  Kenyan Premier League  24/25      1  12654172     gLdbspqzc   Postponed   \n",
       "6  Kenyan Premier League  24/25      1  12654174     exKbsKaBg    Finished   \n",
       "7  Kenyan Premier League  24/25      1  12654168      IDFsHufb    Finished   \n",
       "8  Kenyan Premier League  24/25      1  12654171     YufbsCYHc    Finished   \n",
       "\n",
       "           homeTeamnName homeTeamnNameCode  homeTeamID           awayTeamName  \\\n",
       "0          Posta Rangers               PRA      213605             Bandari FC   \n",
       "1           Bidco United               BID      258735             Shabana FC   \n",
       "2  Kenya Commercial Bank               KCB      138478      Kariobangi Sharks   \n",
       "3  Administration Police               APO      310078  Nairobi City Stars FC   \n",
       "4                 Tusker               TUS      138496               Sofapaka   \n",
       "5             FC Talanta               TAL      310815           Gor Mahia FC   \n",
       "6          Mara Sugar FC               MAR      815035      Kakamega Homeboyz   \n",
       "7         Mathare United               MAU      138482        AFC Leopards SC   \n",
       "8           Ulinzi Stars               ULS      138498           Muranga Seal   \n",
       "\n",
       "  awayTeamNameCode  awayTeamID homeScoreFT awayScoreFT  \n",
       "0              BAN      138474           1           1  \n",
       "1              SHA      332880           1           1  \n",
       "2              KAR      246032           0           0  \n",
       "3              NCS      138486           -           -  \n",
       "4              SOF      138488           1           0  \n",
       "5              GOR      134306           -           -  \n",
       "6              KAH      213604           3           0  \n",
       "7              LDS       76433           0           4  \n",
       "8              MUR      332427           0           1  "
      ]
     },
     "execution_count": 141,
     "metadata": {},
     "output_type": "execute_result"
    }
   ],
   "source": [
    "df = pd.DataFrame(alldata)\n",
    "df"
   ]
  },
  {
   "cell_type": "code",
   "execution_count": 22,
   "metadata": {},
   "outputs": [],
   "source": [
    "#os.makedirs('Season-2014', exist_ok=True)"
   ]
  },
  {
   "cell_type": "code",
   "execution_count": 24,
   "metadata": {},
   "outputs": [
    {
     "data": {
      "text/plain": [
       "1"
      ]
     },
     "execution_count": 24,
     "metadata": {},
     "output_type": "execute_result"
    }
   ],
   "source": [
    "df = pd.DataFrame(alldata)\n",
    "df['round'][1]#.to_csv('Season-2014/round1.csv')"
   ]
  },
  {
   "cell_type": "code",
   "execution_count": 3,
   "metadata": {},
   "outputs": [
    {
     "data": {
      "text/html": [
       "<pre style=\"white-space:pre;overflow-x:auto;line-height:normal;font-family:Menlo,'DejaVu Sans Mono',consolas,'Courier New',monospace\"><span style=\"font-weight: bold\">[</span>\n",
       "    <span style=\"color: #008000; text-decoration-color: #008000\">'2014'</span>,\n",
       "    <span style=\"color: #008000; text-decoration-color: #008000\">'2015'</span>,\n",
       "    <span style=\"color: #008000; text-decoration-color: #008000\">'2016'</span>,\n",
       "    <span style=\"color: #008000; text-decoration-color: #008000\">'2017'</span>,\n",
       "    <span style=\"color: #008000; text-decoration-color: #008000\">'2018'</span>,\n",
       "    <span style=\"color: #008000; text-decoration-color: #008000\">'2018-2019'</span>,\n",
       "    <span style=\"color: #008000; text-decoration-color: #008000\">'2019-2020'</span>,\n",
       "    <span style=\"color: #008000; text-decoration-color: #008000\">'2020-2021'</span>,\n",
       "    <span style=\"color: #008000; text-decoration-color: #008000\">'2021-2022'</span>,\n",
       "    <span style=\"color: #008000; text-decoration-color: #008000\">'2022-2023'</span>,\n",
       "    <span style=\"color: #008000; text-decoration-color: #008000\">'2023-2024'</span>,\n",
       "    <span style=\"color: #008000; text-decoration-color: #008000\">'2024-2025'</span>\n",
       "<span style=\"font-weight: bold\">]</span>\n",
       "</pre>\n"
      ],
      "text/plain": [
       "\u001b[1m[\u001b[0m\n",
       "    \u001b[32m'2014'\u001b[0m,\n",
       "    \u001b[32m'2015'\u001b[0m,\n",
       "    \u001b[32m'2016'\u001b[0m,\n",
       "    \u001b[32m'2017'\u001b[0m,\n",
       "    \u001b[32m'2018'\u001b[0m,\n",
       "    \u001b[32m'2018-2019'\u001b[0m,\n",
       "    \u001b[32m'2019-2020'\u001b[0m,\n",
       "    \u001b[32m'2020-2021'\u001b[0m,\n",
       "    \u001b[32m'2021-2022'\u001b[0m,\n",
       "    \u001b[32m'2022-2023'\u001b[0m,\n",
       "    \u001b[32m'2023-2024'\u001b[0m,\n",
       "    \u001b[32m'2024-2025'\u001b[0m\n",
       "\u001b[1m]\u001b[0m\n"
      ]
     },
     "metadata": {},
     "output_type": "display_data"
    }
   ],
   "source": [
    "\n",
    "print(os.listdir('C:/MyProjects/WebScraping/Scrapy/KPL-Project/data/bySeasons'))"
   ]
  },
  {
   "cell_type": "code",
   "execution_count": null,
   "metadata": {},
   "outputs": [],
   "source": [
    "seasonIDs = {7752:\"2014\", 9841:\"2015\", 11265:\"2016\", 12921:\"2017\", 15858:\"2018\", 19876:\"2018-2019\", 24023:\"2019-2020\",\n",
    "             34876:\"2020-2021\", 38844:\"2021-2022\", 45686:\"2022-2023\", 53922:\"2023-2024\", 65071:\"2024-2025\"}\n",
    "j=[]\n",
    "for seasonID in seasonIDs:\n",
    "    directory = seasonIDs[seasonID]\n",
    "    print(directory)\n",
    "\n"
   ]
  },
  {
   "cell_type": "code",
   "execution_count": 26,
   "metadata": {},
   "outputs": [
    {
     "data": {
      "text/html": [
       "<pre style=\"white-space:pre;overflow-x:auto;line-height:normal;font-family:Menlo,'DejaVu Sans Mono',consolas,'Courier New',monospace\"><span style=\"color: #008080; text-decoration-color: #008080; font-weight: bold\">2014</span>\n",
       "</pre>\n"
      ],
      "text/plain": [
       "\u001b[1;36m2014\u001b[0m\n"
      ]
     },
     "metadata": {},
     "output_type": "display_data"
    }
   ],
   "source": [
    "IDs = {7752:\"2014\",}\n",
    "for ID in IDs:\n",
    "    print(IDs[ID])"
   ]
  }
 ],
 "metadata": {
  "kernelspec": {
   "display_name": "Python 3",
   "language": "python",
   "name": "python3"
  },
  "language_info": {
   "codemirror_mode": {
    "name": "ipython",
    "version": 3
   },
   "file_extension": ".py",
   "mimetype": "text/x-python",
   "name": "python",
   "nbconvert_exporter": "python",
   "pygments_lexer": "ipython3",
   "version": "3.12.4"
  }
 },
 "nbformat": 4,
 "nbformat_minor": 2
}
