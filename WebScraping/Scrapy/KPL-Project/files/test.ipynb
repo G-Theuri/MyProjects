{
 "cells": [
  {
   "cell_type": "code",
   "execution_count": 1,
   "metadata": {},
   "outputs": [],
   "source": [
    "from curl_cffi import requests as cureq\n",
    "import pandas as pd\n",
    "import time\n",
    "import json\n",
    "from rich import print\n",
    "import os"
   ]
  },
  {
   "cell_type": "code",
   "execution_count": 2,
   "metadata": {},
   "outputs": [],
   "source": [
    "seasonIDs = {7752:\"2014\", 9841:\"2015\", 11265:\"2016\", 12921:\"2017\", 15858:\"2018\", 19876:\"2018-2019\", 24023:\"2019-2020\",\n",
    "             34876:\"2020-2021\", 38844:\"2021-2022\", 45686:\"2022-2023\", 53922:\"2023-2024\", 65071:\"2024-2025\"}"
   ]
  },
  {
   "cell_type": "code",
   "execution_count": 3,
   "metadata": {},
   "outputs": [],
   "source": [
    "response = cureq.get(\"https://www.sofascore.com/api/v1/unique-tournament/1644/season/19876/standings/total\", impersonate=\"chrome\")"
   ]
  },
  {
   "cell_type": "code",
   "execution_count": 23,
   "metadata": {},
   "outputs": [],
   "source": [
    "rows = json.loads(response.text)\n",
    "alldata = []\n",
    "\n",
    "for row in rows['standings'][0]['rows']:\n",
    "    data= {\n",
    "                \"Position\": row['position'],\n",
    "                \"TeamName\": row['team']['name'],\n",
    "                \"NameCode\": row['team']['nameCode'],\n",
    "                \"ShortName\": row['team']['shortName'],\n",
    "                \"TeamID\": row['team']['id'],\n",
    "                \"Teamcolor\": row['team']['teamColors']['primary'],\n",
    "                \"Played\": row['matches'],\n",
    "                \"Won\": row['wins'],\n",
    "                \"Drawn\": row['draws'],\n",
    "                \"Lost\": row['losses'],\n",
    "                \"GF\": row['scoresFor'],\n",
    "                \"GA\": row['scoresAgainst'],\n",
    "                \"Points\": row['points'],\n",
    "\n",
    "        }\n",
    "    alldata.append(data)\n",
    "#print(rows['standings'][0]['rows'])"
   ]
  },
  {
   "cell_type": "code",
   "execution_count": 29,
   "metadata": {},
   "outputs": [],
   "source": [
    "df = pd.DataFrame(alldata, index=None)\n",
    "df.to_csv('table.csv', mode='w+', index=False)#['matchCustomID']"
   ]
  }
 ],
 "metadata": {
  "kernelspec": {
   "display_name": "Python 3",
   "language": "python",
   "name": "python3"
  },
  "language_info": {
   "codemirror_mode": {
    "name": "ipython",
    "version": 3
   },
   "file_extension": ".py",
   "mimetype": "text/x-python",
   "name": "python",
   "nbconvert_exporter": "python",
   "pygments_lexer": "ipython3",
   "version": "3.11.4"
  }
 },
 "nbformat": 4,
 "nbformat_minor": 2
}
