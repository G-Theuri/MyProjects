{
 "cells": [
  {
   "cell_type": "code",
   "execution_count": 18,
   "metadata": {},
   "outputs": [],
   "source": [
    "from curl_cffi import requests as cureq\n",
    "import pandas as pd\n",
    "import time\n",
    "import json\n",
    "from rich import print\n",
    "import os"
   ]
  },
  {
   "cell_type": "code",
   "execution_count": 19,
   "metadata": {},
   "outputs": [],
   "source": [
    "response = cureq.get(\"https://www.sofascore.com/api/v1/unique-tournament/1644/season/7752/events/round/1\", impersonate=\"chrome\")"
   ]
  },
  {
   "cell_type": "code",
   "execution_count": 20,
   "metadata": {},
   "outputs": [],
   "source": [
    "alldata =[]\n",
    "games = json.loads(response.text)\n",
    "for game in games[\"events\"]:\n",
    "    matchdata = {\n",
    "                \"tournament\" : game[\"tournament\"][\"uniqueTournament\"][\"name\"],\n",
    "                \"season\" : game[\"season\"][\"year\"],\n",
    "                \"round\" : game[\"roundInfo\"][\"round\"],\n",
    "                \"matchID\" : game[\"id\"],\n",
    "                \"matchCustomID\" : game[\"customId\"],\n",
    "                \"matchStatus\" : game[\"status\"][\"description\"], # Ended, Postponed, Not started\n",
    "                \"homeTeamnName\" :game[\"homeTeam\"][\"name\"],\n",
    "                \"homeTeamnNameCode\":game[\"homeTeam\"][\"nameCode\"],\n",
    "                'homeTeamID' : game[\"homeTeam\"][\"id\"],\n",
    "                \"awayTeamName\": game[\"awayTeam\"][\"name\"],\n",
    "                'awayTeamNameCode': game[\"awayTeam\"][\"nameCode\"],\n",
    "                'awayTeamID' : game[\"awayTeam\"][\"id\"],\n",
    "    }\n",
    "    \n",
    "    if matchdata[\"matchStatus\"] == \"Ended\":\n",
    "        matchScores = {\n",
    "            #'homeScoreHT' : game[\"homeScore\"][\"period1\"],\n",
    "            #'awayScoreHT' : game[\"awayScore\"][\"period1\"],\n",
    "            'homeScoreFT' : game[\"homeScore\"][\"normaltime\"],\n",
    "            'awayScoreFT' : game[\"awayScore\"][\"normaltime\"],\n",
    "        }\n",
    "    else:\n",
    "        matchScores = {\n",
    "            #'homeScoreHT' : \"-\",\n",
    "            #'awayScoreHT' : \"-\",\n",
    "            'homeScoreFT' : \"-\",\n",
    "            'awayScoreFT' : \"-\",\n",
    "        }\n",
    "    #data = matchdata | matchScores\n",
    "    alldata.append(matchdata | matchScores)\n"
   ]
  },
  {
   "cell_type": "code",
   "execution_count": 22,
   "metadata": {},
   "outputs": [],
   "source": [
    "#os.makedirs('Season-2014', exist_ok=True)"
   ]
  },
  {
   "cell_type": "code",
   "execution_count": 24,
   "metadata": {},
   "outputs": [
    {
     "data": {
      "text/plain": [
       "1"
      ]
     },
     "execution_count": 24,
     "metadata": {},
     "output_type": "execute_result"
    }
   ],
   "source": [
    "df = pd.DataFrame(alldata)\n",
    "df['round'][1]#.to_csv('Season-2014/round1.csv')"
   ]
  },
  {
   "cell_type": "code",
   "execution_count": 3,
   "metadata": {},
   "outputs": [
    {
     "data": {
      "text/html": [
       "<pre style=\"white-space:pre;overflow-x:auto;line-height:normal;font-family:Menlo,'DejaVu Sans Mono',consolas,'Courier New',monospace\"><span style=\"font-weight: bold\">[</span>\n",
       "    <span style=\"color: #008000; text-decoration-color: #008000\">'2014'</span>,\n",
       "    <span style=\"color: #008000; text-decoration-color: #008000\">'2015'</span>,\n",
       "    <span style=\"color: #008000; text-decoration-color: #008000\">'2016'</span>,\n",
       "    <span style=\"color: #008000; text-decoration-color: #008000\">'2017'</span>,\n",
       "    <span style=\"color: #008000; text-decoration-color: #008000\">'2018'</span>,\n",
       "    <span style=\"color: #008000; text-decoration-color: #008000\">'2018-2019'</span>,\n",
       "    <span style=\"color: #008000; text-decoration-color: #008000\">'2019-2020'</span>,\n",
       "    <span style=\"color: #008000; text-decoration-color: #008000\">'2020-2021'</span>,\n",
       "    <span style=\"color: #008000; text-decoration-color: #008000\">'2021-2022'</span>,\n",
       "    <span style=\"color: #008000; text-decoration-color: #008000\">'2022-2023'</span>,\n",
       "    <span style=\"color: #008000; text-decoration-color: #008000\">'2023-2024'</span>,\n",
       "    <span style=\"color: #008000; text-decoration-color: #008000\">'2024-2025'</span>\n",
       "<span style=\"font-weight: bold\">]</span>\n",
       "</pre>\n"
      ],
      "text/plain": [
       "\u001b[1m[\u001b[0m\n",
       "    \u001b[32m'2014'\u001b[0m,\n",
       "    \u001b[32m'2015'\u001b[0m,\n",
       "    \u001b[32m'2016'\u001b[0m,\n",
       "    \u001b[32m'2017'\u001b[0m,\n",
       "    \u001b[32m'2018'\u001b[0m,\n",
       "    \u001b[32m'2018-2019'\u001b[0m,\n",
       "    \u001b[32m'2019-2020'\u001b[0m,\n",
       "    \u001b[32m'2020-2021'\u001b[0m,\n",
       "    \u001b[32m'2021-2022'\u001b[0m,\n",
       "    \u001b[32m'2022-2023'\u001b[0m,\n",
       "    \u001b[32m'2023-2024'\u001b[0m,\n",
       "    \u001b[32m'2024-2025'\u001b[0m\n",
       "\u001b[1m]\u001b[0m\n"
      ]
     },
     "metadata": {},
     "output_type": "display_data"
    }
   ],
   "source": [
    "\n",
    "print(os.listdir('C:/MyProjects/WebScraping/Scrapy/KPL-Project/data/bySeasons'))"
   ]
  },
  {
   "cell_type": "code",
   "execution_count": null,
   "metadata": {},
   "outputs": [],
   "source": [
    "seasonIDs = {7752:\"2014\", 9841:\"2015\", 11265:\"2016\", 12921:\"2017\", 15858:\"2018\", 19876:\"2018-2019\", 24023:\"2019-2020\",\n",
    "             34876:\"2020-2021\", 38844:\"2021-2022\", 45686:\"2022-2023\", 53922:\"2023-2024\", 65071:\"2024-2025\"}\n",
    "j=[]\n",
    "for seasonID in seasonIDs:\n",
    "    directory = seasonIDs[seasonID]\n",
    "    print(directory)\n",
    "\n"
   ]
  },
  {
   "cell_type": "code",
   "execution_count": 26,
   "metadata": {},
   "outputs": [
    {
     "data": {
      "text/html": [
       "<pre style=\"white-space:pre;overflow-x:auto;line-height:normal;font-family:Menlo,'DejaVu Sans Mono',consolas,'Courier New',monospace\"><span style=\"color: #008080; text-decoration-color: #008080; font-weight: bold\">2014</span>\n",
       "</pre>\n"
      ],
      "text/plain": [
       "\u001b[1;36m2014\u001b[0m\n"
      ]
     },
     "metadata": {},
     "output_type": "display_data"
    }
   ],
   "source": [
    "IDs = {7752:\"2014\",}\n",
    "for ID in IDs:\n",
    "    print(IDs[ID])"
   ]
  }
 ],
 "metadata": {
  "kernelspec": {
   "display_name": "Python 3",
   "language": "python",
   "name": "python3"
  },
  "language_info": {
   "codemirror_mode": {
    "name": "ipython",
    "version": 3
   },
   "file_extension": ".py",
   "mimetype": "text/x-python",
   "name": "python",
   "nbconvert_exporter": "python",
   "pygments_lexer": "ipython3",
   "version": "3.11.4"
  }
 },
 "nbformat": 4,
 "nbformat_minor": 2
}
