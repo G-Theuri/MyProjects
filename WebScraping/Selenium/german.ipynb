{
 "cells": [
  {
   "cell_type": "code",
   "execution_count": 2,
   "metadata": {},
   "outputs": [],
   "source": [
    "from selenium import webdriver\n",
    "from selenium.webdriver.common.by import By\n",
    "from selenium.webdriver.support.wait import WebDriverWait\n",
    "import time\n"
   ]
  },
  {
   "cell_type": "code",
   "execution_count": 3,
   "metadata": {},
   "outputs": [],
   "source": [
    "driver = webdriver.Chrome()\n",
    "driver.get('https://www.gelbeseiten.de/suche/steuerberatung/essen?umkreis=50000')\n",
    "time.sleep(3)"
   ]
  },
  {
   "cell_type": "code",
   "execution_count": 4,
   "metadata": {},
   "outputs": [],
   "source": [
    "driver.find_element(By.XPATH, '//*[@id=\"cmpwelcomebtnyes\"]/a').click()"
   ]
  },
  {
   "cell_type": "code",
   "execution_count": 5,
   "metadata": {},
   "outputs": [
    {
     "name": "stdout",
     "output_type": "stream",
     "text": [
      "50\n",
      "50\n",
      "50\n",
      "50\n",
      "50\n",
      "50\n",
      "50\n",
      "50\n",
      "50\n",
      "50\n",
      "50\n",
      "50\n",
      "50\n",
      "50\n",
      "50\n",
      "50\n",
      "50\n"
     ]
    }
   ],
   "source": [
    "total = 3933\n",
    "loadmorebutton = driver.find_element(By.XPATH, '//a[@id=\"mod-LoadMore--button\"]')\n",
    "profiles =driver.find_elements(By.XPATH, '//div[@id=\"teilnehmer_block\"]/div/article')\n",
    "\n",
    "while len(profiles)!= total:\n",
    "    try:\n",
    "        driver.execute_script(\"arguments[0].scrollIntoView(false);\", loadmorebutton)\n",
    "        loadmorebutton.click()\n",
    "        count = len(profiles)\n",
    "        print(count)\n",
    "        time.sleep(3)\n",
    "    except:\n",
    "        loadmore = False\n"
   ]
  }
 ],
 "metadata": {
  "kernelspec": {
   "display_name": "venv",
   "language": "python",
   "name": "python3"
  },
  "language_info": {
   "codemirror_mode": {
    "name": "ipython",
    "version": 3
   },
   "file_extension": ".py",
   "mimetype": "text/x-python",
   "name": "python",
   "nbconvert_exporter": "python",
   "pygments_lexer": "ipython3",
   "version": "3.11.4"
  }
 },
 "nbformat": 4,
 "nbformat_minor": 2
}
