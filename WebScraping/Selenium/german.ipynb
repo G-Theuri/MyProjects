{
 "cells": [
  {
   "cell_type": "code",
   "execution_count": 70,
   "metadata": {},
   "outputs": [],
   "source": [
    "import undetected_chromedriver as uc\n",
    "from selenium.webdriver.common.by import By\n",
    "import time\n",
    "import json"
   ]
  },
  {
   "cell_type": "code",
   "execution_count": 71,
   "metadata": {},
   "outputs": [],
   "source": [
    "options =uc.ChromeOptions()\n",
    "driver = uc.Chrome(options)"
   ]
  },
  {
   "cell_type": "code",
   "execution_count": 72,
   "metadata": {},
   "outputs": [],
   "source": [
    "driver.get('https://www.gelbeseiten.de/suche/steuerberatung/essen?umkreis=50000')\n",
    "time.sleep(3)"
   ]
  },
  {
   "cell_type": "code",
   "execution_count": 73,
   "metadata": {},
   "outputs": [],
   "source": [
    "driver.find_element(By.XPATH, '//span[@id=\"cmpwelcomebtnyes\"]/a').click()"
   ]
  },
  {
   "cell_type": "code",
   "execution_count": 7,
   "metadata": {},
   "outputs": [
    {
     "name": "stdout",
     "output_type": "stream",
     "text": [
      "50\n",
      "60\n",
      "70\n",
      "80\n",
      "90\n",
      "100\n",
      "110\n",
      "120\n",
      "130\n",
      "140\n",
      "150\n",
      "160\n",
      "180\n",
      "190\n",
      "200\n",
      "210\n",
      "220\n",
      "230\n",
      "240\n",
      "250\n",
      "260\n",
      "270\n",
      "280\n",
      "290\n",
      "300\n",
      "310\n",
      "320\n",
      "330\n",
      "340\n",
      "350\n",
      "360\n",
      "370\n",
      "380\n",
      "390\n",
      "400\n",
      "410\n",
      "420\n",
      "430\n",
      "440\n",
      "450\n",
      "460\n",
      "470\n",
      "480\n",
      "490\n",
      "500\n"
     ]
    }
   ],
   "source": [
    "total = 500\n",
    "loadmorebutton = driver.find_element(By.XPATH, '//a[@id=\"mod-LoadMore--button\"]')\n",
    "\n",
    "while len(driver.find_elements(By.XPATH, '//div[@id=\"teilnehmer_block\"]/div/article'))!= total:\n",
    "    try:\n",
    "        driver.execute_script(\"arguments[0].scrollIntoView(false);\", loadmorebutton)\n",
    "        loadmorebutton.click()\n",
    "        print( len(driver.find_elements(By.XPATH, '//div[@id=\"teilnehmer_block\"]/div/article')))\n",
    "        time.sleep(3)\n",
    "    except:\n",
    "        loadmore = False\n"
   ]
  },
  {
   "cell_type": "code",
   "execution_count": 60,
   "metadata": {},
   "outputs": [
    {
     "data": {
      "text/plain": [
       "'steuerberatung@kueppers-tonner.de'"
      ]
     },
     "execution_count": 60,
     "metadata": {},
     "output_type": "execute_result"
    }
   ],
   "source": [
    "driver.find_element(By.XPATH, './/div[@id=\"email_versenden\"]').get_attribute(\"data-link\").removeprefix('mailto:').removesuffix(\"?subject=Anfrage über Gelbe Seiten\")"
   ]
  },
  {
   "cell_type": "code",
   "execution_count": 74,
   "metadata": {},
   "outputs": [
    {
     "data": {
      "text/plain": [
       "'https://www.gelbeseiten.de/gsbiz/7743b3ea-058b-49ed-9dce-52ce7f3a6e1d'"
      ]
     },
     "execution_count": 74,
     "metadata": {},
     "output_type": "execute_result"
    }
   ],
   "source": [
    "sample = driver.find_element(By.XPATH, '//*[@id=\"gs_treffer\"]/article')\n",
    "sample.find_element(By.XPATH, \".//a\").get_attribute('href')"
   ]
  },
  {
   "cell_type": "code",
   "execution_count": 80,
   "metadata": {},
   "outputs": [
    {
     "name": "stdout",
     "output_type": "stream",
     "text": [
      "1,3 km\n"
     ]
    },
    {
     "ename": "IndexError",
     "evalue": "list index out of range",
     "output_type": "error",
     "traceback": [
      "\u001b[1;31m---------------------------------------------------------------------------\u001b[0m",
      "\u001b[1;31mIndexError\u001b[0m                                Traceback (most recent call last)",
      "Cell \u001b[1;32mIn[80], line 13\u001b[0m\n\u001b[0;32m     11\u001b[0m link \u001b[38;5;241m=\u001b[39m profile\u001b[38;5;241m.\u001b[39mfind_element(By\u001b[38;5;241m.\u001b[39mXPATH, \u001b[38;5;124m\"\u001b[39m\u001b[38;5;124m.//a\u001b[39m\u001b[38;5;124m\"\u001b[39m)\u001b[38;5;241m.\u001b[39mget_attribute(\u001b[38;5;124m'\u001b[39m\u001b[38;5;124mhref\u001b[39m\u001b[38;5;124m'\u001b[39m)\n\u001b[0;32m     12\u001b[0m page \u001b[38;5;241m=\u001b[39m driver\u001b[38;5;241m.\u001b[39mexecute_script(\u001b[38;5;124m\"\u001b[39m\u001b[38;5;124mwindow.open(\u001b[39m\u001b[38;5;124m'\u001b[39m\u001b[38;5;132;01m{}\u001b[39;00m\u001b[38;5;124m'\u001b[39m\u001b[38;5;124m, \u001b[39m\u001b[38;5;124m'\u001b[39m\u001b[38;5;124m_blank\u001b[39m\u001b[38;5;124m'\u001b[39m\u001b[38;5;124m);\u001b[39m\u001b[38;5;124m\"\u001b[39m\u001b[38;5;241m.\u001b[39mformat(link))\n\u001b[1;32m---> 13\u001b[0m driver\u001b[38;5;241m.\u001b[39mswitch_to\u001b[38;5;241m.\u001b[39mwindow(\u001b[43mdriver\u001b[49m\u001b[38;5;241;43m.\u001b[39;49m\u001b[43mwindow_handles\u001b[49m\u001b[43m[\u001b[49m\u001b[38;5;241;43m1\u001b[39;49m\u001b[43m]\u001b[49m)\n\u001b[0;32m     14\u001b[0m \u001b[38;5;250m\u001b[39m\u001b[38;5;124;03m'''\u001b[39;00m\n\u001b[0;32m     15\u001b[0m \u001b[38;5;124;03mdata.append({\u001b[39;00m\n\u001b[0;32m     16\u001b[0m \u001b[38;5;124;03m    'Name': driver.find_element(By.XPATH, '//div[@class=\"mod-TeilnehmerKopf__Name-wrapper\"]/h1').text,\u001b[39;00m\n\u001b[1;32m   (...)\u001b[0m\n\u001b[0;32m     24\u001b[0m \u001b[38;5;124;03m    'Website': driver.find_element(By.XPATH, '//a[@data-wipe-realview=\"detailseite_webadresse\"]').get_attribute(\"href\"),\u001b[39;00m\n\u001b[0;32m     25\u001b[0m \u001b[38;5;124;03m})'''\u001b[39;00m\n\u001b[0;32m     27\u001b[0m time\u001b[38;5;241m.\u001b[39msleep(\u001b[38;5;241m2\u001b[39m)\n",
      "\u001b[1;31mIndexError\u001b[0m: list index out of range"
     ]
    }
   ],
   "source": [
    "data =[]\n",
    "profiles = driver.find_elements(By.XPATH, '//*[@id=\"gs_treffer\"]/article')\n",
    "\n",
    "for profile in profiles:\n",
    "    driver.execute_script(\"arguments[0].scrollIntoView();\", profile)\n",
    "    time.sleep(2)\n",
    "    \n",
    "    distance = profile.find_element(By.XPATH, './/span[@class=\"mod-AdresseKompakt__entfernung\"]').text\n",
    "    print(distance)\n",
    "\n",
    "    link = profile.find_element(By.XPATH, \".//a\").get_attribute('href')\n",
    "    page = driver.execute_script(\"window.open('{}', '_blank');\".format(link))\n",
    "    driver.switch_to.window(driver.window_handles[1])\n",
    "    '''\n",
    "    data.append({\n",
    "        'Name': driver.find_element(By.XPATH, '//div[@class=\"mod-TeilnehmerKopf__Name-wrapper\"]/h1').text,\n",
    "        'TaxAdvice': driver.find_element(By.XPATH, '//div[@class=\"mod-TeilnehmerKopf__branchen\"]/span[3]').text.replace('TAX ADVICE: ', ''),\n",
    "        \"Email\": driver.find_element(By.XPATH, '//div[@id=\"email_versenden\"]').get_attribute(\"data-link\").removeprefix('mailto:').removesuffix(\"?subject=Anfrage über Gelbe Seiten\"),\n",
    "        'Location':(driver.find_element(By.XPATH, '//address[@class=\"mod-TeilnehmerKopf__adresse\"]/div/span').text) + ' ' +\n",
    "                (driver.find_element(By.XPATH, '//address[@class=\"mod-TeilnehmerKopf__adresse\"]/div/span[2]').text) + ' ' +\n",
    "                (driver.find_element(By.XPATH, '//address[@class=\"mod-TeilnehmerKopf__adresse\"]/div/span[3]').text),\n",
    "        'Distance': distance,            \n",
    "        'Phone': driver.find_element(By.XPATH, '//span[@data-role=\"telefonnummer\"]/a/span').text,\n",
    "        'Website': driver.find_element(By.XPATH, '//a[@data-wipe-realview=\"detailseite_webadresse\"]').get_attribute(\"href\"),\n",
    "    })'''\n",
    "\n",
    "    time.sleep(2)\n",
    "    driver.close()\n",
    "\n",
    "    driver.switch_to.window(driver.window_handles[0])\n",
    "    time.sleep(2)\n",
    "\n",
    "#with open('german.json', 'w') as g:\n",
    "    #json.dump(data, g)\n",
    "\n",
    "driver.quit()\n"
   ]
  },
  {
   "cell_type": "code",
   "execution_count": null,
   "metadata": {},
   "outputs": [],
   "source": []
  }
 ],
 "metadata": {
  "kernelspec": {
   "display_name": "venv",
   "language": "python",
   "name": "python3"
  },
  "language_info": {
   "codemirror_mode": {
    "name": "ipython",
    "version": 3
   },
   "file_extension": ".py",
   "mimetype": "text/x-python",
   "name": "python",
   "nbconvert_exporter": "python",
   "pygments_lexer": "ipython3",
   "version": "3.11.4"
  }
 },
 "nbformat": 4,
 "nbformat_minor": 2
}
