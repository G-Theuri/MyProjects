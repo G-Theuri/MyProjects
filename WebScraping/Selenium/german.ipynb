{
 "cells": [
  {
   "cell_type": "code",
   "execution_count": 1,
   "metadata": {},
   "outputs": [],
   "source": [
    "import undetected_chromedriver as uc\n",
    "from selenium.webdriver.common.by import By\n",
    "import time"
   ]
  },
  {
   "cell_type": "code",
   "execution_count": 4,
   "metadata": {},
   "outputs": [],
   "source": [
    "options =uc.ChromeOptions()\n",
    "driver = uc.Chrome(options)"
   ]
  },
  {
   "cell_type": "code",
   "execution_count": 5,
   "metadata": {},
   "outputs": [],
   "source": [
    "driver.get('https://www.gelbeseiten.de/suche/steuerberatung/essen?umkreis=50000')\n",
    "time.sleep(3)"
   ]
  },
  {
   "cell_type": "code",
   "execution_count": 6,
   "metadata": {},
   "outputs": [],
   "source": [
    "driver.find_element(By.XPATH, '//*[@id=\"cmpwelcomebtnyes\"]/a').click()"
   ]
  },
  {
   "cell_type": "code",
   "execution_count": 7,
   "metadata": {},
   "outputs": [
    {
     "name": "stdout",
     "output_type": "stream",
     "text": [
      "50\n",
      "60\n",
      "70\n",
      "80\n",
      "90\n",
      "100\n",
      "110\n",
      "120\n",
      "130\n",
      "140\n",
      "150\n",
      "160\n",
      "170\n",
      "180\n",
      "190\n",
      "200\n",
      "210\n",
      "220\n",
      "230\n",
      "240\n",
      "250\n",
      "260\n",
      "270\n",
      "280\n",
      "290\n",
      "300\n",
      "310\n",
      "320\n",
      "330\n",
      "340\n",
      "350\n",
      "360\n",
      "370\n",
      "380\n",
      "400\n",
      "400\n",
      "420\n",
      "420\n",
      "430\n",
      "450\n",
      "460\n",
      "460\n",
      "470\n",
      "490\n",
      "500\n"
     ]
    }
   ],
   "source": [
    "total = 500\n",
    "loadmorebutton = driver.find_element(By.XPATH, '//a[@id=\"mod-LoadMore--button\"]')\n",
    "\n",
    "while len(driver.find_elements(By.XPATH, '//div[@id=\"teilnehmer_block\"]/div/article'))!= total:\n",
    "    try:\n",
    "        driver.execute_script(\"arguments[0].scrollIntoView(false);\", loadmorebutton)\n",
    "        loadmorebutton.click()\n",
    "        print( len(driver.find_elements(By.XPATH, '//div[@id=\"teilnehmer_block\"]/div/article')))\n",
    "        time.sleep(3)\n",
    "    except:\n",
    "        loadmore = False\n"
   ]
  },
  {
   "cell_type": "code",
   "execution_count": null,
   "metadata": {},
   "outputs": [],
   "source": []
  }
 ],
 "metadata": {
  "kernelspec": {
   "display_name": "venv",
   "language": "python",
   "name": "python3"
  },
  "language_info": {
   "codemirror_mode": {
    "name": "ipython",
    "version": 3
   },
   "file_extension": ".py",
   "mimetype": "text/x-python",
   "name": "python",
   "nbconvert_exporter": "python",
   "pygments_lexer": "ipython3",
   "version": "3.12.4"
  }
 },
 "nbformat": 4,
 "nbformat_minor": 2
}
