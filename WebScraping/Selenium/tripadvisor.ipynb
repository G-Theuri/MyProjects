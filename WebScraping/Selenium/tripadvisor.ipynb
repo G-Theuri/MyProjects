{
 "cells": [
  {
   "cell_type": "code",
   "execution_count": 17,
   "metadata": {},
   "outputs": [],
   "source": [
    "import undetected_chromedriver as uc\n",
    "from selenium.webdriver.common.by import By\n",
    "import time\n",
    "import json\n",
    "import pandas as pd"
   ]
  },
  {
   "cell_type": "code",
   "execution_count": 18,
   "metadata": {},
   "outputs": [],
   "source": [
    "options =uc.ChromeOptions()\n",
    "headers = {\n",
    "    \"user-agent\": 'Mozilla/5.0 (Windows NT 10.0; Win64; x64) AppleWebKit/537.36 (KHTML, like Gecko) Chrome/127.0.0.0 Safari/537.36',\n",
    "    \"cookie\": \"TAUnique=%1%enc%3AKmIbg1MQxTswz1X7SSvD9ns7aGruiGpVHlTzz4aXsXKKyCJ%2BapUMwa9%2B43Fu6n0kNox8JbUSTxk%3D; TADCID=ggzjRUXXa7uHWUEFABQCrj-Ib21-TgWwDB4AzTFpg39Iq70hiVRKesQ-58lb6ldFnKt5rR825henTjtcf4Mhz1pNK-MMYrQaQM4; TASameSite=1; TASSK=enc%3AAEVln%2BWGBXUBVj6h19nAEU29uAK2%2F0%2FjnWyw09pYIAEPLRRohfKoQmY0OR1POdYKUYAy9bfXZy3Y3Lcj2OGiM6QHAjnh6wFE%2BGHDM7ZmEfAjSF6OYXuX6fJc%2FPzMsejgxA%3D%3D; SRT=TART_SYNC; ServerPool=X; PMC=V2*MS.82*MD.20240801*LD.20240801; TART=%1%enc%3AbxA7R1ikcvQVDKdeQn%2FzQcFqKdR3%2FxvfFklKBObJCf2ML3ce229MpLG6CZPTFM8%2Bk4uoPekM0No%3D; TATravelInfo=V2*A.2*MG.-1*HP.2*FL.3*RS.1; TASID=EDAC412DB83542459FD5A1EB6A19FD97; TATrkConsent=eyJvdXQiOiJBRFYsU09DSUFMX01FRElBIiwiaW4iOiJBTkEsRlVOQ1RJT05BTCJ9; PAC=AIeNZxytoaTGcJv34uISb7Ux7VS4YlB6YYUAul1C9tf4BdDRTEbUfnDU-G2OqvtoCCTVoclwWpH2-WWxN0S1-rFnC15jzXuu1NdBUWwW-XtpqvHkCHQFTI0Dw0qaU15kekQRx6jit-84e07NXXhLoDVUEehEsZvou8FD-E5V8E0PEslcYG7uobQeFMzioqgp0nd7IjXI-On84hG28MNBoFckuNc74U-e_w1hCTBujWR7PNEZamdpq2uOC2e2xx4F3773iBu20SlyrQfy8TTf-KM%3D; __gads=ID=d911073610803a43:T=1722514501:RT=1722515263:S=ALNI_Mb_RYvmnRMwziiEmD0bMyECkE8UjA; __gpi=UID=00000eaedd1ca249:T=1722514501:RT=1722515263:S=ALNI_MYjm_3UiaYMbsEjQZ_0LxOVPL6olg; __eoi=ID=ee8e516e7877dc6e:T=1722514501:RT=1722515263:S=AA-AfjZSJFxBXdQC6mkO7f8vxdkP; __vt=JZuOM-IkoQ4uDcekABQCjdMFtf3dS_auw5cMBDN7SS8mWANRiyBsZZn0aID4uJtb9Wgkj-Dv6q9IO2gRxocbXBXtnobiBr30VSlO-WlgUeQIeNENz_ZdLmURPVqTJdlKvMGtSOBFMT_gkdEUAmHwVuXWUvo; TAUD=LA-1722515318680-1*RDD-1-2024_08_01*LG-1-2.1.F.*LD-2-.....; OptanonConsent=isGpcEnabled=0&datestamp=Thu+Aug+01+2024+15%3A28%3A41+GMT%2B0300+(East+Africa+Time)&version=202310.2.0&browserGpcFlag=0&isIABGlobal=false&hosts=&consentId=156fbe95-0b3e-47c4-9ad5-d771d6f2988a&interactionCount=1&landingPath=https%3A%2F%2Fwww.tripadvisor.com%2FFindRestaurants%3Fgeo%3D186338%26establishmentTypes%3D10591%252C11776%252C12208%252C16548%252C16556%252C9900%252C9901%252C9909%26broadened%3Dfalse&groups=C0001%3A1%2CC0002%3A1%2CC0003%3A1%2CC0004%3A0; datadome=T93XcsXgW5Gm9AD7Uk_jS6sql1X36pIvfkJFCujpGRhkObtE5pugbi6GR6w8tF2bvQQZdEPwv8DNnj4waODBl3ZDOw9hPrQTJqbhEdgaGAK0~f8FKqQbI~zRCRn9OcMM; TASession=V2ID.EDAC412DB83542459FD5A1EB6A19FD97*SQ.4*LS.FindRestaurants*HS.recommended*ES.popularity*DS.5*SAS.popularity*FPS.oldFirst*FA.1*DF.0*TRA.true*LD.186338*EAU._\"\n",
    "}\n",
    "options.add_argument('--disable-popup-blocking')\n",
    "driver = uc.Chrome(options, header=headers)\n",
    "driver.maximize_window()"
   ]
  },
  {
   "cell_type": "code",
   "execution_count": 19,
   "metadata": {},
   "outputs": [],
   "source": [
    "driver.get('https://www.tripadvisor.com/FindRestaurants?geo=186338&establishmentTypes=10591%2C11776%2C12208%2C16548%2C16556%2C9900%2C9901%2C9909&broadened=false')\n",
    "time.sleep(3)"
   ]
  },
  {
   "cell_type": "code",
   "execution_count": 20,
   "metadata": {},
   "outputs": [
    {
     "name": "stdout",
     "output_type": "stream",
     "text": [
      "<html>\n",
      " <head>\n",
      "  <title>\n",
      "   tripadvisor.com\n",
      "  </title>\n",
      "  <style>\n",
      "   #cmsg{animation: A 1.5s;}@keyframes A{0%{opacity:0;}99%{opacity:0;}100%{opacity:1;}}\n",
      "  </style>\n",
      " </head>\n",
      " <body style=\"margin:0\">\n",
      "  <p id=\"cmsg\">\n",
      "   Please enable JS and disable any ad blocker\n",
      "  </p>\n",
      "  <script data-cfasync=\"false\">\n",
      "   var dd={'rt':'c','cid':'AHrlqAAAAAMAREk064MTWgcAaaMAzQ==','hsh':'2F05D671381DB06BEE4CC52C7A6FD3','t':'bv','s':46694,'e':'d545da1b48e2322975b13747a5156d67014ef2a159591b23c25d5ed1b8776912','host':'geo.captcha-delivery.com'}\n",
      "  </script>\n",
      "  <script data-cfasync=\"false\" src=\"https://ct.captcha-delivery.com/c.js\">\n",
      "  </script>\n",
      " </body>\n",
      "</html>\n",
      "\n"
     ]
    }
   ],
   "source": []
  }
 ],
 "metadata": {
  "kernelspec": {
   "display_name": "venv",
   "language": "python",
   "name": "python3"
  },
  "language_info": {
   "codemirror_mode": {
    "name": "ipython",
    "version": 3
   },
   "file_extension": ".py",
   "mimetype": "text/x-python",
   "name": "python",
   "nbconvert_exporter": "python",
   "pygments_lexer": "ipython3",
   "version": "3.12.4"
  }
 },
 "nbformat": 4,
 "nbformat_minor": 2
}
