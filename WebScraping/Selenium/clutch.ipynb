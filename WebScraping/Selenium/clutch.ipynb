{
 "cells": [
  {
   "cell_type": "code",
   "execution_count": 1,
   "metadata": {},
   "outputs": [],
   "source": [
    "import undetected_chromedriver as uc\n",
    "from selenium.webdriver.common.by import By\n",
    "import time\n",
    "import pandas as pd\n",
    "from tqdm.notebook import tqdm"
   ]
  },
  {
   "cell_type": "code",
   "execution_count": 2,
   "metadata": {},
   "outputs": [],
   "source": [
    "options =uc.ChromeOptions()\n",
    "options.add_argument('--disable-popup-blocking')\n",
    "\n",
    "driver =uc.Chrome(options)\n",
    "driver.maximize_window()"
   ]
  },
  {
   "cell_type": "code",
   "execution_count": 3,
   "metadata": {},
   "outputs": [],
   "source": [
    "driver.get('https://clutch.co/us/agencies/digital-marketing?')\n",
    "time.sleep(1)\n",
    "\n",
    "driver.find_element(By.XPATH, '//*[@id=\"CybotCookiebotDialogBodyButtonAccept\"]').click()\n",
    "\n",
    "names, locations, websites = [],[],[]\n",
    "n = 1\n",
    "next_button_enabled = True"
   ]
  },
  {
   "cell_type": "code",
   "execution_count": 4,
   "metadata": {},
   "outputs": [
    {
     "data": {
      "application/vnd.jupyter.widget-view+json": {
       "model_id": "43467aadc9fb4766ac36564ed63b0571",
       "version_major": 2,
       "version_minor": 0
      },
      "text/plain": [
       "  0%|          | 0/56 [00:00<?, ?it/s]"
      ]
     },
     "metadata": {},
     "output_type": "display_data"
    },
    {
     "name": "stdout",
     "output_type": "stream",
     "text": [
      "Ignite Visibility : San Diego, CA : https://ignitevisibility.com/?utm_source=clutch.co&utm_medium=referral&utm_campaign=directory\n",
      "SmartSites : Paramus, NJ : https://www.smartsites.com/lp/digital-marketing-lp/?utm_source=clutch.co&utm_medium=referral\n",
      "Naked Development : Irvine, CA : https://apps.nakeddev.com/clutch\n",
      "WebFX : Harrisburg, PA : https://www.webfx.com/lp/digital-marketing-services/?utm_source=referral&utm_medium=clutch&utm_campaign=profile\n",
      "NEWMEDIA.COM : Denver, CO : https://newmedia.com/?utm_source=clutch.co&utm_medium=referral&utm_campaign=directory\n",
      "fishbat Media : Port Jefferson, NY : https://fishbat.com/clutch-digital-marketing-agency/?utm_source=clutch.co&utm_medium=referral&utm_campaign=directory\n",
      "Impactable : San Antonio, TX : https://impactable.com/paid-ads/?&utm_source=clutch&utm_medium=clutch&utm_campaign=clutch_sponsored\n",
      "Communications Strategy Group (CSG®) : Denver, CO : https://wearecsg.com/?utm_source=clutch.co&utm_medium=referral&utm_campaign=directory\n"
     ]
    },
    {
     "ename": "NoSuchWindowException",
     "evalue": "Message: no such window: target window already closed\nfrom unknown error: web view not found\n  (Session info: chrome=127.0.6533.89)\nStacktrace:\n\tGetHandleVerifier [0x009F8923+23283]\n\t(No symbol) [0x009BE934]\n\t(No symbol) [0x008F0733]\n\t(No symbol) [0x008CD2E3]\n\t(No symbol) [0x0095A64F]\n\t(No symbol) [0x0096C686]\n\t(No symbol) [0x009541B6]\n\t(No symbol) [0x00928017]\n\t(No symbol) [0x0092890D]\n\tGetHandleVerifier [0x00AEA5F3+1013699]\n\tGetHandleVerifier [0x00AF3E4C+1052700]\n\tGetHandleVerifier [0x00AED4B4+1025668]\n\tGetHandleVerifier [0x00A1EA2B+179195]\n\t(No symbol) [0x009C6833]\n\t(No symbol) [0x009C3198]\n\t(No symbol) [0x009C3337]\n\t(No symbol) [0x009BB4BE]\n\tBaseThreadInitThunk [0x769AFCC9+25]\n\tRtlGetAppContainerNamedObjectPath [0x777480CE+286]\n\tRtlGetAppContainerNamedObjectPath [0x7774809E+238]\n",
     "output_type": "error",
     "traceback": [
      "\u001b[1;31m---------------------------------------------------------------------------\u001b[0m",
      "\u001b[1;31mNoSuchWindowException\u001b[0m                     Traceback (most recent call last)",
      "Cell \u001b[1;32mIn[4], line 25\u001b[0m\n\u001b[0;32m     22\u001b[0m     location \u001b[38;5;241m=\u001b[39m \u001b[38;5;28;01mNone\u001b[39;00m\n\u001b[0;32m     23\u001b[0m     locations\u001b[38;5;241m.\u001b[39mappend(location)\n\u001b[1;32m---> 25\u001b[0m web_page_link \u001b[38;5;241m=\u001b[39m \u001b[43mlisting\u001b[49m\u001b[38;5;241;43m.\u001b[39;49m\u001b[43mfind_element\u001b[49m\u001b[43m(\u001b[49m\u001b[43mBy\u001b[49m\u001b[38;5;241;43m.\u001b[39;49m\u001b[43mXPATH\u001b[49m\u001b[43m,\u001b[49m\u001b[43m \u001b[49m\u001b[38;5;124;43m'\u001b[39;49m\u001b[38;5;124;43m.//div[@class=\u001b[39;49m\u001b[38;5;124;43m\"\u001b[39;49m\u001b[38;5;124;43mprovider__cta-container\u001b[39;49m\u001b[38;5;124;43m\"\u001b[39;49m\u001b[38;5;124;43m]/a\u001b[39;49m\u001b[38;5;124;43m'\u001b[39;49m\u001b[43m)\u001b[49m\u001b[38;5;241m.\u001b[39mget_attribute(\u001b[38;5;124m'\u001b[39m\u001b[38;5;124mhref\u001b[39m\u001b[38;5;124m'\u001b[39m)\n\u001b[0;32m     26\u001b[0m web_page\u001b[38;5;241m=\u001b[39m driver\u001b[38;5;241m.\u001b[39mexecute_script(\u001b[38;5;124m\"\u001b[39m\u001b[38;5;124mwindow.open(\u001b[39m\u001b[38;5;124m'\u001b[39m\u001b[38;5;132;01m{}\u001b[39;00m\u001b[38;5;124m'\u001b[39m\u001b[38;5;124m, \u001b[39m\u001b[38;5;124m'\u001b[39m\u001b[38;5;124m_blank\u001b[39m\u001b[38;5;124m'\u001b[39m\u001b[38;5;124m);\u001b[39m\u001b[38;5;124m\"\u001b[39m\u001b[38;5;241m.\u001b[39mformat(web_page_link)) \n\u001b[0;32m     27\u001b[0m driver\u001b[38;5;241m.\u001b[39mswitch_to\u001b[38;5;241m.\u001b[39mwindow(driver\u001b[38;5;241m.\u001b[39mwindow_handles[\u001b[38;5;241m1\u001b[39m])\n",
      "File \u001b[1;32mc:\\MyProjects\\venv\\Lib\\site-packages\\selenium\\webdriver\\remote\\webelement.py:417\u001b[0m, in \u001b[0;36mWebElement.find_element\u001b[1;34m(self, by, value)\u001b[0m\n\u001b[0;32m    414\u001b[0m     by \u001b[38;5;241m=\u001b[39m By\u001b[38;5;241m.\u001b[39mCSS_SELECTOR\n\u001b[0;32m    415\u001b[0m     value \u001b[38;5;241m=\u001b[39m \u001b[38;5;124mf\u001b[39m\u001b[38;5;124m'\u001b[39m\u001b[38;5;124m[name=\u001b[39m\u001b[38;5;124m\"\u001b[39m\u001b[38;5;132;01m{\u001b[39;00mvalue\u001b[38;5;132;01m}\u001b[39;00m\u001b[38;5;124m\"\u001b[39m\u001b[38;5;124m]\u001b[39m\u001b[38;5;124m'\u001b[39m\n\u001b[1;32m--> 417\u001b[0m \u001b[38;5;28;01mreturn\u001b[39;00m \u001b[38;5;28;43mself\u001b[39;49m\u001b[38;5;241;43m.\u001b[39;49m\u001b[43m_execute\u001b[49m\u001b[43m(\u001b[49m\u001b[43mCommand\u001b[49m\u001b[38;5;241;43m.\u001b[39;49m\u001b[43mFIND_CHILD_ELEMENT\u001b[49m\u001b[43m,\u001b[49m\u001b[43m \u001b[49m\u001b[43m{\u001b[49m\u001b[38;5;124;43m\"\u001b[39;49m\u001b[38;5;124;43musing\u001b[39;49m\u001b[38;5;124;43m\"\u001b[39;49m\u001b[43m:\u001b[49m\u001b[43m \u001b[49m\u001b[43mby\u001b[49m\u001b[43m,\u001b[49m\u001b[43m \u001b[49m\u001b[38;5;124;43m\"\u001b[39;49m\u001b[38;5;124;43mvalue\u001b[39;49m\u001b[38;5;124;43m\"\u001b[39;49m\u001b[43m:\u001b[49m\u001b[43m \u001b[49m\u001b[43mvalue\u001b[49m\u001b[43m}\u001b[49m\u001b[43m)\u001b[49m[\u001b[38;5;124m\"\u001b[39m\u001b[38;5;124mvalue\u001b[39m\u001b[38;5;124m\"\u001b[39m]\n",
      "File \u001b[1;32mc:\\MyProjects\\venv\\Lib\\site-packages\\selenium\\webdriver\\remote\\webelement.py:395\u001b[0m, in \u001b[0;36mWebElement._execute\u001b[1;34m(self, command, params)\u001b[0m\n\u001b[0;32m    393\u001b[0m     params \u001b[38;5;241m=\u001b[39m {}\n\u001b[0;32m    394\u001b[0m params[\u001b[38;5;124m\"\u001b[39m\u001b[38;5;124mid\u001b[39m\u001b[38;5;124m\"\u001b[39m] \u001b[38;5;241m=\u001b[39m \u001b[38;5;28mself\u001b[39m\u001b[38;5;241m.\u001b[39m_id\n\u001b[1;32m--> 395\u001b[0m \u001b[38;5;28;01mreturn\u001b[39;00m \u001b[38;5;28;43mself\u001b[39;49m\u001b[38;5;241;43m.\u001b[39;49m\u001b[43m_parent\u001b[49m\u001b[38;5;241;43m.\u001b[39;49m\u001b[43mexecute\u001b[49m\u001b[43m(\u001b[49m\u001b[43mcommand\u001b[49m\u001b[43m,\u001b[49m\u001b[43m \u001b[49m\u001b[43mparams\u001b[49m\u001b[43m)\u001b[49m\n",
      "File \u001b[1;32mc:\\MyProjects\\venv\\Lib\\site-packages\\selenium\\webdriver\\remote\\webdriver.py:354\u001b[0m, in \u001b[0;36mWebDriver.execute\u001b[1;34m(self, driver_command, params)\u001b[0m\n\u001b[0;32m    352\u001b[0m response \u001b[38;5;241m=\u001b[39m \u001b[38;5;28mself\u001b[39m\u001b[38;5;241m.\u001b[39mcommand_executor\u001b[38;5;241m.\u001b[39mexecute(driver_command, params)\n\u001b[0;32m    353\u001b[0m \u001b[38;5;28;01mif\u001b[39;00m response:\n\u001b[1;32m--> 354\u001b[0m     \u001b[38;5;28;43mself\u001b[39;49m\u001b[38;5;241;43m.\u001b[39;49m\u001b[43merror_handler\u001b[49m\u001b[38;5;241;43m.\u001b[39;49m\u001b[43mcheck_response\u001b[49m\u001b[43m(\u001b[49m\u001b[43mresponse\u001b[49m\u001b[43m)\u001b[49m\n\u001b[0;32m    355\u001b[0m     response[\u001b[38;5;124m\"\u001b[39m\u001b[38;5;124mvalue\u001b[39m\u001b[38;5;124m\"\u001b[39m] \u001b[38;5;241m=\u001b[39m \u001b[38;5;28mself\u001b[39m\u001b[38;5;241m.\u001b[39m_unwrap_value(response\u001b[38;5;241m.\u001b[39mget(\u001b[38;5;124m\"\u001b[39m\u001b[38;5;124mvalue\u001b[39m\u001b[38;5;124m\"\u001b[39m, \u001b[38;5;28;01mNone\u001b[39;00m))\n\u001b[0;32m    356\u001b[0m     \u001b[38;5;28;01mreturn\u001b[39;00m response\n",
      "File \u001b[1;32mc:\\MyProjects\\venv\\Lib\\site-packages\\selenium\\webdriver\\remote\\errorhandler.py:229\u001b[0m, in \u001b[0;36mErrorHandler.check_response\u001b[1;34m(self, response)\u001b[0m\n\u001b[0;32m    227\u001b[0m         alert_text \u001b[38;5;241m=\u001b[39m value[\u001b[38;5;124m\"\u001b[39m\u001b[38;5;124malert\u001b[39m\u001b[38;5;124m\"\u001b[39m]\u001b[38;5;241m.\u001b[39mget(\u001b[38;5;124m\"\u001b[39m\u001b[38;5;124mtext\u001b[39m\u001b[38;5;124m\"\u001b[39m)\n\u001b[0;32m    228\u001b[0m     \u001b[38;5;28;01mraise\u001b[39;00m exception_class(message, screen, stacktrace, alert_text)  \u001b[38;5;66;03m# type: ignore[call-arg]  # mypy is not smart enough here\u001b[39;00m\n\u001b[1;32m--> 229\u001b[0m \u001b[38;5;28;01mraise\u001b[39;00m exception_class(message, screen, stacktrace)\n",
      "\u001b[1;31mNoSuchWindowException\u001b[0m: Message: no such window: target window already closed\nfrom unknown error: web view not found\n  (Session info: chrome=127.0.6533.89)\nStacktrace:\n\tGetHandleVerifier [0x009F8923+23283]\n\t(No symbol) [0x009BE934]\n\t(No symbol) [0x008F0733]\n\t(No symbol) [0x008CD2E3]\n\t(No symbol) [0x0095A64F]\n\t(No symbol) [0x0096C686]\n\t(No symbol) [0x009541B6]\n\t(No symbol) [0x00928017]\n\t(No symbol) [0x0092890D]\n\tGetHandleVerifier [0x00AEA5F3+1013699]\n\tGetHandleVerifier [0x00AF3E4C+1052700]\n\tGetHandleVerifier [0x00AED4B4+1025668]\n\tGetHandleVerifier [0x00A1EA2B+179195]\n\t(No symbol) [0x009C6833]\n\t(No symbol) [0x009C3198]\n\t(No symbol) [0x009C3337]\n\t(No symbol) [0x009BB4BE]\n\tBaseThreadInitThunk [0x769AFCC9+25]\n\tRtlGetAppContainerNamedObjectPath [0x777480CE+286]\n\tRtlGetAppContainerNamedObjectPath [0x7774809E+238]\n"
     ]
    }
   ],
   "source": [
    "while next_button_enabled:\n",
    "    time.sleep(2)\n",
    "\n",
    "    container = driver.find_element(By.XPATH, '//*[@id=\"providers__list\"]')\n",
    "    listings = container.find_elements(By.XPATH, './/li[@data-position]')\n",
    "\n",
    "    for listing in tqdm(listings):\n",
    "        driver.execute_script(\"arguments[0].scrollIntoView();\", listing)\n",
    "        time.sleep(2)\n",
    "\n",
    "        try:\n",
    "            name = listing.find_element(By.XPATH, './/h3[@class=\"provider__title\"]/a').text\n",
    "            names.append(name)\n",
    "        except:\n",
    "            name = None\n",
    "            names.append(name)\n",
    "\n",
    "        try:\n",
    "            location = listing.find_element(By.XPATH, './/span[@class=\"locality\"]').text\n",
    "            locations.append(location)\n",
    "        except:\n",
    "            location = None\n",
    "            locations.append(location)\n",
    "           \n",
    "        web_page_link = listing.find_element(By.XPATH, './/div[@class=\"provider__cta-container\"]/a').get_attribute('href')\n",
    "        web_page= driver.execute_script(\"window.open('{}', '_blank');\".format(web_page_link)) \n",
    "        driver.switch_to.window(driver.window_handles[1])\n",
    "        time.sleep(1)\n",
    "\n",
    "        try:\n",
    "            website = driver.find_element(By.XPATH, '//a[@title=\"Provider Title\"]').get_attribute('href')\n",
    "            websites.append(website)\n",
    "        except:\n",
    "            website = None\n",
    "            websites.append(website)\n",
    "       \n",
    "        time.sleep(1)\n",
    "        driver.close()\n",
    "\n",
    "        driver.switch_to.window(driver.window_handles[0])\n",
    "        time.sleep(4)\n",
    "\n",
    "        print(name, \":\", location, \":\", website)\n",
    "\n",
    "    try:\n",
    "        next_page = driver.find_element(By.XPATH, '//li[@class=\"page-item next\"]/a').click()\n",
    "        n += 1\n",
    "    except:\n",
    "        next_button_enabled = False\n",
    "        n=n\n",
    "    \n",
    "    print(f'page{n}:Done')\n",
    "    \n",
    "df = pd.DataFrame(list(zip(names, locations, websites)), columns = [\"Name\", \"Location\", \"Website\"])\n",
    "df.to_csv(\"agencies.csv\", index=False, encoding=\"utf-8-sig\")\n",
    "\n",
    "driver.quit()"
   ]
  }
 ],
 "metadata": {
  "kernelspec": {
   "display_name": "venv",
   "language": "python",
   "name": "python3"
  },
  "language_info": {
   "codemirror_mode": {
    "name": "ipython",
    "version": 3
   },
   "file_extension": ".py",
   "mimetype": "text/x-python",
   "name": "python",
   "nbconvert_exporter": "python",
   "pygments_lexer": "ipython3",
   "version": "3.12.4"
  }
 },
 "nbformat": 4,
 "nbformat_minor": 2
}
