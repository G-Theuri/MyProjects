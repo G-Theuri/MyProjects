{
 "cells": [
  {
   "cell_type": "code",
   "execution_count": 1,
   "metadata": {},
   "outputs": [],
   "source": [
    "import undetected_chromedriver as uc\n",
    "from selenium.webdriver.common.by import By\n",
    "import time\n",
    "import pandas as pd\n",
    "from tqdm.notebook import tqdm"
   ]
  },
  {
   "cell_type": "code",
   "execution_count": 1,
   "metadata": {},
   "outputs": [
    {
     "ename": "NameError",
     "evalue": "name 'uc' is not defined",
     "output_type": "error",
     "traceback": [
      "\u001b[1;31m---------------------------------------------------------------------------\u001b[0m",
      "\u001b[1;31mNameError\u001b[0m                                 Traceback (most recent call last)",
      "Cell \u001b[1;32mIn[1], line 1\u001b[0m\n\u001b[1;32m----> 1\u001b[0m options \u001b[38;5;241m=\u001b[39m\u001b[43muc\u001b[49m\u001b[38;5;241m.\u001b[39mChromeOptions()\n\u001b[0;32m      2\u001b[0m options\u001b[38;5;241m.\u001b[39madd_argument(\u001b[38;5;124m'\u001b[39m\u001b[38;5;124m--disable-popup-blocking\u001b[39m\u001b[38;5;124m'\u001b[39m)\n\u001b[0;32m      4\u001b[0m driver \u001b[38;5;241m=\u001b[39muc\u001b[38;5;241m.\u001b[39mChrome(options)\n",
      "\u001b[1;31mNameError\u001b[0m: name 'uc' is not defined"
     ]
    }
   ],
   "source": [
    "options =uc.ChromeOptions()\n",
    "options.add_argument('--disable-popup-blocking')\n",
    "\n",
    "driver =uc.Chrome(options)\n",
    "driver.maximize_window()"
   ]
  },
  {
   "cell_type": "code",
   "execution_count": 3,
   "metadata": {},
   "outputs": [],
   "source": [
    "driver.get('https://clutch.co/us/agencies/digital-marketing?')\n",
    "time.sleep(1)\n",
    "\n",
    "driver.find_element(By.XPATH, '//*[@id=\"CybotCookiebotDialogBodyButtonAccept\"]').click()\n",
    "\n",
    "names, locations, websites = [],[],[]\n",
    "n = 1\n",
    "next_button_enabled = True"
   ]
  },
  {
   "cell_type": "code",
   "execution_count": 16,
   "metadata": {},
   "outputs": [
    {
     "data": {
      "application/vnd.jupyter.widget-view+json": {
       "model_id": "c2160c52e878452596cd6d4c8dbe2365",
       "version_major": 2,
       "version_minor": 0
      },
      "text/plain": [
       "  0%|          | 0/59 [00:00<?, ?it/s]"
      ]
     },
     "metadata": {},
     "output_type": "display_data"
    },
    {
     "name": "stdout",
     "output_type": "stream",
     "text": [
      "Ignite Visibility : San Diego, CA : https://ignitevisibility.com/?utm_source=clutch.co&utm_medium=referral&utm_campaign=directory\n",
      "SmartSites : Paramus, NJ : https://www.smartsites.com/lp/digital-marketing-lp/?utm_source=clutch.co&utm_medium=referral\n",
      "Naked Development : Irvine, CA : https://apps.nakeddev.com/clutch\n",
      "WebFX : Harrisburg, PA : https://www.webfx.com/lp/digital-marketing-services/?utm_source=referral&utm_medium=clutch&utm_campaign=profile\n",
      "NEWMEDIA.COM : Denver, CO : https://newmedia.com/?utm_source=clutch.co&utm_medium=referral&utm_campaign=directory\n",
      "Impactable : San Antonio, TX : https://impactable.com/paid-ads/?&utm_source=clutch&utm_medium=clutch&utm_campaign=clutch_sponsored\n",
      "Communications Strategy Group (CSG®) : Denver, CO : https://wearecsg.com/?utm_source=clutch.co&utm_medium=referral&utm_campaign=directory\n",
      "Sagefrog Marketing Group : Doylestown, PA : https://www.sagefrog.com/?utm_source=clutch.co&utm_medium=referral&utm_campaign=clutch-boosted-placements\n",
      "Onya : Fishers, IN : https://www.onyamark.com/contact-us-clutch/\n",
      "Mad Fish Digital : Portland, OR : https://www.madfishdigital.com/?utm_source=clutch.co&utm_medium=referral&utm_campaign=sponsored\n",
      "Razor Rank : Dallas, TX : http://www.razorrank.com/contact/?utm_source=clutch.co&utm_medium=referral&utm_campaign=directory\n",
      "Session Interactive : Denver, CO : https://sessioninteractive.com/?utm_source=clutch.co&utm_medium=referral&utm_campaign=directory\n",
      "Perrill : Minnetonka, MN : https://www.perrill.com/clutch-digital-marketing-agency/?utm_source=clutch.co&utm_medium=referral&utm_campaign=directory\n",
      "Eightfold : Prescott, AZ : https://www.eightfold.io/?utm_source=clutch.co&utm_medium=referral&utm_campaign=directory\n",
      "smartboost : Las Vegas, NV : https://smartboost.com/?utm_source=clutch.co&utm_medium=referral&utm_campaign=directory\n",
      "Webaholics : Midvale, UT : https://webaholics.co/clutch/?utm_source=clutch.co&utm_medium=referral&utm_campaign=profile\n",
      "E29 Marketing : Larkspur, CA : https://www.e29marketing.com/?utm_source=clutch.co&utm_medium=referral&utm_campaign=directory\n",
      "COMM (formerly CommCreative) : Framingham, MA : https://www.commcreative.com/?utm_source=clutch.co&utm_medium=referral\n",
      "Core and More Technologies : Tinton Falls, NJ : https://www.coreandmoretechnologies.com/lead-generation/?utm_source=clutch.co&utm_medium=referral&utm_campaign=directory\n",
      "Fruition : Denver, CO : https://fruition.net/?utm_source=clutch.co&utm_medium=referral&utm_campaign=directory\n",
      "Building Brands Marketing : Victoria, TX : https://buildingbrandsmarketing.com/?utm_source=clutch.co&utm_medium=referral&utm_campaign=directory\n",
      "Lost Search Media : Mesa, AZ : https://lostsearchmedia.com/?utm_source=clutch.co&utm_medium=referral&utm_campaign=directory\n",
      "Pantelope : Miami Gardens, FL : https://www.pantelope.com/ppc-sem-agency-audit-2/\n",
      "August Ash : Bloomington, MN : https://www.augustash.com/?utm_source=clutch.co&utm_medium=referral&utm_campaign=directory\n",
      "VIDEN : Miami, FL : https://videnglobe.com/?utm_source=clutch.co&utm_medium=referral&utm_campaign=directory\n",
      "Funnel Boost Media : San Antonio, TX : https://www.funnelboostmedia.net/clutch/?utm_source=clutch.co&utm_medium=referral&utm_campaign=directory\n",
      "Search Engine Projects : Anaheim, CA : https://www.searchengineprojects.com/?utm_source=clutch&utm_campaign=main\n",
      "Hunter Digital : New York, NY : https://hunterdigitalmarketing.com/\n",
      "Effective Marketing : Chicago, IL : http://effectivemc.com/?utm_source=clutch.co&utm_medium=referral\n",
      "PropeloMedia : Walnut Creek, CA : https://propelomedia.com/?utm_source=clutch.co&utm_medium=referral&utm_campaign=directory\n",
      "neuelane : Miami, FL : https://neuelane.com/?utm_source=clutch&utm_medium=agency_list&utm_campaign=agency_directory&utm_content=organic_traffic\n",
      "LAB Digital Creative : Memphis, TN : https://labdigitalcreative.com/\n",
      "Optimize Your Marketing : Atlanta, GA : https://www.optimizeyourmarketing.io/\n",
      "Bimeo Digital : Baltimore, MD : https://bimeodigital.com/?utm_source=clutch.co&utm_medium=referral&utm_campaign=directory\n",
      "RevPartners : Atlanta, GA : https://revpartners.io/\n",
      "Anntoine Marketing + Design : Hammond, LA : https://www.anntoine.com/?utm_source=clutch.co&utm_medium=referral&utm_campaign=directory\n",
      "True Impact Partners : Deerfield, IL : https://www.trueimpactpartners.com/\n",
      "Pathfinders Advertising : Mishawaka, IN : https://www.pathfind.com/?utm_source=clutch.co&utm_medium=referral&utm_campaign=directory\n",
      "Accelerated Digital Media : Chicago, IL : https://www.accelerateddigitalmedia.com/performance-marketing-built-around-your-growth-goals/?utm_source=clutch.co&utm_medium=referral&utm_campaign=directory\n",
      "Plan Left : Nashville, TN : https://planleft.com/?utm_source=clutch.co&utm_medium=referral&utm_campaign=directory\n",
      "Paradox Marketing : Tampa, FL : https://paradoxmarketing.io/?utm_source=clutch.co&utm_medium=referral&utm_campaign=directory\n",
      "SmartSites : Paramus, NJ : https://www.smartsites.com/lp/digital-marketing-lp/?utm_source=clutch.co&utm_medium=referral\n",
      "Jives Media : San Francisco, CA : http://www.jivesmedia.com/?utm_source=clutch.co&utm_medium=referral&utm_campaign=directory\n",
      "NinjaPromo.io : New York, NY : https://ninjapromo.io/?utm_source=clutch&utm_medium=catalog&utm_campaign=free\n",
      "Verbsz Marketing : Reston, VA : https://www.verbszmarketing.com/?utm_source=clutch.co&utm_medium=referral&utm_campaign=clutch.co_profile\n",
      "Power Digital : San Diego, CA : https://powerdigitalmarketing.com/services/?utm_medium=clutch&utm_campaign=profile-power-digital-marketing\n",
      "Intero Digital : Colorado Springs, CO : https://www.interodigital.com/meet-intero-digital-landing/?utm_source=clutch.co&utm_medium=referral&utm_campaign=intero-digital-profile\n",
      "Cox Media Group Local Solutions : Dunwoody, GA : https://cmglocalsolutions.com/?utm_source=clutch.co&utm_medium=referral&utm_campaign=directory\n",
      "MTA Digital : Poznań, Poland : https://mta.digital/clutch/\n",
      "Volume Nine : Denver, CO : https://www.v9digital.com/?utm_source=clutch.co&utm_medium=referral&utm_campaign=clutch\n",
      "Jives Media : San Francisco, CA : http://www.jivesmedia.com/?utm_source=clutch.co&utm_medium=referral&utm_campaign=directory\n",
      "OpenMoves : Huntington, NY : https://openmoves.com/paid-media/?utm_source=clutch.co&utm_medium=referral&utm_campaign=directory\n",
      "Disruptive Advertising : Pleasant Grove, UT : https://disruptiveadvertising.com/?utm_source=clutch.co&utm_medium=sponsoredlisting\n",
      "Caffeine Marketing : Atlanta, GA : http://caffeinemarketing.com/?utm_source=clutch.co&utm_medium=referral&utm_campaign=directory\n",
      "Search Engine People : Toronto, Canada : https://www.searchenginepeople.com/?utm_source=clutch.co&utm_medium=referral&utm_campaign=directory\n",
      "Emote Digital : Hawthorn, Australia : http://www.emotedigital.com.au/?utm_source=clutch.co&utm_medium=referral&utm_campaign=directory\n",
      "SWOT Digital Marketing Agency : Dublin, Ireland : https://www.swotdigital.com/?utm_source=clutch.co&utm_medium=referral&utm_campaign=directory\n",
      "Intero Digital : Colorado Springs, CO : https://www.interodigital.com/meet-intero-digital-landing/?utm_source=clutch.co&utm_medium=referral&utm_campaign=intero-digital-profile\n",
      "Acadia : Atlanta, GA : https://acadia.io/?utm_source=clutch.co&utm_medium=referral&utm_campaign=directory\n",
      "page1:Done\n"
     ]
    }
   ],
   "source": [
    "while next_button_enabled:\n",
    "    time.sleep(2)\n",
    "\n",
    "    container = driver.find_element(By.XPATH, '//*[@id=\"providers__list\"]')\n",
    "    listings = container.find_elements(By.XPATH, './/li[@data-position]')\n",
    "\n",
    "    for listing in tqdm(listings):\n",
    "        driver.execute_script(\"arguments[0].scrollIntoView();\", listing)\n",
    "        time.sleep(2)\n",
    "\n",
    "        try:\n",
    "            name = listing.find_element(By.XPATH, './/h3[@class=\"provider__title\"]/a').text\n",
    "            names.append(name)\n",
    "        except:\n",
    "            name = None\n",
    "            names.append(name)\n",
    "\n",
    "        try:\n",
    "            location = listing.find_element(By.XPATH, './/span[@class=\"locality\"]').text\n",
    "            locations.append(location)\n",
    "        except:\n",
    "            location = None\n",
    "            locations.append(location)\n",
    "           \n",
    "        web_page_link = listing.find_element(By.XPATH, './/div[@class=\"provider__cta-container\"]/a').get_attribute('href')\n",
    "        web_page= driver.execute_script(\"window.open('{}', '_blank');\".format(web_page_link)) \n",
    "        driver.switch_to.window(driver.window_handles[1])\n",
    "        time.sleep(1)\n",
    "\n",
    "        try:\n",
    "            website = driver.find_element(By.XPATH, '//a[@title=\"Provider Title\"]').get_attribute('href')\n",
    "            websites.append(website)\n",
    "        except:\n",
    "            website = None\n",
    "            websites.append(website)\n",
    "       \n",
    "        time.sleep(1)\n",
    "        driver.close()\n",
    "\n",
    "        driver.switch_to.window(driver.window_handles[0])\n",
    "        time.sleep(4)\n",
    "\n",
    "        print(name, \":\", location, \":\", website)\n",
    "\n",
    "    try:\n",
    "        next_page = driver.find_element(By.XPATH, '//li[@class=\"page-item next\"]/a').click()\n",
    "        n += 1\n",
    "    except:\n",
    "        next_button_enabled = False\n",
    "        n=n\n",
    "    \n",
    "    print(f'page{n}:Done')\n",
    "    \n",
    "df = pd.DataFrame(list(zip(names, locations, websites)), columns = [\"Name\", \"Location\", \"Website\"])\n",
    "df.to_csv(\"agencies.csv\", index=False, encoding=\"utf-8-sig\")\n",
    "\n",
    "driver.quit()"
   ]
  }
 ],
 "metadata": {
  "kernelspec": {
   "display_name": "Python 3",
   "language": "python",
   "name": "python3"
  },
  "language_info": {
   "codemirror_mode": {
    "name": "ipython",
    "version": 3
   },
   "file_extension": ".py",
   "mimetype": "text/x-python",
   "name": "python",
   "nbconvert_exporter": "python",
   "pygments_lexer": "ipython3",
   "version": "3.11.4"
  }
 },
 "nbformat": 4,
 "nbformat_minor": 2
}
