{
 "cells": [
  {
   "cell_type": "code",
   "execution_count": 1,
   "metadata": {},
   "outputs": [],
   "source": [
    "import undetected_chromedriver as uc\n",
    "from selenium.webdriver.common.by import By\n",
    "import time\n",
    "import pandas as pd\n",
    "from tqdm.notebook import tqdm"
   ]
  },
  {
   "cell_type": "code",
   "execution_count": 4,
   "metadata": {},
   "outputs": [
    {
     "ename": "SessionNotCreatedException",
     "evalue": "Message: session not created: cannot connect to chrome at 127.0.0.1:61633\nfrom session not created: This version of ChromeDriver only supports Chrome version 127\nCurrent browser version is 126.0.6478.185\nStacktrace:\n\tGetHandleVerifier [0x0055F653+11395]\n\t(No symbol) [0x0053B7A4]\n\t(No symbol) [0x00481A43]\n\t(No symbol) [0x004B7893]\n\t(No symbol) [0x004B694D]\n\t(No symbol) [0x004AD5F0]\n\t(No symbol) [0x004AD447]\n\t(No symbol) [0x004F0845]\n\t(No symbol) [0x004F005A]\n\t(No symbol) [0x004E6F36]\n\t(No symbol) [0x004BA276]\n\t(No symbol) [0x004BAECD]\n\tGetHandleVerifier [0x00662403+1071667]\n\tGetHandleVerifier [0x0066C9C4+1114100]\n\tGetHandleVerifier [0x006654B2+1084130]\n\tGetHandleVerifier [0x0058013B+145259]\n\t(No symbol) [0x00541693]\n\t(No symbol) [0x0053EFB8]\n\t(No symbol) [0x0053F157]\n\t(No symbol) [0x0053842E]\n\tBaseThreadInitThunk [0x7675FCC9+25]\n\tRtlGetAppContainerNamedObjectPath [0x770880CE+286]\n\tRtlGetAppContainerNamedObjectPath [0x7708809E+238]\n",
     "output_type": "error",
     "traceback": [
      "\u001b[1;31m---------------------------------------------------------------------------\u001b[0m",
      "\u001b[1;31mSessionNotCreatedException\u001b[0m                Traceback (most recent call last)",
      "Cell \u001b[1;32mIn[4], line 4\u001b[0m\n\u001b[0;32m      1\u001b[0m options \u001b[38;5;241m=\u001b[39muc\u001b[38;5;241m.\u001b[39mChromeOptions()\n\u001b[0;32m      2\u001b[0m options\u001b[38;5;241m.\u001b[39madd_argument(\u001b[38;5;124m'\u001b[39m\u001b[38;5;124m--disable-popup-blocking\u001b[39m\u001b[38;5;124m'\u001b[39m)\n\u001b[1;32m----> 4\u001b[0m driver \u001b[38;5;241m=\u001b[39m\u001b[43muc\u001b[49m\u001b[38;5;241;43m.\u001b[39;49m\u001b[43mChrome\u001b[49m\u001b[43m(\u001b[49m\u001b[43moptions\u001b[49m\u001b[43m)\u001b[49m\n\u001b[0;32m      5\u001b[0m driver\u001b[38;5;241m.\u001b[39mmaximize_window()\n",
      "File \u001b[1;32mc:\\MyProjects\\venv\\Lib\\site-packages\\undetected_chromedriver\\__init__.py:466\u001b[0m, in \u001b[0;36mChrome.__init__\u001b[1;34m(self, options, user_data_dir, driver_executable_path, browser_executable_path, port, enable_cdp_events, desired_capabilities, advanced_elements, keep_alive, log_level, headless, version_main, patcher_force_close, suppress_welcome, use_subprocess, debug, no_sandbox, user_multi_procs, **kw)\u001b[0m\n\u001b[0;32m    459\u001b[0m     \u001b[38;5;28mself\u001b[39m\u001b[38;5;241m.\u001b[39mbrowser_pid \u001b[38;5;241m=\u001b[39m browser\u001b[38;5;241m.\u001b[39mpid\n\u001b[0;32m    462\u001b[0m service \u001b[38;5;241m=\u001b[39m selenium\u001b[38;5;241m.\u001b[39mwebdriver\u001b[38;5;241m.\u001b[39mchromium\u001b[38;5;241m.\u001b[39mservice\u001b[38;5;241m.\u001b[39mChromiumService(\n\u001b[0;32m    463\u001b[0m     \u001b[38;5;28mself\u001b[39m\u001b[38;5;241m.\u001b[39mpatcher\u001b[38;5;241m.\u001b[39mexecutable_path\n\u001b[0;32m    464\u001b[0m )\n\u001b[1;32m--> 466\u001b[0m \u001b[38;5;28;43msuper\u001b[39;49m\u001b[43m(\u001b[49m\u001b[43mChrome\u001b[49m\u001b[43m,\u001b[49m\u001b[43m \u001b[49m\u001b[38;5;28;43mself\u001b[39;49m\u001b[43m)\u001b[49m\u001b[38;5;241;43m.\u001b[39;49m\u001b[38;5;21;43m__init__\u001b[39;49m\u001b[43m(\u001b[49m\n\u001b[0;32m    467\u001b[0m \u001b[43m    \u001b[49m\u001b[43mservice\u001b[49m\u001b[38;5;241;43m=\u001b[39;49m\u001b[43mservice\u001b[49m\u001b[43m,\u001b[49m\n\u001b[0;32m    468\u001b[0m \u001b[43m    \u001b[49m\u001b[43moptions\u001b[49m\u001b[38;5;241;43m=\u001b[39;49m\u001b[43moptions\u001b[49m\u001b[43m,\u001b[49m\n\u001b[0;32m    469\u001b[0m \u001b[43m    \u001b[49m\u001b[43mkeep_alive\u001b[49m\u001b[38;5;241;43m=\u001b[39;49m\u001b[43mkeep_alive\u001b[49m\u001b[43m,\u001b[49m\n\u001b[0;32m    470\u001b[0m \u001b[43m\u001b[49m\u001b[43m)\u001b[49m\n\u001b[0;32m    472\u001b[0m \u001b[38;5;28mself\u001b[39m\u001b[38;5;241m.\u001b[39mreactor \u001b[38;5;241m=\u001b[39m \u001b[38;5;28;01mNone\u001b[39;00m\n\u001b[0;32m    474\u001b[0m \u001b[38;5;28;01mif\u001b[39;00m enable_cdp_events:\n",
      "File \u001b[1;32mc:\\MyProjects\\venv\\Lib\\site-packages\\selenium\\webdriver\\chrome\\webdriver.py:45\u001b[0m, in \u001b[0;36mWebDriver.__init__\u001b[1;34m(self, options, service, keep_alive)\u001b[0m\n\u001b[0;32m     42\u001b[0m service \u001b[38;5;241m=\u001b[39m service \u001b[38;5;28;01mif\u001b[39;00m service \u001b[38;5;28;01melse\u001b[39;00m Service()\n\u001b[0;32m     43\u001b[0m options \u001b[38;5;241m=\u001b[39m options \u001b[38;5;28;01mif\u001b[39;00m options \u001b[38;5;28;01melse\u001b[39;00m Options()\n\u001b[1;32m---> 45\u001b[0m \u001b[38;5;28;43msuper\u001b[39;49m\u001b[43m(\u001b[49m\u001b[43m)\u001b[49m\u001b[38;5;241;43m.\u001b[39;49m\u001b[38;5;21;43m__init__\u001b[39;49m\u001b[43m(\u001b[49m\n\u001b[0;32m     46\u001b[0m \u001b[43m    \u001b[49m\u001b[43mbrowser_name\u001b[49m\u001b[38;5;241;43m=\u001b[39;49m\u001b[43mDesiredCapabilities\u001b[49m\u001b[38;5;241;43m.\u001b[39;49m\u001b[43mCHROME\u001b[49m\u001b[43m[\u001b[49m\u001b[38;5;124;43m\"\u001b[39;49m\u001b[38;5;124;43mbrowserName\u001b[39;49m\u001b[38;5;124;43m\"\u001b[39;49m\u001b[43m]\u001b[49m\u001b[43m,\u001b[49m\n\u001b[0;32m     47\u001b[0m \u001b[43m    \u001b[49m\u001b[43mvendor_prefix\u001b[49m\u001b[38;5;241;43m=\u001b[39;49m\u001b[38;5;124;43m\"\u001b[39;49m\u001b[38;5;124;43mgoog\u001b[39;49m\u001b[38;5;124;43m\"\u001b[39;49m\u001b[43m,\u001b[49m\n\u001b[0;32m     48\u001b[0m \u001b[43m    \u001b[49m\u001b[43moptions\u001b[49m\u001b[38;5;241;43m=\u001b[39;49m\u001b[43moptions\u001b[49m\u001b[43m,\u001b[49m\n\u001b[0;32m     49\u001b[0m \u001b[43m    \u001b[49m\u001b[43mservice\u001b[49m\u001b[38;5;241;43m=\u001b[39;49m\u001b[43mservice\u001b[49m\u001b[43m,\u001b[49m\n\u001b[0;32m     50\u001b[0m \u001b[43m    \u001b[49m\u001b[43mkeep_alive\u001b[49m\u001b[38;5;241;43m=\u001b[39;49m\u001b[43mkeep_alive\u001b[49m\u001b[43m,\u001b[49m\n\u001b[0;32m     51\u001b[0m \u001b[43m\u001b[49m\u001b[43m)\u001b[49m\n",
      "File \u001b[1;32mc:\\MyProjects\\venv\\Lib\\site-packages\\selenium\\webdriver\\chromium\\webdriver.py:66\u001b[0m, in \u001b[0;36mChromiumDriver.__init__\u001b[1;34m(self, browser_name, vendor_prefix, options, service, keep_alive)\u001b[0m\n\u001b[0;32m     57\u001b[0m executor \u001b[38;5;241m=\u001b[39m ChromiumRemoteConnection(\n\u001b[0;32m     58\u001b[0m     remote_server_addr\u001b[38;5;241m=\u001b[39m\u001b[38;5;28mself\u001b[39m\u001b[38;5;241m.\u001b[39mservice\u001b[38;5;241m.\u001b[39mservice_url,\n\u001b[0;32m     59\u001b[0m     browser_name\u001b[38;5;241m=\u001b[39mbrowser_name,\n\u001b[1;32m   (...)\u001b[0m\n\u001b[0;32m     62\u001b[0m     ignore_proxy\u001b[38;5;241m=\u001b[39moptions\u001b[38;5;241m.\u001b[39m_ignore_local_proxy,\n\u001b[0;32m     63\u001b[0m )\n\u001b[0;32m     65\u001b[0m \u001b[38;5;28;01mtry\u001b[39;00m:\n\u001b[1;32m---> 66\u001b[0m     \u001b[38;5;28;43msuper\u001b[39;49m\u001b[43m(\u001b[49m\u001b[43m)\u001b[49m\u001b[38;5;241;43m.\u001b[39;49m\u001b[38;5;21;43m__init__\u001b[39;49m\u001b[43m(\u001b[49m\u001b[43mcommand_executor\u001b[49m\u001b[38;5;241;43m=\u001b[39;49m\u001b[43mexecutor\u001b[49m\u001b[43m,\u001b[49m\u001b[43m \u001b[49m\u001b[43moptions\u001b[49m\u001b[38;5;241;43m=\u001b[39;49m\u001b[43moptions\u001b[49m\u001b[43m)\u001b[49m\n\u001b[0;32m     67\u001b[0m \u001b[38;5;28;01mexcept\u001b[39;00m \u001b[38;5;167;01mException\u001b[39;00m:\n\u001b[0;32m     68\u001b[0m     \u001b[38;5;28mself\u001b[39m\u001b[38;5;241m.\u001b[39mquit()\n",
      "File \u001b[1;32mc:\\MyProjects\\venv\\Lib\\site-packages\\selenium\\webdriver\\remote\\webdriver.py:212\u001b[0m, in \u001b[0;36mWebDriver.__init__\u001b[1;34m(self, command_executor, keep_alive, file_detector, options)\u001b[0m\n\u001b[0;32m    210\u001b[0m \u001b[38;5;28mself\u001b[39m\u001b[38;5;241m.\u001b[39m_authenticator_id \u001b[38;5;241m=\u001b[39m \u001b[38;5;28;01mNone\u001b[39;00m\n\u001b[0;32m    211\u001b[0m \u001b[38;5;28mself\u001b[39m\u001b[38;5;241m.\u001b[39mstart_client()\n\u001b[1;32m--> 212\u001b[0m \u001b[38;5;28;43mself\u001b[39;49m\u001b[38;5;241;43m.\u001b[39;49m\u001b[43mstart_session\u001b[49m\u001b[43m(\u001b[49m\u001b[43mcapabilities\u001b[49m\u001b[43m)\u001b[49m\n\u001b[0;32m    214\u001b[0m \u001b[38;5;28mself\u001b[39m\u001b[38;5;241m.\u001b[39m_websocket_connection \u001b[38;5;241m=\u001b[39m \u001b[38;5;28;01mNone\u001b[39;00m\n\u001b[0;32m    215\u001b[0m \u001b[38;5;28mself\u001b[39m\u001b[38;5;241m.\u001b[39m_script \u001b[38;5;241m=\u001b[39m \u001b[38;5;28;01mNone\u001b[39;00m\n",
      "File \u001b[1;32mc:\\MyProjects\\venv\\Lib\\site-packages\\undetected_chromedriver\\__init__.py:724\u001b[0m, in \u001b[0;36mChrome.start_session\u001b[1;34m(self, capabilities, browser_profile)\u001b[0m\n\u001b[0;32m    722\u001b[0m \u001b[38;5;28;01mif\u001b[39;00m \u001b[38;5;129;01mnot\u001b[39;00m capabilities:\n\u001b[0;32m    723\u001b[0m     capabilities \u001b[38;5;241m=\u001b[39m \u001b[38;5;28mself\u001b[39m\u001b[38;5;241m.\u001b[39moptions\u001b[38;5;241m.\u001b[39mto_capabilities()\n\u001b[1;32m--> 724\u001b[0m \u001b[38;5;28;43msuper\u001b[39;49m\u001b[43m(\u001b[49m\u001b[43mselenium\u001b[49m\u001b[38;5;241;43m.\u001b[39;49m\u001b[43mwebdriver\u001b[49m\u001b[38;5;241;43m.\u001b[39;49m\u001b[43mchrome\u001b[49m\u001b[38;5;241;43m.\u001b[39;49m\u001b[43mwebdriver\u001b[49m\u001b[38;5;241;43m.\u001b[39;49m\u001b[43mWebDriver\u001b[49m\u001b[43m,\u001b[49m\u001b[43m \u001b[49m\u001b[38;5;28;43mself\u001b[39;49m\u001b[43m)\u001b[49m\u001b[38;5;241;43m.\u001b[39;49m\u001b[43mstart_session\u001b[49m\u001b[43m(\u001b[49m\n\u001b[0;32m    725\u001b[0m \u001b[43m    \u001b[49m\u001b[43mcapabilities\u001b[49m\n\u001b[0;32m    726\u001b[0m \u001b[43m\u001b[49m\u001b[43m)\u001b[49m\n",
      "File \u001b[1;32mc:\\MyProjects\\venv\\Lib\\site-packages\\selenium\\webdriver\\remote\\webdriver.py:299\u001b[0m, in \u001b[0;36mWebDriver.start_session\u001b[1;34m(self, capabilities)\u001b[0m\n\u001b[0;32m    292\u001b[0m \u001b[38;5;250m\u001b[39m\u001b[38;5;124;03m\"\"\"Creates a new session with the desired capabilities.\u001b[39;00m\n\u001b[0;32m    293\u001b[0m \n\u001b[0;32m    294\u001b[0m \u001b[38;5;124;03m:Args:\u001b[39;00m\n\u001b[0;32m    295\u001b[0m \u001b[38;5;124;03m - capabilities - a capabilities dict to start the session with.\u001b[39;00m\n\u001b[0;32m    296\u001b[0m \u001b[38;5;124;03m\"\"\"\u001b[39;00m\n\u001b[0;32m    298\u001b[0m caps \u001b[38;5;241m=\u001b[39m _create_caps(capabilities)\n\u001b[1;32m--> 299\u001b[0m response \u001b[38;5;241m=\u001b[39m \u001b[38;5;28;43mself\u001b[39;49m\u001b[38;5;241;43m.\u001b[39;49m\u001b[43mexecute\u001b[49m\u001b[43m(\u001b[49m\u001b[43mCommand\u001b[49m\u001b[38;5;241;43m.\u001b[39;49m\u001b[43mNEW_SESSION\u001b[49m\u001b[43m,\u001b[49m\u001b[43m \u001b[49m\u001b[43mcaps\u001b[49m\u001b[43m)\u001b[49m[\u001b[38;5;124m\"\u001b[39m\u001b[38;5;124mvalue\u001b[39m\u001b[38;5;124m\"\u001b[39m]\n\u001b[0;32m    300\u001b[0m \u001b[38;5;28mself\u001b[39m\u001b[38;5;241m.\u001b[39msession_id \u001b[38;5;241m=\u001b[39m response\u001b[38;5;241m.\u001b[39mget(\u001b[38;5;124m\"\u001b[39m\u001b[38;5;124msessionId\u001b[39m\u001b[38;5;124m\"\u001b[39m)\n\u001b[0;32m    301\u001b[0m \u001b[38;5;28mself\u001b[39m\u001b[38;5;241m.\u001b[39mcaps \u001b[38;5;241m=\u001b[39m response\u001b[38;5;241m.\u001b[39mget(\u001b[38;5;124m\"\u001b[39m\u001b[38;5;124mcapabilities\u001b[39m\u001b[38;5;124m\"\u001b[39m)\n",
      "File \u001b[1;32mc:\\MyProjects\\venv\\Lib\\site-packages\\selenium\\webdriver\\remote\\webdriver.py:354\u001b[0m, in \u001b[0;36mWebDriver.execute\u001b[1;34m(self, driver_command, params)\u001b[0m\n\u001b[0;32m    352\u001b[0m response \u001b[38;5;241m=\u001b[39m \u001b[38;5;28mself\u001b[39m\u001b[38;5;241m.\u001b[39mcommand_executor\u001b[38;5;241m.\u001b[39mexecute(driver_command, params)\n\u001b[0;32m    353\u001b[0m \u001b[38;5;28;01mif\u001b[39;00m response:\n\u001b[1;32m--> 354\u001b[0m     \u001b[38;5;28;43mself\u001b[39;49m\u001b[38;5;241;43m.\u001b[39;49m\u001b[43merror_handler\u001b[49m\u001b[38;5;241;43m.\u001b[39;49m\u001b[43mcheck_response\u001b[49m\u001b[43m(\u001b[49m\u001b[43mresponse\u001b[49m\u001b[43m)\u001b[49m\n\u001b[0;32m    355\u001b[0m     response[\u001b[38;5;124m\"\u001b[39m\u001b[38;5;124mvalue\u001b[39m\u001b[38;5;124m\"\u001b[39m] \u001b[38;5;241m=\u001b[39m \u001b[38;5;28mself\u001b[39m\u001b[38;5;241m.\u001b[39m_unwrap_value(response\u001b[38;5;241m.\u001b[39mget(\u001b[38;5;124m\"\u001b[39m\u001b[38;5;124mvalue\u001b[39m\u001b[38;5;124m\"\u001b[39m, \u001b[38;5;28;01mNone\u001b[39;00m))\n\u001b[0;32m    356\u001b[0m     \u001b[38;5;28;01mreturn\u001b[39;00m response\n",
      "File \u001b[1;32mc:\\MyProjects\\venv\\Lib\\site-packages\\selenium\\webdriver\\remote\\errorhandler.py:229\u001b[0m, in \u001b[0;36mErrorHandler.check_response\u001b[1;34m(self, response)\u001b[0m\n\u001b[0;32m    227\u001b[0m         alert_text \u001b[38;5;241m=\u001b[39m value[\u001b[38;5;124m\"\u001b[39m\u001b[38;5;124malert\u001b[39m\u001b[38;5;124m\"\u001b[39m]\u001b[38;5;241m.\u001b[39mget(\u001b[38;5;124m\"\u001b[39m\u001b[38;5;124mtext\u001b[39m\u001b[38;5;124m\"\u001b[39m)\n\u001b[0;32m    228\u001b[0m     \u001b[38;5;28;01mraise\u001b[39;00m exception_class(message, screen, stacktrace, alert_text)  \u001b[38;5;66;03m# type: ignore[call-arg]  # mypy is not smart enough here\u001b[39;00m\n\u001b[1;32m--> 229\u001b[0m \u001b[38;5;28;01mraise\u001b[39;00m exception_class(message, screen, stacktrace)\n",
      "\u001b[1;31mSessionNotCreatedException\u001b[0m: Message: session not created: cannot connect to chrome at 127.0.0.1:61633\nfrom session not created: This version of ChromeDriver only supports Chrome version 127\nCurrent browser version is 126.0.6478.185\nStacktrace:\n\tGetHandleVerifier [0x0055F653+11395]\n\t(No symbol) [0x0053B7A4]\n\t(No symbol) [0x00481A43]\n\t(No symbol) [0x004B7893]\n\t(No symbol) [0x004B694D]\n\t(No symbol) [0x004AD5F0]\n\t(No symbol) [0x004AD447]\n\t(No symbol) [0x004F0845]\n\t(No symbol) [0x004F005A]\n\t(No symbol) [0x004E6F36]\n\t(No symbol) [0x004BA276]\n\t(No symbol) [0x004BAECD]\n\tGetHandleVerifier [0x00662403+1071667]\n\tGetHandleVerifier [0x0066C9C4+1114100]\n\tGetHandleVerifier [0x006654B2+1084130]\n\tGetHandleVerifier [0x0058013B+145259]\n\t(No symbol) [0x00541693]\n\t(No symbol) [0x0053EFB8]\n\t(No symbol) [0x0053F157]\n\t(No symbol) [0x0053842E]\n\tBaseThreadInitThunk [0x7675FCC9+25]\n\tRtlGetAppContainerNamedObjectPath [0x770880CE+286]\n\tRtlGetAppContainerNamedObjectPath [0x7708809E+238]\n"
     ]
    }
   ],
   "source": [
    "options =uc.ChromeOptions()\n",
    "options.add_argument('--disable-popup-blocking')\n",
    "\n",
    "driver =uc.Chrome(options)\n",
    "driver.maximize_window()"
   ]
  },
  {
   "cell_type": "code",
   "execution_count": 15,
   "metadata": {},
   "outputs": [],
   "source": [
    "driver.get('https://clutch.co/us/agencies/digital-marketing?')\n",
    "time.sleep(1)\n",
    "\n",
    "driver.find_element(By.XPATH, '//*[@id=\"CybotCookiebotDialogBodyButtonAccept\"]').click()\n",
    "\n",
    "names, locations, websites = [],[],[]\n",
    "n = 1\n",
    "next_button_enabled = True"
   ]
  },
  {
   "cell_type": "code",
   "execution_count": 16,
   "metadata": {},
   "outputs": [
    {
     "data": {
      "application/vnd.jupyter.widget-view+json": {
       "model_id": "c2160c52e878452596cd6d4c8dbe2365",
       "version_major": 2,
       "version_minor": 0
      },
      "text/plain": [
       "  0%|          | 0/59 [00:00<?, ?it/s]"
      ]
     },
     "metadata": {},
     "output_type": "display_data"
    },
    {
     "name": "stdout",
     "output_type": "stream",
     "text": [
      "Ignite Visibility : San Diego, CA : https://ignitevisibility.com/?utm_source=clutch.co&utm_medium=referral&utm_campaign=directory\n",
      "SmartSites : Paramus, NJ : https://www.smartsites.com/lp/digital-marketing-lp/?utm_source=clutch.co&utm_medium=referral\n",
      "Naked Development : Irvine, CA : https://apps.nakeddev.com/clutch\n",
      "WebFX : Harrisburg, PA : https://www.webfx.com/lp/digital-marketing-services/?utm_source=referral&utm_medium=clutch&utm_campaign=profile\n",
      "NEWMEDIA.COM : Denver, CO : https://newmedia.com/?utm_source=clutch.co&utm_medium=referral&utm_campaign=directory\n",
      "Impactable : San Antonio, TX : https://impactable.com/paid-ads/?&utm_source=clutch&utm_medium=clutch&utm_campaign=clutch_sponsored\n",
      "Communications Strategy Group (CSG®) : Denver, CO : https://wearecsg.com/?utm_source=clutch.co&utm_medium=referral&utm_campaign=directory\n",
      "Sagefrog Marketing Group : Doylestown, PA : https://www.sagefrog.com/?utm_source=clutch.co&utm_medium=referral&utm_campaign=clutch-boosted-placements\n",
      "Onya : Fishers, IN : https://www.onyamark.com/contact-us-clutch/\n",
      "Mad Fish Digital : Portland, OR : https://www.madfishdigital.com/?utm_source=clutch.co&utm_medium=referral&utm_campaign=sponsored\n",
      "Razor Rank : Dallas, TX : http://www.razorrank.com/contact/?utm_source=clutch.co&utm_medium=referral&utm_campaign=directory\n",
      "Session Interactive : Denver, CO : https://sessioninteractive.com/?utm_source=clutch.co&utm_medium=referral&utm_campaign=directory\n",
      "Perrill : Minnetonka, MN : https://www.perrill.com/clutch-digital-marketing-agency/?utm_source=clutch.co&utm_medium=referral&utm_campaign=directory\n",
      "Eightfold : Prescott, AZ : https://www.eightfold.io/?utm_source=clutch.co&utm_medium=referral&utm_campaign=directory\n",
      "smartboost : Las Vegas, NV : https://smartboost.com/?utm_source=clutch.co&utm_medium=referral&utm_campaign=directory\n",
      "Webaholics : Midvale, UT : https://webaholics.co/clutch/?utm_source=clutch.co&utm_medium=referral&utm_campaign=profile\n",
      "E29 Marketing : Larkspur, CA : https://www.e29marketing.com/?utm_source=clutch.co&utm_medium=referral&utm_campaign=directory\n",
      "COMM (formerly CommCreative) : Framingham, MA : https://www.commcreative.com/?utm_source=clutch.co&utm_medium=referral\n",
      "Core and More Technologies : Tinton Falls, NJ : https://www.coreandmoretechnologies.com/lead-generation/?utm_source=clutch.co&utm_medium=referral&utm_campaign=directory\n",
      "Fruition : Denver, CO : https://fruition.net/?utm_source=clutch.co&utm_medium=referral&utm_campaign=directory\n",
      "Building Brands Marketing : Victoria, TX : https://buildingbrandsmarketing.com/?utm_source=clutch.co&utm_medium=referral&utm_campaign=directory\n",
      "Lost Search Media : Mesa, AZ : https://lostsearchmedia.com/?utm_source=clutch.co&utm_medium=referral&utm_campaign=directory\n",
      "Pantelope : Miami Gardens, FL : https://www.pantelope.com/ppc-sem-agency-audit-2/\n",
      "August Ash : Bloomington, MN : https://www.augustash.com/?utm_source=clutch.co&utm_medium=referral&utm_campaign=directory\n",
      "VIDEN : Miami, FL : https://videnglobe.com/?utm_source=clutch.co&utm_medium=referral&utm_campaign=directory\n",
      "Funnel Boost Media : San Antonio, TX : https://www.funnelboostmedia.net/clutch/?utm_source=clutch.co&utm_medium=referral&utm_campaign=directory\n",
      "Search Engine Projects : Anaheim, CA : https://www.searchengineprojects.com/?utm_source=clutch&utm_campaign=main\n",
      "Hunter Digital : New York, NY : https://hunterdigitalmarketing.com/\n",
      "Effective Marketing : Chicago, IL : http://effectivemc.com/?utm_source=clutch.co&utm_medium=referral\n",
      "PropeloMedia : Walnut Creek, CA : https://propelomedia.com/?utm_source=clutch.co&utm_medium=referral&utm_campaign=directory\n",
      "neuelane : Miami, FL : https://neuelane.com/?utm_source=clutch&utm_medium=agency_list&utm_campaign=agency_directory&utm_content=organic_traffic\n",
      "LAB Digital Creative : Memphis, TN : https://labdigitalcreative.com/\n",
      "Optimize Your Marketing : Atlanta, GA : https://www.optimizeyourmarketing.io/\n",
      "Bimeo Digital : Baltimore, MD : https://bimeodigital.com/?utm_source=clutch.co&utm_medium=referral&utm_campaign=directory\n",
      "RevPartners : Atlanta, GA : https://revpartners.io/\n",
      "Anntoine Marketing + Design : Hammond, LA : https://www.anntoine.com/?utm_source=clutch.co&utm_medium=referral&utm_campaign=directory\n",
      "True Impact Partners : Deerfield, IL : https://www.trueimpactpartners.com/\n",
      "Pathfinders Advertising : Mishawaka, IN : https://www.pathfind.com/?utm_source=clutch.co&utm_medium=referral&utm_campaign=directory\n",
      "Accelerated Digital Media : Chicago, IL : https://www.accelerateddigitalmedia.com/performance-marketing-built-around-your-growth-goals/?utm_source=clutch.co&utm_medium=referral&utm_campaign=directory\n",
      "Plan Left : Nashville, TN : https://planleft.com/?utm_source=clutch.co&utm_medium=referral&utm_campaign=directory\n",
      "Paradox Marketing : Tampa, FL : https://paradoxmarketing.io/?utm_source=clutch.co&utm_medium=referral&utm_campaign=directory\n",
      "SmartSites : Paramus, NJ : https://www.smartsites.com/lp/digital-marketing-lp/?utm_source=clutch.co&utm_medium=referral\n",
      "Jives Media : San Francisco, CA : http://www.jivesmedia.com/?utm_source=clutch.co&utm_medium=referral&utm_campaign=directory\n",
      "NinjaPromo.io : New York, NY : https://ninjapromo.io/?utm_source=clutch&utm_medium=catalog&utm_campaign=free\n",
      "Verbsz Marketing : Reston, VA : https://www.verbszmarketing.com/?utm_source=clutch.co&utm_medium=referral&utm_campaign=clutch.co_profile\n",
      "Power Digital : San Diego, CA : https://powerdigitalmarketing.com/services/?utm_medium=clutch&utm_campaign=profile-power-digital-marketing\n",
      "Intero Digital : Colorado Springs, CO : https://www.interodigital.com/meet-intero-digital-landing/?utm_source=clutch.co&utm_medium=referral&utm_campaign=intero-digital-profile\n",
      "Cox Media Group Local Solutions : Dunwoody, GA : https://cmglocalsolutions.com/?utm_source=clutch.co&utm_medium=referral&utm_campaign=directory\n",
      "MTA Digital : Poznań, Poland : https://mta.digital/clutch/\n",
      "Volume Nine : Denver, CO : https://www.v9digital.com/?utm_source=clutch.co&utm_medium=referral&utm_campaign=clutch\n",
      "Jives Media : San Francisco, CA : http://www.jivesmedia.com/?utm_source=clutch.co&utm_medium=referral&utm_campaign=directory\n",
      "OpenMoves : Huntington, NY : https://openmoves.com/paid-media/?utm_source=clutch.co&utm_medium=referral&utm_campaign=directory\n",
      "Disruptive Advertising : Pleasant Grove, UT : https://disruptiveadvertising.com/?utm_source=clutch.co&utm_medium=sponsoredlisting\n",
      "Caffeine Marketing : Atlanta, GA : http://caffeinemarketing.com/?utm_source=clutch.co&utm_medium=referral&utm_campaign=directory\n",
      "Search Engine People : Toronto, Canada : https://www.searchenginepeople.com/?utm_source=clutch.co&utm_medium=referral&utm_campaign=directory\n",
      "Emote Digital : Hawthorn, Australia : http://www.emotedigital.com.au/?utm_source=clutch.co&utm_medium=referral&utm_campaign=directory\n",
      "SWOT Digital Marketing Agency : Dublin, Ireland : https://www.swotdigital.com/?utm_source=clutch.co&utm_medium=referral&utm_campaign=directory\n",
      "Intero Digital : Colorado Springs, CO : https://www.interodigital.com/meet-intero-digital-landing/?utm_source=clutch.co&utm_medium=referral&utm_campaign=intero-digital-profile\n",
      "Acadia : Atlanta, GA : https://acadia.io/?utm_source=clutch.co&utm_medium=referral&utm_campaign=directory\n",
      "page1:Done\n"
     ]
    }
   ],
   "source": [
    "while next_button_enabled:\n",
    "    time.sleep(2)\n",
    "\n",
    "    container = driver.find_element(By.XPATH, '//*[@id=\"providers__list\"]')\n",
    "    listings = container.find_elements(By.XPATH, './/li[@data-position]')\n",
    "\n",
    "    for listing in tqdm(listings):\n",
    "        driver.execute_script(\"arguments[0].scrollIntoView();\", listing)\n",
    "        time.sleep(2)\n",
    "\n",
    "        try:\n",
    "            name = listing.find_element(By.XPATH, './/h3[@class=\"provider__title\"]/a').text\n",
    "            names.append(name)\n",
    "        except:\n",
    "            name = None\n",
    "            names.append(name)\n",
    "\n",
    "        try:\n",
    "            location = listing.find_element(By.XPATH, './/span[@class=\"locality\"]').text\n",
    "            locations.append(location)\n",
    "        except:\n",
    "            location = None\n",
    "            locations.append(location)\n",
    "           \n",
    "        web_page_link = listing.find_element(By.XPATH, './/div[@class=\"provider__cta-container\"]/a').get_attribute('href')\n",
    "        web_page= driver.execute_script(\"window.open('{}', '_blank');\".format(web_page_link)) \n",
    "        driver.switch_to.window(driver.window_handles[1])\n",
    "        time.sleep(1)\n",
    "\n",
    "        try:\n",
    "            website = driver.find_element(By.XPATH, '//a[@title=\"Provider Title\"]').get_attribute('href')\n",
    "            websites.append(website)\n",
    "        except:\n",
    "            website = None\n",
    "            websites.append(website)\n",
    "       \n",
    "        time.sleep(1)\n",
    "        driver.close()\n",
    "\n",
    "        driver.switch_to.window(driver.window_handles[0])\n",
    "        time.sleep(4)\n",
    "\n",
    "        print(name, \":\", location, \":\", website)\n",
    "\n",
    "    try:\n",
    "        next_page = driver.find_element(By.XPATH, '//li[@class=\"page-item next\"]/a').click()\n",
    "        n += 1\n",
    "    except:\n",
    "        next_button_enabled = False\n",
    "        n=n\n",
    "    \n",
    "    print(f'page{n}:Done')\n",
    "    \n",
    "df = pd.DataFrame(list(zip(names, locations, websites)), columns = [\"Name\", \"Location\", \"Website\"])\n",
    "df.to_csv(\"agencies.csv\", index=False, encoding=\"utf-8-sig\")\n",
    "\n",
    "driver.quit()"
   ]
  }
 ],
 "metadata": {
  "kernelspec": {
   "display_name": "Python 3",
   "language": "python",
   "name": "python3"
  },
  "language_info": {
   "codemirror_mode": {
    "name": "ipython",
    "version": 3
   },
   "file_extension": ".py",
   "mimetype": "text/x-python",
   "name": "python",
   "nbconvert_exporter": "python",
   "pygments_lexer": "ipython3",
   "version": "3.11.4"
  }
 },
 "nbformat": 4,
 "nbformat_minor": 2
}
