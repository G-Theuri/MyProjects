{
 "cells": [
  {
   "cell_type": "code",
   "execution_count": 10,
   "metadata": {},
   "outputs": [],
   "source": [
    "import undetected_chromedriver as uc\n",
    "from selenium.common.exceptions import NoSuchElementException\n",
    "from selenium.webdriver.common.by import By\n",
    "from selenium.webdriver.common.keys import Keys\n",
    "from selenium.webdriver.support import expected_conditions as EC\n",
    "from selenium.webdriver.support.wait import WebDriverWait\n",
    "import time\n",
    "import pandas as pd\n",
    "import json"
   ]
  },
  {
   "cell_type": "code",
   "execution_count": 30,
   "metadata": {},
   "outputs": [],
   "source": [
    "options =uc.ChromeOptions()\n",
    "options.add_argument('--disable-popup-blocking')\n",
    "driver = uc.Chrome(options)\n",
    "driver.maximize_window()"
   ]
  },
  {
   "cell_type": "code",
   "execution_count": 36,
   "metadata": {},
   "outputs": [],
   "source": [
    "driver.get('https://e-xidmet.ayna.gov.az/check')\n",
    "time.sleep(2)"
   ]
  },
  {
   "cell_type": "code",
   "execution_count": 37,
   "metadata": {},
   "outputs": [],
   "source": [
    "action = WebDriverWait(driver, 4).until(EC.element_to_be_clickable((By.CSS_SELECTOR, \"option[value = 'tpt']\"))).click()\n",
    "card = WebDriverWait(driver, 4).until(EC.element_to_be_clickable((By.CSS_SELECTOR, \"option[value = 'card']\"))).click()\n",
    "IDnumber = WebDriverWait(driver, 4).until(EC.element_to_be_clickable((By.CSS_SELECTOR, \"#app > div > div.boxes.pt-3 > div > div:nth-child(1) > div > div.card-body > div > div.col-md-6.offset-md-3.col-sm-12.form-group > fieldset > div.row.form-group > div:nth-child(2) > input\")))\n",
    "checkout = WebDriverWait(driver, 4).until(EC.element_to_be_clickable((By.CSS_SELECTOR, \"button[class = 'btn btn-primary btn-block']\")))\n",
    "\n",
    "cars =pd.read_csv('data.csv')\n",
    "data=[]\n",
    "info =[]\n",
    "for index, rows in cars.iterrows():\n",
    "    IDnumber.clear()    \n",
    "    IDnumber.send_keys(rows[\"Plate number\"])\n",
    "    checkout.click()\n",
    "    time.sleep(3)\n",
    "    \n",
    "\n",
    "    try:\n",
    "        table = driver.find_element(By.XPATH, '//div[@class=\"table-responsive\"]')\n",
    "        info.append({rows[\"Plate number\"]:'Yes'})\n",
    "    except NoSuchElementException:\n",
    "        info.append({rows[\"Plate number\"]:'No'})\n",
    "\n"
   ]
  },
  {
   "cell_type": "code",
   "execution_count": 38,
   "metadata": {},
   "outputs": [
    {
     "data": {
      "text/plain": [
       "[{'99BC284': 'Yes'},\n",
       " {'77YS441': 'Yes'},\n",
       " {'77LQ509': 'Yes'},\n",
       " {'99TD236': 'No'},\n",
       " {'77CQ784': 'No'},\n",
       " {'77CQ865': 'Yes'},\n",
       " {'90UF666': 'No'},\n",
       " {'62BJ165': 'No'},\n",
       " {'90KE925': 'No'}]"
      ]
     },
     "execution_count": 38,
     "metadata": {},
     "output_type": "execute_result"
    }
   ],
   "source": [
    "info"
   ]
  }
 ],
 "metadata": {
  "kernelspec": {
   "display_name": "venv",
   "language": "python",
   "name": "python3"
  },
  "language_info": {
   "codemirror_mode": {
    "name": "ipython",
    "version": 3
   },
   "file_extension": ".py",
   "mimetype": "text/x-python",
   "name": "python",
   "nbconvert_exporter": "python",
   "pygments_lexer": "ipython3",
   "version": "3.12.4"
  }
 },
 "nbformat": 4,
 "nbformat_minor": 2
}
