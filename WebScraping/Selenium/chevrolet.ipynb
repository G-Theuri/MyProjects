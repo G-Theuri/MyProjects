{
 "cells": [
  {
   "cell_type": "code",
   "execution_count": 1,
   "metadata": {},
   "outputs": [],
   "source": [
    "import undetected_chromedriver as uc\n",
    "from selenium.webdriver.common.by import By\n",
    "from selenium.webdriver.common.keys import Keys\n",
    "from selenium.webdriver.support.wait import WebDriverWait\n",
    "from selenium.webdriver.support import expected_conditions as EC\n",
    "import time\n",
    "import pandas as pd\n"
   ]
  },
  {
   "cell_type": "code",
   "execution_count": 32,
   "metadata": {},
   "outputs": [],
   "source": [
    "options = uc.ChromeOptions()\n",
    "options.add_argument('--deny-permission-prompts')\n",
    "driver = uc.Chrome(options)\n",
    "driver.maximize_window()"
   ]
  },
  {
   "cell_type": "code",
   "execution_count": 33,
   "metadata": {},
   "outputs": [],
   "source": [
    "driver.get('https://www.chevrolet.ca/en/dealer-locator')\n",
    "time.sleep(3)\n"
   ]
  },
  {
   "cell_type": "code",
   "execution_count": 38,
   "metadata": {},
   "outputs": [],
   "source": [
    "driver.find_element(By.XPATH,\"//button[@id='_evidon-accept-button']\").click()"
   ]
  },
  {
   "cell_type": "code",
   "execution_count": 39,
   "metadata": {},
   "outputs": [],
   "source": [
    "input = WebDriverWait(driver, 4).until(EC.element_to_be_clickable((By.CSS_SELECTOR, \"input[data-di-id='#gen_gb-Search-Fields_1']\")))\n",
    "search = WebDriverWait(driver, 4).until(EC.element_to_be_clickable((By.CSS_SELECTOR, \"button[data-di-id='#gen_gb-Input-Fields']\")))"
   ]
  },
  {
   "cell_type": "code",
   "execution_count": 55,
   "metadata": {},
   "outputs": [
    {
     "data": {
      "text/plain": [
       "'https://www.christin.com/'"
      ]
     },
     "execution_count": 55,
     "metadata": {},
     "output_type": "execute_result"
    }
   ],
   "source": [
    "tests = driver.find_element(By.XPATH, \"//a[@class='gb-dl-result-website stat-text-link']\").get_attribute('href')\n",
    "tests"
   ]
  },
  {
   "cell_type": "code",
   "execution_count": 60,
   "metadata": {},
   "outputs": [
    {
     "ename": "NoSuchElementException",
     "evalue": "Message: no such element: Unable to locate element: {\"method\":\"xpath\",\"selector\":\".//div[@class='gb-dl-result-name stat-text-link']\"}\n  (Session info: chrome=127.0.6533.89); For documentation on this error, please visit: https://www.selenium.dev/documentation/webdriver/troubleshooting/errors#no-such-element-exception\nStacktrace:\n\tGetHandleVerifier [0x011B8923+23283]\n\t(No symbol) [0x0117E934]\n\t(No symbol) [0x010B0733]\n\t(No symbol) [0x010F326F]\n\t(No symbol) [0x010F34AB]\n\t(No symbol) [0x010E9571]\n\t(No symbol) [0x01114464]\n\t(No symbol) [0x010E9485]\n\t(No symbol) [0x011146B4]\n\t(No symbol) [0x0112CB8D]\n\t(No symbol) [0x011141B6]\n\t(No symbol) [0x010E8017]\n\t(No symbol) [0x010E890D]\n\tGetHandleVerifier [0x012AA5F3+1013699]\n\tGetHandleVerifier [0x012B3E4C+1052700]\n\tGetHandleVerifier [0x012AD4B4+1025668]\n\tGetHandleVerifier [0x011DEA2B+179195]\n\t(No symbol) [0x01186833]\n\t(No symbol) [0x01183198]\n\t(No symbol) [0x01183337]\n\t(No symbol) [0x0117B4BE]\n\tBaseThreadInitThunk [0x75D2FCC9+25]\n\tRtlGetAppContainerNamedObjectPath [0x77D280CE+286]\n\tRtlGetAppContainerNamedObjectPath [0x77D2809E+238]\n",
     "output_type": "error",
     "traceback": [
      "\u001b[1;31m---------------------------------------------------------------------------\u001b[0m",
      "\u001b[1;31mNoSuchElementException\u001b[0m                    Traceback (most recent call last)",
      "Cell \u001b[1;32mIn[60], line 19\u001b[0m\n\u001b[0;32m     13\u001b[0m \u001b[38;5;28;01mfor\u001b[39;00m profile \u001b[38;5;129;01min\u001b[39;00m driver\u001b[38;5;241m.\u001b[39mfind_elements(By\u001b[38;5;241m.\u001b[39mXPATH, \u001b[38;5;124m\"\u001b[39m\u001b[38;5;124m//div[@class =\u001b[39m\u001b[38;5;124m'\u001b[39m\u001b[38;5;124mq-dealer-results-container show\u001b[39m\u001b[38;5;124m'\u001b[39m\u001b[38;5;124m]/div\u001b[39m\u001b[38;5;124m\"\u001b[39m):\n\u001b[0;32m     14\u001b[0m     \u001b[38;5;66;03m#driver.execute_script(\"arguments[0].scrollIntoView();\", profile)\u001b[39;00m\n\u001b[0;32m     15\u001b[0m     time\u001b[38;5;241m.\u001b[39msleep(\u001b[38;5;241m3\u001b[39m)\n\u001b[0;32m     17\u001b[0m     data\u001b[38;5;241m.\u001b[39mappend({\n\u001b[0;32m     18\u001b[0m \n\u001b[1;32m---> 19\u001b[0m     \u001b[38;5;124m'\u001b[39m\u001b[38;5;124mnames\u001b[39m\u001b[38;5;124m'\u001b[39m: \u001b[43mprofile\u001b[49m\u001b[38;5;241;43m.\u001b[39;49m\u001b[43mfind_element\u001b[49m\u001b[43m(\u001b[49m\u001b[43mBy\u001b[49m\u001b[38;5;241;43m.\u001b[39;49m\u001b[43mXPATH\u001b[49m\u001b[43m,\u001b[49m\u001b[38;5;124;43m\"\u001b[39;49m\u001b[38;5;124;43m.//div[@class=\u001b[39;49m\u001b[38;5;124;43m'\u001b[39;49m\u001b[38;5;124;43mgb-dl-result-name stat-text-link\u001b[39;49m\u001b[38;5;124;43m'\u001b[39;49m\u001b[38;5;124;43m]\u001b[39;49m\u001b[38;5;124;43m\"\u001b[39;49m\u001b[43m)\u001b[49m\u001b[38;5;241m.\u001b[39mtext,\n\u001b[0;32m     20\u001b[0m     \u001b[38;5;124m'\u001b[39m\u001b[38;5;124maddress\u001b[39m\u001b[38;5;124m'\u001b[39m: profile\u001b[38;5;241m.\u001b[39mfind_element(By\u001b[38;5;241m.\u001b[39mXPATH, \u001b[38;5;124m\"\u001b[39m\u001b[38;5;124m.//div[@class=\u001b[39m\u001b[38;5;124m'\u001b[39m\u001b[38;5;124mgb-dl-result-address1\u001b[39m\u001b[38;5;124m'\u001b[39m\u001b[38;5;124m]/a\u001b[39m\u001b[38;5;124m\"\u001b[39m)\u001b[38;5;241m.\u001b[39mtext,\n\u001b[0;32m     21\u001b[0m     \u001b[38;5;124m'\u001b[39m\u001b[38;5;124mcity\u001b[39m\u001b[38;5;124m'\u001b[39m: profile\u001b[38;5;241m.\u001b[39mfind_element(By\u001b[38;5;241m.\u001b[39mXPATH, \u001b[38;5;124m\"\u001b[39m\u001b[38;5;124m.//div[@class=\u001b[39m\u001b[38;5;124m'\u001b[39m\u001b[38;5;124mgb-dl-result-address1\u001b[39m\u001b[38;5;124m'\u001b[39m\u001b[38;5;124m]/a\u001b[39m\u001b[38;5;124m\"\u001b[39m)\u001b[38;5;241m.\u001b[39mtext,\n\u001b[0;32m     22\u001b[0m     \u001b[38;5;124m'\u001b[39m\u001b[38;5;124mprovince\u001b[39m\u001b[38;5;124m'\u001b[39m: profile\u001b[38;5;241m.\u001b[39mfind_element(By\u001b[38;5;241m.\u001b[39mXPATH, \u001b[38;5;124m\"\u001b[39m\u001b[38;5;124m.//div[@class=\u001b[39m\u001b[38;5;124m'\u001b[39m\u001b[38;5;124mgb-dl-result-address1\u001b[39m\u001b[38;5;124m'\u001b[39m\u001b[38;5;124m]/a\u001b[39m\u001b[38;5;124m\"\u001b[39m)\u001b[38;5;241m.\u001b[39mtext,\n\u001b[0;32m     23\u001b[0m     \u001b[38;5;124m'\u001b[39m\u001b[38;5;124mpostalcode\u001b[39m\u001b[38;5;124m'\u001b[39m: code,\n\u001b[0;32m     24\u001b[0m     \u001b[38;5;124m'\u001b[39m\u001b[38;5;124msales_phone\u001b[39m\u001b[38;5;124m'\u001b[39m: profile\u001b[38;5;241m.\u001b[39mfind_element(By\u001b[38;5;241m.\u001b[39mXPATH, \u001b[38;5;124m\"\u001b[39m\u001b[38;5;124m.//div[@class=\u001b[39m\u001b[38;5;124m'\u001b[39m\u001b[38;5;124mgb-dl-result-phone-sales\u001b[39m\u001b[38;5;124m'\u001b[39m\u001b[38;5;124m]/a\u001b[39m\u001b[38;5;124m\"\u001b[39m)\u001b[38;5;241m.\u001b[39mtext,\n\u001b[0;32m     25\u001b[0m     \u001b[38;5;124m'\u001b[39m\u001b[38;5;124mservices_phone\u001b[39m\u001b[38;5;124m'\u001b[39m: profile\u001b[38;5;241m.\u001b[39mfind_element(By\u001b[38;5;241m.\u001b[39mXPATH, \u001b[38;5;124m\"\u001b[39m\u001b[38;5;124m.//div[@class=\u001b[39m\u001b[38;5;124m'\u001b[39m\u001b[38;5;124mgb-dl-result-phone\u001b[39m\u001b[38;5;124m'\u001b[39m\u001b[38;5;124m]/a\u001b[39m\u001b[38;5;124m\"\u001b[39m)\u001b[38;5;241m.\u001b[39mtext,\n\u001b[0;32m     26\u001b[0m     \u001b[38;5;124m'\u001b[39m\u001b[38;5;124mwebsite\u001b[39m\u001b[38;5;124m'\u001b[39m: profile\u001b[38;5;241m.\u001b[39mfind_element(By\u001b[38;5;241m.\u001b[39mXPATH, \u001b[38;5;124m\"\u001b[39m\u001b[38;5;124m.//a[@class=\u001b[39m\u001b[38;5;124m'\u001b[39m\u001b[38;5;124mgb-dl-result-website stat-text-link\u001b[39m\u001b[38;5;124m'\u001b[39m\u001b[38;5;124m]\u001b[39m\u001b[38;5;124m\"\u001b[39m)\u001b[38;5;241m.\u001b[39mget_attribute(\u001b[38;5;124m'\u001b[39m\u001b[38;5;124mhref\u001b[39m\u001b[38;5;124m'\u001b[39m),\n\u001b[0;32m     27\u001b[0m \n\u001b[0;32m     28\u001b[0m })\n",
      "File \u001b[1;32mc:\\MyProjects\\venv\\Lib\\site-packages\\selenium\\webdriver\\remote\\webelement.py:417\u001b[0m, in \u001b[0;36mWebElement.find_element\u001b[1;34m(self, by, value)\u001b[0m\n\u001b[0;32m    414\u001b[0m     by \u001b[38;5;241m=\u001b[39m By\u001b[38;5;241m.\u001b[39mCSS_SELECTOR\n\u001b[0;32m    415\u001b[0m     value \u001b[38;5;241m=\u001b[39m \u001b[38;5;124mf\u001b[39m\u001b[38;5;124m'\u001b[39m\u001b[38;5;124m[name=\u001b[39m\u001b[38;5;124m\"\u001b[39m\u001b[38;5;132;01m{\u001b[39;00mvalue\u001b[38;5;132;01m}\u001b[39;00m\u001b[38;5;124m\"\u001b[39m\u001b[38;5;124m]\u001b[39m\u001b[38;5;124m'\u001b[39m\n\u001b[1;32m--> 417\u001b[0m \u001b[38;5;28;01mreturn\u001b[39;00m \u001b[38;5;28;43mself\u001b[39;49m\u001b[38;5;241;43m.\u001b[39;49m\u001b[43m_execute\u001b[49m\u001b[43m(\u001b[49m\u001b[43mCommand\u001b[49m\u001b[38;5;241;43m.\u001b[39;49m\u001b[43mFIND_CHILD_ELEMENT\u001b[49m\u001b[43m,\u001b[49m\u001b[43m \u001b[49m\u001b[43m{\u001b[49m\u001b[38;5;124;43m\"\u001b[39;49m\u001b[38;5;124;43musing\u001b[39;49m\u001b[38;5;124;43m\"\u001b[39;49m\u001b[43m:\u001b[49m\u001b[43m \u001b[49m\u001b[43mby\u001b[49m\u001b[43m,\u001b[49m\u001b[43m \u001b[49m\u001b[38;5;124;43m\"\u001b[39;49m\u001b[38;5;124;43mvalue\u001b[39;49m\u001b[38;5;124;43m\"\u001b[39;49m\u001b[43m:\u001b[49m\u001b[43m \u001b[49m\u001b[43mvalue\u001b[49m\u001b[43m}\u001b[49m\u001b[43m)\u001b[49m[\u001b[38;5;124m\"\u001b[39m\u001b[38;5;124mvalue\u001b[39m\u001b[38;5;124m\"\u001b[39m]\n",
      "File \u001b[1;32mc:\\MyProjects\\venv\\Lib\\site-packages\\selenium\\webdriver\\remote\\webelement.py:395\u001b[0m, in \u001b[0;36mWebElement._execute\u001b[1;34m(self, command, params)\u001b[0m\n\u001b[0;32m    393\u001b[0m     params \u001b[38;5;241m=\u001b[39m {}\n\u001b[0;32m    394\u001b[0m params[\u001b[38;5;124m\"\u001b[39m\u001b[38;5;124mid\u001b[39m\u001b[38;5;124m\"\u001b[39m] \u001b[38;5;241m=\u001b[39m \u001b[38;5;28mself\u001b[39m\u001b[38;5;241m.\u001b[39m_id\n\u001b[1;32m--> 395\u001b[0m \u001b[38;5;28;01mreturn\u001b[39;00m \u001b[38;5;28;43mself\u001b[39;49m\u001b[38;5;241;43m.\u001b[39;49m\u001b[43m_parent\u001b[49m\u001b[38;5;241;43m.\u001b[39;49m\u001b[43mexecute\u001b[49m\u001b[43m(\u001b[49m\u001b[43mcommand\u001b[49m\u001b[43m,\u001b[49m\u001b[43m \u001b[49m\u001b[43mparams\u001b[49m\u001b[43m)\u001b[49m\n",
      "File \u001b[1;32mc:\\MyProjects\\venv\\Lib\\site-packages\\selenium\\webdriver\\remote\\webdriver.py:354\u001b[0m, in \u001b[0;36mWebDriver.execute\u001b[1;34m(self, driver_command, params)\u001b[0m\n\u001b[0;32m    352\u001b[0m response \u001b[38;5;241m=\u001b[39m \u001b[38;5;28mself\u001b[39m\u001b[38;5;241m.\u001b[39mcommand_executor\u001b[38;5;241m.\u001b[39mexecute(driver_command, params)\n\u001b[0;32m    353\u001b[0m \u001b[38;5;28;01mif\u001b[39;00m response:\n\u001b[1;32m--> 354\u001b[0m     \u001b[38;5;28;43mself\u001b[39;49m\u001b[38;5;241;43m.\u001b[39;49m\u001b[43merror_handler\u001b[49m\u001b[38;5;241;43m.\u001b[39;49m\u001b[43mcheck_response\u001b[49m\u001b[43m(\u001b[49m\u001b[43mresponse\u001b[49m\u001b[43m)\u001b[49m\n\u001b[0;32m    355\u001b[0m     response[\u001b[38;5;124m\"\u001b[39m\u001b[38;5;124mvalue\u001b[39m\u001b[38;5;124m\"\u001b[39m] \u001b[38;5;241m=\u001b[39m \u001b[38;5;28mself\u001b[39m\u001b[38;5;241m.\u001b[39m_unwrap_value(response\u001b[38;5;241m.\u001b[39mget(\u001b[38;5;124m\"\u001b[39m\u001b[38;5;124mvalue\u001b[39m\u001b[38;5;124m\"\u001b[39m, \u001b[38;5;28;01mNone\u001b[39;00m))\n\u001b[0;32m    356\u001b[0m     \u001b[38;5;28;01mreturn\u001b[39;00m response\n",
      "File \u001b[1;32mc:\\MyProjects\\venv\\Lib\\site-packages\\selenium\\webdriver\\remote\\errorhandler.py:229\u001b[0m, in \u001b[0;36mErrorHandler.check_response\u001b[1;34m(self, response)\u001b[0m\n\u001b[0;32m    227\u001b[0m         alert_text \u001b[38;5;241m=\u001b[39m value[\u001b[38;5;124m\"\u001b[39m\u001b[38;5;124malert\u001b[39m\u001b[38;5;124m\"\u001b[39m]\u001b[38;5;241m.\u001b[39mget(\u001b[38;5;124m\"\u001b[39m\u001b[38;5;124mtext\u001b[39m\u001b[38;5;124m\"\u001b[39m)\n\u001b[0;32m    228\u001b[0m     \u001b[38;5;28;01mraise\u001b[39;00m exception_class(message, screen, stacktrace, alert_text)  \u001b[38;5;66;03m# type: ignore[call-arg]  # mypy is not smart enough here\u001b[39;00m\n\u001b[1;32m--> 229\u001b[0m \u001b[38;5;28;01mraise\u001b[39;00m exception_class(message, screen, stacktrace)\n",
      "\u001b[1;31mNoSuchElementException\u001b[0m: Message: no such element: Unable to locate element: {\"method\":\"xpath\",\"selector\":\".//div[@class='gb-dl-result-name stat-text-link']\"}\n  (Session info: chrome=127.0.6533.89); For documentation on this error, please visit: https://www.selenium.dev/documentation/webdriver/troubleshooting/errors#no-such-element-exception\nStacktrace:\n\tGetHandleVerifier [0x011B8923+23283]\n\t(No symbol) [0x0117E934]\n\t(No symbol) [0x010B0733]\n\t(No symbol) [0x010F326F]\n\t(No symbol) [0x010F34AB]\n\t(No symbol) [0x010E9571]\n\t(No symbol) [0x01114464]\n\t(No symbol) [0x010E9485]\n\t(No symbol) [0x011146B4]\n\t(No symbol) [0x0112CB8D]\n\t(No symbol) [0x011141B6]\n\t(No symbol) [0x010E8017]\n\t(No symbol) [0x010E890D]\n\tGetHandleVerifier [0x012AA5F3+1013699]\n\tGetHandleVerifier [0x012B3E4C+1052700]\n\tGetHandleVerifier [0x012AD4B4+1025668]\n\tGetHandleVerifier [0x011DEA2B+179195]\n\t(No symbol) [0x01186833]\n\t(No symbol) [0x01183198]\n\t(No symbol) [0x01183337]\n\t(No symbol) [0x0117B4BE]\n\tBaseThreadInitThunk [0x75D2FCC9+25]\n\tRtlGetAppContainerNamedObjectPath [0x77D280CE+286]\n\tRtlGetAppContainerNamedObjectPath [0x77D2809E+238]\n"
     ]
    }
   ],
   "source": [
    "codes=  ['H1E6P2', 'H1B1C6', 'M5V2T6', 'H3B4M8', 'V6B6G1', 'K1A0B1', 'T2P2A7']\n",
    "data =[]\n",
    "showmore = True\n",
    "\n",
    "\n",
    "for code in codes:\n",
    "    input.clear()\n",
    "    time.sleep(5)\n",
    "\n",
    "    input.send_keys(code)\n",
    "    time.sleep(3)\n",
    "    search.click()\n",
    "    time.sleep(5)\n",
    "    while showmore:\n",
    "        try:\n",
    "            more = WebDriverWait(driver, 4).until(EC.element_to_be_clickable((By.CSS_SELECTOR, \"input[data-di-id='#gen_gb-Search-Fields_1']\"))).click()\n",
    "        except:\n",
    "            continue\n",
    "        \n",
    "    \n",
    "    for profile in driver.find_elements(By.XPATH, \"//div[@class ='q-dealer-results-container show']/div\"):\n",
    "        #driver.execute_script(\"arguments[0].scrollIntoView();\", profile)\n",
    "        time.sleep(3)\n",
    "\n",
    "        data.append({\n",
    "    \n",
    "        'names': profile.find_element(By.XPATH,\".//div[@class='gb-dl-result-name stat-text-link']\").text,\n",
    "        'address': profile.find_element(By.XPATH, \".//div[@class='gb-dl-result-address1']/a\").text,\n",
    "        'city': profile.find_element(By.XPATH, \".//div[@class='gb-dl-result-address1']/a\").text,\n",
    "        'province': profile.find_element(By.XPATH, \".//div[@class='gb-dl-result-address1']/a\").text,\n",
    "        'postalcode': code,\n",
    "        'sales_phone': profile.find_element(By.XPATH, \".//div[@class='gb-dl-result-phone-sales']/a\").text,\n",
    "        'services_phone': profile.find_element(By.XPATH, \".//div[@class='gb-dl-result-phone']/a\").text,\n",
    "        'website': profile.find_element(By.XPATH, \".//a[@class='gb-dl-result-website stat-text-link']\").get_attribute('href'),\n",
    "    \n",
    "    })\n",
    "    \n",
    "\n"
   ]
  },
  {
   "cell_type": "code",
   "execution_count": 59,
   "metadata": {},
   "outputs": [
    {
     "data": {
      "text/plain": [
       "[{'names': 'CHRISTIN AUTOMOBILE INC.',\n",
       "  'address': '12011, RUE SHERBROOKE EST',\n",
       "  'city': '12011, RUE SHERBROOKE EST',\n",
       "  'province': '12011, RUE SHERBROOKE EST',\n",
       "  'postalcode': 'H1E6P2',\n",
       "  'sales_phone': '(514) 640-1050',\n",
       "  'services_phone': '(514) 640-1050',\n",
       "  'website': 'https://www.christin.com/'},\n",
       " {'names': 'HAMEL CHEVROLET BUICK GMC LTEE',\n",
       "  'address': '9455, BOULEVARD LACORDAIRE',\n",
       "  'city': '9455, BOULEVARD LACORDAIRE',\n",
       "  'province': '9455, BOULEVARD LACORDAIRE',\n",
       "  'postalcode': 'H1E6P2',\n",
       "  'sales_phone': '(514) 327-3540',\n",
       "  'services_phone': '(514) 327-3540',\n",
       "  'website': 'https://www.hamelchevrolet.ca/'},\n",
       " {'names': 'GRENIER CHEVROLET BUICK GMC INC.',\n",
       "  'address': '1325, CARRE MASSON',\n",
       "  'city': '1325, CARRE MASSON',\n",
       "  'province': '1325, CARRE MASSON',\n",
       "  'postalcode': 'H1E6P2',\n",
       "  'sales_phone': '(833) 233-5639',\n",
       "  'services_phone': '(833) 233-5640',\n",
       "  'website': 'https://www.grenierchevrolet.com/'},\n",
       " {'names': 'LE RELAIS CHEV CADILLAC BUICK GMC',\n",
       "  'address': '9411, AVENUE PAPINEAU',\n",
       "  'city': '9411, AVENUE PAPINEAU',\n",
       "  'province': '9411, AVENUE PAPINEAU',\n",
       "  'postalcode': 'H1E6P2',\n",
       "  'sales_phone': '(833) 942-1538',\n",
       "  'services_phone': '(833) 942-1538',\n",
       "  'website': 'https://www.lerelaischevrolet.com/'},\n",
       " {'names': 'REPENTIGNY CHEVROLET BUICK GMC INC.',\n",
       "  'address': '612, RUE NOTRE-DAME',\n",
       "  'city': '612, RUE NOTRE-DAME',\n",
       "  'province': '612, RUE NOTRE-DAME',\n",
       "  'postalcode': 'H1E6P2',\n",
       "  'sales_phone': '(844) 470-9964',\n",
       "  'services_phone': '(844) 470-9965',\n",
       "  'website': 'https://www.repentignychevrolet.com/'}]"
      ]
     },
     "execution_count": 59,
     "metadata": {},
     "output_type": "execute_result"
    }
   ],
   "source": [
    "data"
   ]
  },
  {
   "cell_type": "code",
   "execution_count": null,
   "metadata": {},
   "outputs": [],
   "source": []
  }
 ],
 "metadata": {
  "kernelspec": {
   "display_name": "venv",
   "language": "python",
   "name": "python3"
  },
  "language_info": {
   "codemirror_mode": {
    "name": "ipython",
    "version": 3
   },
   "file_extension": ".py",
   "mimetype": "text/x-python",
   "name": "python",
   "nbconvert_exporter": "python",
   "pygments_lexer": "ipython3",
   "version": "3.12.4"
  }
 },
 "nbformat": 4,
 "nbformat_minor": 2
}
