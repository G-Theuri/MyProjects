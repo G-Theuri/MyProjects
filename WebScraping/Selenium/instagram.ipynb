{
 "cells": [
  {
   "cell_type": "code",
   "execution_count": 2,
   "metadata": {},
   "outputs": [],
   "source": [
    "import undetected_chromedriver as uc\n",
    "from selenium.webdriver.common.by import By\n",
    "from selenium.webdriver.common.keys import Keys\n",
    "from selenium.webdriver.support import expected_conditions as EC\n",
    "from selenium.webdriver.support.wait import WebDriverWait\n",
    "from tqdm.notebook import tqdm\n",
    "import time\n",
    "import pandas as pd\n",
    "import json\n"
   ]
  },
  {
   "cell_type": "code",
   "execution_count": null,
   "metadata": {},
   "outputs": [],
   "source": [
    "options = uc.ChromeOptions()\n",
    "options.add_argument(\"user-agent=Mozilla/5.0 (Windows NT 10.0; Win64; x64) AppleWebKit/537.36 (KHTML, like Gecko) Chrome/126.0.0.0 Safari/537.36\")\n",
    "\n",
    "driver = uc.Chrome(options)\n",
    "driver.get(\"https://www.homedepot.com/p/Glacier-Bay-12-inch-Rough-In-Two-Piece-1-28-GPF-Single-Flush-Round-Toilet-in-White-Seat-Included-N2428R/329463560\")\n",
    "time.sleep(5)"
   ]
  },
  {
   "cell_type": "code",
   "execution_count": null,
   "metadata": {},
   "outputs": [],
   "source": [
    "username = WebDriverWait(driver, 4).until(EC.element_to_be_clickable((By.CSS_SELECTOR, \"input[name = 'username']\")))\n",
    "password = WebDriverWait(driver, 4).until(EC.element_to_be_clickable((By.CSS_SELECTOR, \"input[name = 'password']\")))\n",
    "\n",
    "username.clear()\n",
    "password.clear()\n",
    "\n",
    "username.send_keys('mrgt.e')\n",
    "password.send_keys('@ThatGuy01')\n",
    "login = WebDriverWait(driver, 4).until(EC.element_to_be_clickable((By.CSS_SELECTOR, \"button[type = 'submit']\"))).click()\n"
   ]
  },
  {
   "cell_type": "code",
   "execution_count": 23,
   "metadata": {},
   "outputs": [],
   "source": [
    "driver.find_element(By.CSS_SELECTOR, \"div[role='button']\").click()\n",
    "driver.find_element(By.CSS_SELECTOR, \"button._a9--._ap36._a9_1\").click()"
   ]
  },
  {
   "cell_type": "code",
   "execution_count": 31,
   "metadata": {},
   "outputs": [],
   "source": [
    "driver.find_element(By.CSS_SELECTOR, \"div.x1n2onr6 div a\").click()"
   ]
  }
 ],
 "metadata": {
  "kernelspec": {
   "display_name": "venv",
   "language": "python",
   "name": "python3"
  },
  "language_info": {
   "codemirror_mode": {
    "name": "ipython",
    "version": 3
   },
   "file_extension": ".py",
   "mimetype": "text/x-python",
   "name": "python",
   "nbconvert_exporter": "python",
   "pygments_lexer": "ipython3",
<<<<<<< HEAD
   "version": "3.12.4"
=======
   "version": "3.11.4"
>>>>>>> 1ff89e236cfa99f3b6d17dd1e3f685fc56a56747
  }
 },
 "nbformat": 4,
 "nbformat_minor": 2
}
