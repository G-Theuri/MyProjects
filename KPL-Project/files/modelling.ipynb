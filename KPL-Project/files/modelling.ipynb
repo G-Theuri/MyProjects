{
 "cells": [
  {
   "cell_type": "code",
   "execution_count": 19,
   "metadata": {},
   "outputs": [],
   "source": [
    "import pandas as pd"
   ]
  },
  {
   "cell_type": "code",
   "execution_count": 20,
   "metadata": {},
   "outputs": [],
   "source": [
    "game = pd.read_csv('C:/myprojects/KPL-Project/data/Seasons/2014/rounds.csv')\n",
    "table = pd.read_csv('C:/myprojects/KPL-Project/data/Seasons/2014/table.csv')"
   ]
  },
  {
   "cell_type": "code",
   "execution_count": 21,
   "metadata": {},
   "outputs": [],
   "source": [
    "\n",
    "game['Date'] = pd.to_datetime(game['Date'])"
   ]
  },
  {
   "cell_type": "code",
   "execution_count": null,
   "metadata": {},
   "outputs": [],
   "source": [
    "matchdim = game[['MatchID', 'Date', 'MatchStatus', 'HomeTeamName', 'AwayTeamName']].drop_duplicates().reset_index(drop=True)\n",
    "matchdim.set_index('MatchID')\n"
   ]
  },
  {
   "cell_type": "code",
   "execution_count": null,
   "metadata": {},
   "outputs": [],
   "source": [
    "hometeamdim = game[['HomeTeamName', 'HomeScoreFT']].drop_duplicates().reset_index(drop=True)\n",
    "hometeamdim.set_index('HomeTeamName')"
   ]
  },
  {
   "cell_type": "code",
   "execution_count": null,
   "metadata": {},
   "outputs": [],
   "source": [
    "awayteamdim = game[['AwayTeamName', 'AwayScoreFT']].drop_duplicates().reset_index(drop=True)\n",
    "awayteamdim.set_index('AwayTeamName')"
   ]
  },
  {
   "cell_type": "code",
   "execution_count": null,
   "metadata": {},
   "outputs": [],
   "source": [
    "teamdim = table[['TeamID', 'TeamName', 'NameCode', 'TeamColors']].drop_duplicates().reset_index(drop=True)\n",
    "teamdim.set_index('TeamID')"
   ]
  },
  {
   "cell_type": "code",
   "execution_count": null,
   "metadata": {},
   "outputs": [],
   "source": [
    "standingsdim = table[['NameCode','Position','Played', 'Won', 'Drawn', 'Lost', 'GF', 'GA']].drop_duplicates().reset_index(drop=True)\n",
    "standingsdim.set_index('NameCode')"
   ]
  },
  {
   "cell_type": "code",
   "execution_count": null,
   "metadata": {},
   "outputs": [],
   "source": [
    "facttable = game.merge(matchdim, on='MatchID')\\\n",
    "                .merge(teamdim, on='TeamID')\\\n",
    "                [['Round']]\n",
    "facttable"
   ]
  }
 ],
 "metadata": {
  "kernelspec": {
   "display_name": "venv",
   "language": "python",
   "name": "python3"
  },
  "language_info": {
   "codemirror_mode": {
    "name": "ipython",
    "version": 3
   },
   "file_extension": ".py",
   "mimetype": "text/x-python",
   "name": "python",
   "nbconvert_exporter": "python",
   "pygments_lexer": "ipython3",
   "version": "3.11.4"
  }
 },
 "nbformat": 4,
 "nbformat_minor": 2
}
