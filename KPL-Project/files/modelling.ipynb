{
 "cells": [
  {
   "cell_type": "code",
   "execution_count": 1,
   "metadata": {},
   "outputs": [],
   "source": [
    "import pandas as pd"
   ]
  },
  {
   "cell_type": "code",
   "execution_count": 2,
   "metadata": {},
   "outputs": [],
   "source": [
    "game = pd.read_csv('C:/myprojects/KPL-Project/data/Seasons/2014/rounds.csv')\n",
    "table = pd.read_csv('C:/myprojects/KPL-Project/data/Seasons/2014/table.csv')"
   ]
  },
  {
   "cell_type": "code",
   "execution_count": 3,
   "metadata": {},
   "outputs": [],
   "source": [
    "\n",
    "game['Date'] = pd.to_datetime(game['Date'])"
   ]
  },
  {
   "cell_type": "code",
   "execution_count": 4,
   "metadata": {},
   "outputs": [
    {
     "name": "stdout",
     "output_type": "stream",
     "text": [
      "<class 'pandas.core.frame.DataFrame'>\n",
      "RangeIndex: 254 entries, 0 to 253\n",
      "Data columns (total 16 columns):\n",
      " #   Column            Non-Null Count  Dtype         \n",
      "---  ------            --------------  -----         \n",
      " 0   Tournament        254 non-null    object        \n",
      " 1   Season            254 non-null    int64         \n",
      " 2   Round             254 non-null    int64         \n",
      " 3   Date              254 non-null    datetime64[ns]\n",
      " 4   StartTime         254 non-null    object        \n",
      " 5   MatchID           254 non-null    int64         \n",
      " 6   MatchCustomID     254 non-null    object        \n",
      " 7   MatchStatus       254 non-null    object        \n",
      " 8   HomeTeamName      254 non-null    object        \n",
      " 9   HomeTeamNameCode  254 non-null    object        \n",
      " 10  HomeTeamID        254 non-null    int64         \n",
      " 11  AwayTeamName      254 non-null    object        \n",
      " 12  AwayTeamNameCode  254 non-null    object        \n",
      " 13  AwayTeamID        254 non-null    int64         \n",
      " 14  HomeScoreFT       254 non-null    object        \n",
      " 15  AwayScoreFT       254 non-null    object        \n",
      "dtypes: datetime64[ns](1), int64(5), object(10)\n",
      "memory usage: 31.9+ KB\n"
     ]
    }
   ],
   "source": [
    "game.info()"
   ]
  },
  {
   "cell_type": "code",
   "execution_count": null,
   "metadata": {},
   "outputs": [],
   "source": [
    "teamdim = game[['TeamID', 'TeamName', 'NameCode', 'TeamColors']].drop_duplicates().reset_index(drop=True)\n",
    "teamdim.set_index('TeamID')\n"
   ]
  },
  {
   "cell_type": "code",
   "execution_count": null,
   "metadata": {},
   "outputs": [],
   "source": [
    "tournamentdim = game[[]].drop_duplicates().reset_index(drop=True)\n",
    "tournamentdim.set_index('HomeTeamName')"
   ]
  },
  {
   "cell_type": "code",
   "execution_count": null,
   "metadata": {},
   "outputs": [],
   "source": [
    "seasondim = game[[]].drop_duplicates().reset_index(drop=True)\n",
    "seasondim.set_index('AwayTeamName')"
   ]
  },
  {
   "cell_type": "code",
   "execution_count": null,
   "metadata": {},
   "outputs": [],
   "source": [
    "facttable = game.merge(teamdim, on='HomeTeamID')\\\n",
    "                .merge(teamdim, on='AwayTeamID')\\\n",
    "                .merge(tournamentdim, on='AwayTeamID')\\\n",
    "                .merge(seasondim, on='AwayTeamID')\\\n",
    "                [['Round']]\n",
    "facttable"
   ]
  }
 ],
 "metadata": {
  "kernelspec": {
   "display_name": "venv",
   "language": "python",
   "name": "python3"
  },
  "language_info": {
   "codemirror_mode": {
    "name": "ipython",
    "version": 3
   },
   "file_extension": ".py",
   "mimetype": "text/x-python",
   "name": "python",
   "nbconvert_exporter": "python",
   "pygments_lexer": "ipython3",
   "version": "3.12.4"
  }
 },
 "nbformat": 4,
 "nbformat_minor": 2
}
