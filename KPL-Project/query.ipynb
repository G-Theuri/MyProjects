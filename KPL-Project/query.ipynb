{
 "cells": [
  {
   "cell_type": "code",
   "execution_count": 2,
   "metadata": {},
   "outputs": [],
   "source": [
    "import pandas as pd"
   ]
  },
  {
   "cell_type": "code",
   "execution_count": 16,
   "metadata": {},
   "outputs": [
    {
     "name": "stdout",
     "output_type": "stream",
     "text": [
      "<class 'pandas.core.frame.DataFrame'>\n",
      "RangeIndex: 254 entries, 0 to 253\n",
      "Data columns (total 16 columns):\n",
      " #   Column            Non-Null Count  Dtype \n",
      "---  ------            --------------  ----- \n",
      " 0   Tournament        254 non-null    object\n",
      " 1   Season            254 non-null    int64 \n",
      " 2   Round             254 non-null    int64 \n",
      " 3   Date              254 non-null    object\n",
      " 4   StartTime         254 non-null    object\n",
      " 5   MatchID           254 non-null    int64 \n",
      " 6   MatchCustomID     254 non-null    object\n",
      " 7   MatchStatus       254 non-null    object\n",
      " 8   HomeTeamName      254 non-null    object\n",
      " 9   HomeTeamNameCode  254 non-null    object\n",
      " 10  HomeTeamID        254 non-null    int64 \n",
      " 11  AwayTeamName      254 non-null    object\n",
      " 12  AwayTeamNameCode  254 non-null    object\n",
      " 13  AwayTeamID        254 non-null    int64 \n",
      " 14  HomeScoreFT       254 non-null    object\n",
      " 15  AwayScoreFT       254 non-null    object\n",
      "dtypes: int64(5), object(11)\n",
      "memory usage: 31.9+ KB\n"
     ]
    }
   ],
   "source": [
    "df = pd.read_csv('data/Seasons/2014/rounds.csv')\n",
    "#df[['HomeTeamnNameCode','AwayTeamNameCode','HomeScoreFT','AwayScoreFT']].head()\n",
    "#df.loc[df['HomeScoreFT']=='-']\n",
    "df.info()"
   ]
  }
 ],
 "metadata": {
  "kernelspec": {
   "display_name": "venv",
   "language": "python",
   "name": "python3"
  },
  "language_info": {
   "codemirror_mode": {
    "name": "ipython",
    "version": 3
   },
   "file_extension": ".py",
   "mimetype": "text/x-python",
   "name": "python",
   "nbconvert_exporter": "python",
   "pygments_lexer": "ipython3",
   "version": "3.11.4"
  }
 },
 "nbformat": 4,
 "nbformat_minor": 2
}
